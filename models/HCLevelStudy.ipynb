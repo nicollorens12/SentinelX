{
 "cells": [
  {
   "cell_type": "markdown",
   "metadata": {},
   "source": [
    "# Hierarchy Classification\n",
    "\n",
    "`Disclaimer`: Este notebook debe ejecutarse con un Kernel de Python 3.10 (Tensorflow da problemas con Python 3.12)\n",
    "\n",
    "Queremos implementar un solo modelo que incorpore jerarquías (por ejemplo, BENIGN → Web Attack → Subtipo de Web Attack), podemos usar un modelo multicapa jerárquico:\n",
    "\n",
    "Entrenaremos un modelo con múltiples salidas, donde cada salida represente un nivel de la jerarquía.\n",
    "\n",
    "Ejemplo:\n",
    "\n",
    "    - Nivel 1: BENIGN vs MALICIOUS.\n",
    "\n",
    "    - Nivel 2: Si es MALICIOUS, clasifica entre DDoS, PortScan, y WebAttack.\n",
    "\n",
    "    - Nivel 3: Si es WebAttack, clasifica entre Brute Force, XSS, SQL Injection.\n",
    "\n",
    "Esto puede implementarse usando redes neuronales con varias capas de salida o con varios modelos encadenados.\n"
   ]
  },
  {
   "cell_type": "code",
   "execution_count": 1,
   "metadata": {
    "vscode": {
     "languageId": "powershell"
    }
   },
   "outputs": [
    {
     "name": "stdout",
     "output_type": "stream",
     "text": [
      "Python 3.9.6\n"
     ]
    }
   ],
   "source": [
    "!python --version\n"
   ]
  },
  {
   "cell_type": "code",
   "execution_count": 2,
   "metadata": {
    "vscode": {
     "languageId": "powershell"
    }
   },
   "outputs": [],
   "source": [
    "#!pip install pandas\n",
    "#!pip install matplotlib\n",
    "#!pip install seaborn\n",
    "#!pip install imbalanced-learn\n",
    "#!pip install tensorflow"
   ]
  },
  {
   "cell_type": "code",
   "execution_count": 3,
   "metadata": {},
   "outputs": [
    {
     "name": "stderr",
     "output_type": "stream",
     "text": [
      "/Users/nico/Desktop/UPC/PAE/SentinelX/.venv/lib/python3.9/site-packages/urllib3/__init__.py:35: NotOpenSSLWarning: urllib3 v2 only supports OpenSSL 1.1.1+, currently the 'ssl' module is compiled with 'LibreSSL 2.8.3'. See: https://github.com/urllib3/urllib3/issues/3020\n",
      "  warnings.warn(\n"
     ]
    }
   ],
   "source": [
    "import pandas as pd\n",
    "import numpy as np\n",
    "import matplotlib.pyplot as plt\n",
    "import seaborn as sns\n",
    "from imblearn.over_sampling import SMOTE\n",
    "from sklearn.ensemble import RandomForestClassifier\n",
    "from sklearn.decomposition import PCA\n",
    "from sklearn.preprocessing import StandardScaler, LabelEncoder\n",
    "from sklearn.cluster import KMeans\n",
    "from sklearn.model_selection import train_test_split\n",
    "from sklearn.metrics import classification_report, confusion_matrix, ConfusionMatrixDisplay, accuracy_score, precision_score, recall_score, f1_score, roc_curve, auc\n",
    "from sklearn.preprocessing import MinMaxScaler\n",
    "\n",
    "\n",
    "import tensorflow as tf\n",
    "from tensorflow.keras.models import Sequential\n",
    "from tensorflow.keras.layers import Dense, Dropout, BatchNormalization\n",
    "from tensorflow.keras.optimizers import Adam\n",
    "from tensorflow.keras.utils import to_categorical\n",
    "from keras.callbacks import EarlyStopping, ModelCheckpoint\n",
    "from keras.regularizers import l2\n",
    "\n",
    "\n"
   ]
  },
  {
   "cell_type": "markdown",
   "metadata": {},
   "source": [
    "## Preprocesado\n",
    "\n",
    "Seguiremos el mismo preprocesado que en el documento anterior *DataAnalysis.ipynb*. Con la diferencia de que tendremos 3 datasets con la variable objetivo *\"AttackType\"* de mas a menos compactada."
   ]
  },
  {
   "cell_type": "code",
   "execution_count": 4,
   "metadata": {},
   "outputs": [],
   "source": [
    "dataDdos = pd.read_csv('Datasets/Friday-WorkingHours-Afternoon-DDos.pcap_ISCX.csv')\n",
    "dataPortScan = pd.read_csv('Datasets/Friday-WorkingHours-Afternoon-PortScan.pcap_ISCX.csv')\n",
    "dataWebAttacks = pd.read_csv('Datasets/Thursday-WorkingHours-Morning-WebAttacks.pcap_ISCX.csv')"
   ]
  },
  {
   "cell_type": "markdown",
   "metadata": {},
   "source": [
    "Como ya sabemos que los Datasets tienen las mismas variables, no hace falta volverlo a comprobar."
   ]
  },
  {
   "cell_type": "code",
   "execution_count": 5,
   "metadata": {},
   "outputs": [],
   "source": [
    "data = pd.concat([dataDdos, dataPortScan, dataWebAttacks], ignore_index=True)\n",
    "\n",
    "data.rename(columns={' Label': 'AttackType'}, inplace=True)\n",
    "data.replace([np.inf, -np.inf], np.nan, inplace=True)\n",
    "nan_values = data.isna().sum().sum()\n",
    "\n",
    "data.dropna(inplace=True)"
   ]
  },
  {
   "cell_type": "markdown",
   "metadata": {},
   "source": [
    "Como hemos visto anteriormente en las clases de Web Attack hay un caracter desconocido:\n",
    "Web Attack � Brute Force, queremos sustituir � por -"
   ]
  },
  {
   "cell_type": "code",
   "execution_count": 6,
   "metadata": {},
   "outputs": [
    {
     "name": "stdout",
     "output_type": "stream",
     "text": [
      "AttackType\n",
      "BENIGN                        393029\n",
      "PortScan                      158804\n",
      "DDoS                          128025\n",
      "Web Attack - Brute Force        1507\n",
      "Web Attack - XSS                 652\n",
      "Web Attack - Sql Injection        21\n",
      "Name: count, dtype: int64\n"
     ]
    }
   ],
   "source": [
    "data['AttackType'] = data['AttackType'].str.replace('�', '-')\n",
    "data.columns = data.columns.str.strip()\n",
    "print(data['AttackType'].value_counts())"
   ]
  },
  {
   "cell_type": "markdown",
   "metadata": {},
   "source": [
    "Como hemos visto en el anterior estudio, hacer oversampling haciendo uso de SMOTE Algorithm para generar datos sintetico y balancear las clases ha funcionado bastante bien asi que volveremos a hacerlo."
   ]
  },
  {
   "cell_type": "code",
   "execution_count": 7,
   "metadata": {},
   "outputs": [],
   "source": [
    "X = data.drop(columns=['AttackType'])\n",
    "y = data['AttackType']"
   ]
  },
  {
   "cell_type": "markdown",
   "metadata": {},
   "source": [
    "## Nivel 1: BENIGN vs MALIGN\n",
    "\n",
    "Para el primer nivel de jerarquia debemos detectar simplemente si hay o no amenaza. Para ello, compactaremos todas las clases de ataques en una sola clase llamada MALIGN y el modelo debera hacer la clasificación binaria."
   ]
  },
  {
   "cell_type": "code",
   "execution_count": 8,
   "metadata": {},
   "outputs": [
    {
     "name": "stdout",
     "output_type": "stream",
     "text": [
      "AttackType\n",
      "BENIGN                        393029\n",
      "PortScan                      158804\n",
      "DDoS                          128025\n",
      "Web Attack - Brute Force       50000\n",
      "Web Attack - XSS               50000\n",
      "Web Attack - Sql Injection     50000\n",
      "Name: count, dtype: int64\n"
     ]
    }
   ],
   "source": [
    "target_classes = {\n",
    "    \"Web Attack - Brute Force\": 50000,\n",
    "    \"Web Attack - XSS\": 50000,\n",
    "    \"Web Attack - Sql Injection\": 50000\n",
    "}\n",
    "\n",
    "smote = SMOTE(sampling_strategy=target_classes, random_state=42)\n",
    "X_resampled, y_resampled = smote.fit_resample(X, y)\n",
    "\n",
    "print(y_resampled.value_counts())"
   ]
  },
  {
   "cell_type": "markdown",
   "metadata": {},
   "source": [
    "Ahora podemos compactar los distintos ataques en MALIGN obteniendo un dataset balanceado"
   ]
  },
  {
   "cell_type": "code",
   "execution_count": 9,
   "metadata": {},
   "outputs": [
    {
     "name": "stdout",
     "output_type": "stream",
     "text": [
      "AttackType\n",
      "MALIGN    436829\n",
      "BENIGN    393029\n",
      "Name: count, dtype: int64\n"
     ]
    }
   ],
   "source": [
    "y_resampled = y_resampled.apply(lambda x: 'MALIGN' if x != 'BENIGN' else x)\n",
    "print(y_resampled.value_counts())"
   ]
  },
  {
   "cell_type": "markdown",
   "metadata": {},
   "source": [
    "### Random Forest"
   ]
  },
  {
   "cell_type": "code",
   "execution_count": 10,
   "metadata": {},
   "outputs": [
    {
     "name": "stdout",
     "output_type": "stream",
     "text": [
      "              precision    recall  f1-score   support\n",
      "\n",
      "      BENIGN       1.00      1.00      1.00     78505\n",
      "      MALIGN       1.00      1.00      1.00     87467\n",
      "\n",
      "    accuracy                           1.00    165972\n",
      "   macro avg       1.00      1.00      1.00    165972\n",
      "weighted avg       1.00      1.00      1.00    165972\n",
      "\n"
     ]
    }
   ],
   "source": [
    "rf = RandomForestClassifier(n_estimators=100, random_state=42)\n",
    "\n",
    "X_train, X_test, y_train, y_test = train_test_split(X_resampled, y_resampled, test_size=0.2, random_state=42)\n",
    "\n",
    "rf.fit(X_train, y_train)\n",
    "\n",
    "y_pred = rf.predict(X_test)\n",
    "\n",
    "print(classification_report(y_test, y_pred))"
   ]
  },
  {
   "cell_type": "code",
   "execution_count": 11,
   "metadata": {},
   "outputs": [
    {
     "data": {
      "image/png": "[encoded data removed]",
      "text/plain": [
       "<Figure size 640x480 with 1 Axes>"
      ]
     },
     "metadata": {},
     "output_type": "display_data"
    }
   ],
   "source": [
    "y_pred_proba = rf.predict_proba(X_test)[:, 1]\n",
    "\n",
    "fpr, tpr, _ = roc_curve(y_test.map({'BENIGN': 0, 'MALIGN': 1}), y_pred_proba)\n",
    "roc_auc = auc(fpr, tpr)\n",
    "\n",
    "plt.figure()\n",
    "plt.plot(fpr, tpr, color='darkorange', lw=2, label='ROC curve (area = %0.2f)' % roc_auc)\n",
    "plt.plot([0, 1], [0, 1], color='navy', lw=2, linestyle='--')\n",
    "plt.xlim([0.0, 1.0])\n",
    "plt.ylim([0.0, 1.05])\n",
    "plt.xlabel('False Positive Rate')\n",
    "plt.ylabel('True Positive Rate')\n",
    "plt.title('Receiver Operating Characteristic')\n",
    "plt.legend(loc=\"lower right\")\n",
    "plt.show()"
   ]
  },
  {
   "cell_type": "code",
   "execution_count": 12,
   "metadata": {},
   "outputs": [
    {
     "name": "stdout",
     "output_type": "stream",
     "text": [
      "Model saved to LayerModels/lvl1_rf_model.pkl\n"
     ]
    }
   ],
   "source": [
    "import joblib\n",
    "\n",
    "joblib_file = \"LayerModels/lvl1_rf_model.pkl\"\n",
    "joblib.dump(rf, joblib_file)\n",
    "\n",
    "print(\"Model saved to\", joblib_file)\n"
   ]
  },
  {
   "cell_type": "markdown",
   "metadata": {},
   "source": [
    "## Nivel 2\n",
    "\n",
    "Ahora queremos compactar nuestro dataset original a 3 classes, DDoS, PortScan y WebAttack."
   ]
  },
  {
   "cell_type": "code",
   "execution_count": 13,
   "metadata": {},
   "outputs": [
    {
     "name": "stdout",
     "output_type": "stream",
     "text": [
      "AttackType\n",
      "PortScan                      158804\n",
      "DDoS                          128025\n",
      "Web Attack - Brute Force       50000\n",
      "Web Attack - XSS               50000\n",
      "Web Attack - Sql Injection     50000\n",
      "Name: count, dtype: int64\n"
     ]
    }
   ],
   "source": [
    "X_2 = X[y != 'BENIGN']\n",
    "y_2 = y[y != 'BENIGN']\n",
    "\n",
    "target_classes = {\n",
    "    \"Web Attack - Brute Force\": 50000,\n",
    "    \"Web Attack - XSS\": 50000,\n",
    "    \"Web Attack - Sql Injection\": 50000\n",
    "}\n",
    "\n",
    "smote = SMOTE(sampling_strategy=target_classes, random_state=42)\n",
    "X_resampled, y_resampled = smote.fit_resample(X_2, y_2)\n",
    "\n",
    "print(y_resampled.value_counts())"
   ]
  },
  {
   "cell_type": "code",
   "execution_count": 14,
   "metadata": {},
   "outputs": [
    {
     "name": "stdout",
     "output_type": "stream",
     "text": [
      "AttackType\n",
      "PortScan     158804\n",
      "WebAttack    150000\n",
      "DDoS         128025\n",
      "Name: count, dtype: int64\n"
     ]
    }
   ],
   "source": [
    "y_resampled = y_resampled.apply(lambda x: 'WebAttack' if \"Web Attack\" in x else x)\n",
    "print(y_resampled.value_counts())"
   ]
  },
  {
   "cell_type": "markdown",
   "metadata": {},
   "source": [
    "Como los ataques pueden tener cierto tipo de similaridad entre ellos, y ya vimos en el estudio inicial que no hay relaciones lineal entre variables y variable objetivo. El nivel dos usaremos un modelo mas complejo, una NN. Las NN requieren de un preprocesamiento extra:\n",
    "\n",
    "- **Datos normalizados**: Usaremos MinMaxScaler.\n",
    "\n",
    "- **Evitar redundancia y ruido**: Si los resultados no son buenos, trataremos esto, ya que puede ser al haber hecho un oversampling tan fuerte.\n",
    "\n",
    "- **Codificación de etiquetas**: Usaremos LabelEncoding."
   ]
  },
  {
   "cell_type": "code",
   "execution_count": 15,
   "metadata": {},
   "outputs": [
    {
     "data": {
      "text/html": [
       "<div>\n",
       "<style scoped>\n",
       "    .dataframe tbody tr th:only-of-type {\n",
       "        vertical-align: middle;\n",
       "    }\n",
       "\n",
       "    .dataframe tbody tr th {\n",
       "        vertical-align: top;\n",
       "    }\n",
       "\n",
       "    .dataframe thead th {\n",
       "        text-align: right;\n",
       "    }\n",
       "</style>\n",
       "<table border=\"1\" class=\"dataframe\">\n",
       "  <thead>\n",
       "    <tr style=\"text-align: right;\">\n",
       "      <th></th>\n",
       "      <th>Destination Port</th>\n",
       "      <th>Flow Duration</th>\n",
       "      <th>Total Fwd Packets</th>\n",
       "      <th>Total Backward Packets</th>\n",
       "      <th>Total Length of Fwd Packets</th>\n",
       "      <th>Total Length of Bwd Packets</th>\n",
       "      <th>Fwd Packet Length Max</th>\n",
       "      <th>Fwd Packet Length Min</th>\n",
       "      <th>Fwd Packet Length Mean</th>\n",
       "      <th>Fwd Packet Length Std</th>\n",
       "      <th>...</th>\n",
       "      <th>act_data_pkt_fwd</th>\n",
       "      <th>min_seg_size_forward</th>\n",
       "      <th>Active Mean</th>\n",
       "      <th>Active Std</th>\n",
       "      <th>Active Max</th>\n",
       "      <th>Active Min</th>\n",
       "      <th>Idle Mean</th>\n",
       "      <th>Idle Std</th>\n",
       "      <th>Idle Max</th>\n",
       "      <th>Idle Min</th>\n",
       "    </tr>\n",
       "  </thead>\n",
       "  <tbody>\n",
       "    <tr>\n",
       "      <th>count</th>\n",
       "      <td>436829.000000</td>\n",
       "      <td>4.368290e+05</td>\n",
       "      <td>436829.000000</td>\n",
       "      <td>436829.000000</td>\n",
       "      <td>436829.000000</td>\n",
       "      <td>436829.000000</td>\n",
       "      <td>436829.000000</td>\n",
       "      <td>436829.000000</td>\n",
       "      <td>436829.000000</td>\n",
       "      <td>436829.000000</td>\n",
       "      <td>...</td>\n",
       "      <td>436829.000000</td>\n",
       "      <td>436829.000000</td>\n",
       "      <td>436829.000000</td>\n",
       "      <td>436829.000000</td>\n",
       "      <td>436829.000000</td>\n",
       "      <td>436829.000000</td>\n",
       "      <td>436829.000000</td>\n",
       "      <td>436829.000000</td>\n",
       "      <td>436829.000000</td>\n",
       "      <td>436829.000000</td>\n",
       "    </tr>\n",
       "    <tr>\n",
       "      <th>mean</th>\n",
       "      <td>0.048726</td>\n",
       "      <td>5.696206e-02</td>\n",
       "      <td>0.015874</td>\n",
       "      <td>0.023876</td>\n",
       "      <td>0.008814</td>\n",
       "      <td>0.017548</td>\n",
       "      <td>0.077294</td>\n",
       "      <td>0.020820</td>\n",
       "      <td>0.054172</td>\n",
       "      <td>0.071048</td>\n",
       "      <td>...</td>\n",
       "      <td>0.018636</td>\n",
       "      <td>0.712515</td>\n",
       "      <td>0.011773</td>\n",
       "      <td>0.000004</td>\n",
       "      <td>0.011773</td>\n",
       "      <td>0.011772</td>\n",
       "      <td>0.029514</td>\n",
       "      <td>0.020427</td>\n",
       "      <td>0.037254</td>\n",
       "      <td>0.021774</td>\n",
       "    </tr>\n",
       "    <tr>\n",
       "      <th>std</th>\n",
       "      <td>0.139010</td>\n",
       "      <td>1.558565e-01</td>\n",
       "      <td>0.087120</td>\n",
       "      <td>0.083442</td>\n",
       "      <td>0.084829</td>\n",
       "      <td>0.063907</td>\n",
       "      <td>0.237774</td>\n",
       "      <td>0.039344</td>\n",
       "      <td>0.153388</td>\n",
       "      <td>0.225241</td>\n",
       "      <td>...</td>\n",
       "      <td>0.091734</td>\n",
       "      <td>0.182372</td>\n",
       "      <td>0.086864</td>\n",
       "      <td>0.001800</td>\n",
       "      <td>0.086866</td>\n",
       "      <td>0.086863</td>\n",
       "      <td>0.115330</td>\n",
       "      <td>0.122943</td>\n",
       "      <td>0.143324</td>\n",
       "      <td>0.101981</td>\n",
       "    </tr>\n",
       "    <tr>\n",
       "      <th>min</th>\n",
       "      <td>0.000000</td>\n",
       "      <td>0.000000e+00</td>\n",
       "      <td>0.000000</td>\n",
       "      <td>0.000000</td>\n",
       "      <td>0.000000</td>\n",
       "      <td>0.000000</td>\n",
       "      <td>0.000000</td>\n",
       "      <td>0.000000</td>\n",
       "      <td>0.000000</td>\n",
       "      <td>0.000000</td>\n",
       "      <td>...</td>\n",
       "      <td>0.000000</td>\n",
       "      <td>0.000000</td>\n",
       "      <td>0.000000</td>\n",
       "      <td>0.000000</td>\n",
       "      <td>0.000000</td>\n",
       "      <td>0.000000</td>\n",
       "      <td>0.000000</td>\n",
       "      <td>0.000000</td>\n",
       "      <td>0.000000</td>\n",
       "      <td>0.000000</td>\n",
       "    </tr>\n",
       "    <tr>\n",
       "      <th>25%</th>\n",
       "      <td>0.001223</td>\n",
       "      <td>4.423681e-07</td>\n",
       "      <td>0.000000</td>\n",
       "      <td>0.008772</td>\n",
       "      <td>0.000000</td>\n",
       "      <td>0.000000</td>\n",
       "      <td>0.000000</td>\n",
       "      <td>0.000000</td>\n",
       "      <td>0.000000</td>\n",
       "      <td>0.000000</td>\n",
       "      <td>...</td>\n",
       "      <td>0.000000</td>\n",
       "      <td>0.500000</td>\n",
       "      <td>0.000000</td>\n",
       "      <td>0.000000</td>\n",
       "      <td>0.000000</td>\n",
       "      <td>0.000000</td>\n",
       "      <td>0.000000</td>\n",
       "      <td>0.000000</td>\n",
       "      <td>0.000000</td>\n",
       "      <td>0.000000</td>\n",
       "    </tr>\n",
       "    <tr>\n",
       "      <th>50%</th>\n",
       "      <td>0.001223</td>\n",
       "      <td>4.932713e-03</td>\n",
       "      <td>0.009479</td>\n",
       "      <td>0.008772</td>\n",
       "      <td>0.000041</td>\n",
       "      <td>0.000033</td>\n",
       "      <td>0.003322</td>\n",
       "      <td>0.000000</td>\n",
       "      <td>0.008288</td>\n",
       "      <td>0.000000</td>\n",
       "      <td>...</td>\n",
       "      <td>0.000000</td>\n",
       "      <td>0.800000</td>\n",
       "      <td>0.000000</td>\n",
       "      <td>0.000000</td>\n",
       "      <td>0.000000</td>\n",
       "      <td>0.000000</td>\n",
       "      <td>0.000000</td>\n",
       "      <td>0.000000</td>\n",
       "      <td>0.000000</td>\n",
       "      <td>0.000000</td>\n",
       "    </tr>\n",
       "    <tr>\n",
       "      <th>75%</th>\n",
       "      <td>0.022940</td>\n",
       "      <td>4.471076e-02</td>\n",
       "      <td>0.009479</td>\n",
       "      <td>0.035088</td>\n",
       "      <td>0.000531</td>\n",
       "      <td>0.005890</td>\n",
       "      <td>0.033223</td>\n",
       "      <td>0.041667</td>\n",
       "      <td>0.029009</td>\n",
       "      <td>0.018794</td>\n",
       "      <td>...</td>\n",
       "      <td>0.019802</td>\n",
       "      <td>0.800000</td>\n",
       "      <td>0.000000</td>\n",
       "      <td>0.000000</td>\n",
       "      <td>0.000000</td>\n",
       "      <td>0.000000</td>\n",
       "      <td>0.000000</td>\n",
       "      <td>0.000000</td>\n",
       "      <td>0.000000</td>\n",
       "      <td>0.000000</td>\n",
       "    </tr>\n",
       "    <tr>\n",
       "      <th>max</th>\n",
       "      <td>1.000000</td>\n",
       "      <td>1.000000e+00</td>\n",
       "      <td>1.000000</td>\n",
       "      <td>1.000000</td>\n",
       "      <td>1.000000</td>\n",
       "      <td>1.000000</td>\n",
       "      <td>1.000000</td>\n",
       "      <td>1.000000</td>\n",
       "      <td>1.000000</td>\n",
       "      <td>1.000000</td>\n",
       "      <td>...</td>\n",
       "      <td>1.000000</td>\n",
       "      <td>1.000000</td>\n",
       "      <td>1.000000</td>\n",
       "      <td>1.000000</td>\n",
       "      <td>1.000000</td>\n",
       "      <td>1.000000</td>\n",
       "      <td>1.000000</td>\n",
       "      <td>1.000000</td>\n",
       "      <td>1.000000</td>\n",
       "      <td>1.000000</td>\n",
       "    </tr>\n",
       "  </tbody>\n",
       "</table>\n",
       "<p>8 rows × 78 columns</p>\n",
       "</div>"
      ],
      "text/plain": [
       "       Destination Port  Flow Duration  Total Fwd Packets  \\\n",
       "count     436829.000000   4.368290e+05      436829.000000   \n",
       "mean           0.048726   5.696206e-02           0.015874   \n",
       "std            0.139010   1.558565e-01           0.087120   \n",
       "min            0.000000   0.000000e+00           0.000000   \n",
       "25%            0.001223   4.423681e-07           0.000000   \n",
       "50%            0.001223   4.932713e-03           0.009479   \n",
       "75%            0.022940   4.471076e-02           0.009479   \n",
       "max            1.000000   1.000000e+00           1.000000   \n",
       "\n",
       "       Total Backward Packets  Total Length of Fwd Packets  \\\n",
       "count           436829.000000                436829.000000   \n",
       "mean                 0.023876                     0.008814   \n",
       "std                  0.083442                     0.084829   \n",
       "min                  0.000000                     0.000000   \n",
       "25%                  0.008772                     0.000000   \n",
       "50%                  0.008772                     0.000041   \n",
       "75%                  0.035088                     0.000531   \n",
       "max                  1.000000                     1.000000   \n",
       "\n",
       "       Total Length of Bwd Packets  Fwd Packet Length Max  \\\n",
       "count                436829.000000          436829.000000   \n",
       "mean                      0.017548               0.077294   \n",
       "std                       0.063907               0.237774   \n",
       "min                       0.000000               0.000000   \n",
       "25%                       0.000000               0.000000   \n",
       "50%                       0.000033               0.003322   \n",
       "75%                       0.005890               0.033223   \n",
       "max                       1.000000               1.000000   \n",
       "\n",
       "       Fwd Packet Length Min  Fwd Packet Length Mean  Fwd Packet Length Std  \\\n",
       "count          436829.000000           436829.000000          436829.000000   \n",
       "mean                0.020820                0.054172               0.071048   \n",
       "std                 0.039344                0.153388               0.225241   \n",
       "min                 0.000000                0.000000               0.000000   \n",
       "25%                 0.000000                0.000000               0.000000   \n",
       "50%                 0.000000                0.008288               0.000000   \n",
       "75%                 0.041667                0.029009               0.018794   \n",
       "max                 1.000000                1.000000               1.000000   \n",
       "\n",
       "       ...  act_data_pkt_fwd  min_seg_size_forward    Active Mean  \\\n",
       "count  ...     436829.000000         436829.000000  436829.000000   \n",
       "mean   ...          0.018636              0.712515       0.011773   \n",
       "std    ...          0.091734              0.182372       0.086864   \n",
       "min    ...          0.000000              0.000000       0.000000   \n",
       "25%    ...          0.000000              0.500000       0.000000   \n",
       "50%    ...          0.000000              0.800000       0.000000   \n",
       "75%    ...          0.019802              0.800000       0.000000   \n",
       "max    ...          1.000000              1.000000       1.000000   \n",
       "\n",
       "          Active Std     Active Max     Active Min      Idle Mean  \\\n",
       "count  436829.000000  436829.000000  436829.000000  436829.000000   \n",
       "mean        0.000004       0.011773       0.011772       0.029514   \n",
       "std         0.001800       0.086866       0.086863       0.115330   \n",
       "min         0.000000       0.000000       0.000000       0.000000   \n",
       "25%         0.000000       0.000000       0.000000       0.000000   \n",
       "50%         0.000000       0.000000       0.000000       0.000000   \n",
       "75%         0.000000       0.000000       0.000000       0.000000   \n",
       "max         1.000000       1.000000       1.000000       1.000000   \n",
       "\n",
       "            Idle Std       Idle Max       Idle Min  \n",
       "count  436829.000000  436829.000000  436829.000000  \n",
       "mean        0.020427       0.037254       0.021774  \n",
       "std         0.122943       0.143324       0.101981  \n",
       "min         0.000000       0.000000       0.000000  \n",
       "25%         0.000000       0.000000       0.000000  \n",
       "50%         0.000000       0.000000       0.000000  \n",
       "75%         0.000000       0.000000       0.000000  \n",
       "max         1.000000       1.000000       1.000000  \n",
       "\n",
       "[8 rows x 78 columns]"
      ]
     },
     "execution_count": 15,
     "metadata": {},
     "output_type": "execute_result"
    }
   ],
   "source": [
    "scaler = MinMaxScaler()\n",
    "X_resampled_scaled = scaler.fit_transform(X_resampled)\n",
    "\n",
    "X_resampled_scaled = pd.DataFrame(X_resampled_scaled, columns=X_resampled.columns)\n",
    "\n",
    "X_resampled_scaled.describe()"
   ]
  },
  {
   "cell_type": "code",
   "execution_count": 16,
   "metadata": {},
   "outputs": [
    {
     "name": "stdout",
     "output_type": "stream",
     "text": [
      "{np.int64(0): np.int64(128025), np.int64(1): np.int64(158804), np.int64(2): np.int64(150000)}\n"
     ]
    }
   ],
   "source": [
    "label_encoder = LabelEncoder()\n",
    "y_resampled_encoded = label_encoder.fit_transform(y_resampled)\n",
    "unique, counts = np.unique(y_resampled_encoded, return_counts=True)\n",
    "print(dict(zip(unique, counts)))"
   ]
  },
  {
   "cell_type": "code",
   "execution_count": 17,
   "metadata": {},
   "outputs": [
    {
     "name": "stdout",
     "output_type": "stream",
     "text": [
      "Epoch 1/50\n"
     ]
    },
    {
     "name": "stderr",
     "output_type": "stream",
     "text": [
      "/Users/nico/Desktop/UPC/PAE/SentinelX/.venv/lib/python3.9/site-packages/keras/src/layers/core/dense.py:87: UserWarning: Do not pass an `input_shape`/`input_dim` argument to a layer. When using Sequential models, prefer using an `Input(shape)` object as the first layer in the model instead.\n",
      "  super().__init__(activity_regularizer=activity_regularizer, **kwargs)\n"
     ]
    },
    {
     "name": "stdout",
     "output_type": "stream",
     "text": [
      "\u001b[1m8737/8737\u001b[0m \u001b[32m━━━━━━━━━━━━━━━━━━━━\u001b[0m\u001b[37m\u001b[0m \u001b[1m4s\u001b[0m 398us/step - accuracy: 0.9931 - loss: 0.0376 - val_accuracy: 0.9996 - val_loss: 0.0013\n",
      "Epoch 2/50\n",
      "\u001b[1m8737/8737\u001b[0m \u001b[32m━━━━━━━━━━━━━━━━━━━━\u001b[0m\u001b[37m\u001b[0m \u001b[1m3s\u001b[0m 388us/step - accuracy: 0.9996 - loss: 0.0021 - val_accuracy: 0.9997 - val_loss: 0.0014\n",
      "Epoch 3/50\n",
      "\u001b[1m8737/8737\u001b[0m \u001b[32m━━━━━━━━━━━━━━━━━━━━\u001b[0m\u001b[37m\u001b[0m \u001b[1m3s\u001b[0m 386us/step - accuracy: 0.9997 - loss: 0.0018 - val_accuracy: 0.9998 - val_loss: 9.1995e-04\n",
      "Epoch 4/50\n",
      "\u001b[1m8737/8737\u001b[0m \u001b[32m━━━━━━━━━━━━━━━━━━━━\u001b[0m\u001b[37m\u001b[0m \u001b[1m3s\u001b[0m 387us/step - accuracy: 0.9997 - loss: 0.0015 - val_accuracy: 0.9998 - val_loss: 8.7715e-04\n",
      "Epoch 5/50\n",
      "\u001b[1m8737/8737\u001b[0m \u001b[32m━━━━━━━━━━━━━━━━━━━━\u001b[0m\u001b[37m\u001b[0m \u001b[1m3s\u001b[0m 385us/step - accuracy: 0.9997 - loss: 0.0016 - val_accuracy: 0.9998 - val_loss: 8.6629e-04\n",
      "Epoch 6/50\n",
      "\u001b[1m8737/8737\u001b[0m \u001b[32m━━━━━━━━━━━━━━━━━━━━\u001b[0m\u001b[37m\u001b[0m \u001b[1m3s\u001b[0m 385us/step - accuracy: 0.9998 - loss: 0.0016 - val_accuracy: 0.9997 - val_loss: 0.0012\n",
      "Epoch 7/50\n",
      "\u001b[1m8737/8737\u001b[0m \u001b[32m━━━━━━━━━━━━━━━━━━━━\u001b[0m\u001b[37m\u001b[0m \u001b[1m4s\u001b[0m 408us/step - accuracy: 0.9998 - loss: 0.0019 - val_accuracy: 0.9999 - val_loss: 0.0011\n",
      "Epoch 8/50\n",
      "\u001b[1m8737/8737\u001b[0m \u001b[32m━━━━━━━━━━━━━━━━━━━━\u001b[0m\u001b[37m\u001b[0m \u001b[1m3s\u001b[0m 390us/step - accuracy: 0.9998 - loss: 0.0017 - val_accuracy: 0.9999 - val_loss: 7.3191e-04\n",
      "Epoch 9/50\n",
      "\u001b[1m8737/8737\u001b[0m \u001b[32m━━━━━━━━━━━━━━━━━━━━\u001b[0m\u001b[37m\u001b[0m \u001b[1m3s\u001b[0m 383us/step - accuracy: 0.9999 - loss: 0.0011 - val_accuracy: 1.0000 - val_loss: 5.7023e-04\n",
      "Epoch 10/50\n",
      "\u001b[1m8737/8737\u001b[0m \u001b[32m━━━━━━━━━━━━━━━━━━━━\u001b[0m\u001b[37m\u001b[0m \u001b[1m3s\u001b[0m 387us/step - accuracy: 0.9998 - loss: 0.0014 - val_accuracy: 1.0000 - val_loss: 5.2140e-04\n",
      "Epoch 11/50\n",
      "\u001b[1m8737/8737\u001b[0m \u001b[32m━━━━━━━━━━━━━━━━━━━━\u001b[0m\u001b[37m\u001b[0m \u001b[1m3s\u001b[0m 384us/step - accuracy: 0.9998 - loss: 9.2036e-04 - val_accuracy: 1.0000 - val_loss: 6.0596e-04\n",
      "Epoch 12/50\n",
      "\u001b[1m8737/8737\u001b[0m \u001b[32m━━━━━━━━━━━━━━━━━━━━\u001b[0m\u001b[37m\u001b[0m \u001b[1m3s\u001b[0m 384us/step - accuracy: 0.9998 - loss: 0.0015 - val_accuracy: 1.0000 - val_loss: 6.2404e-04\n",
      "Epoch 13/50\n",
      "\u001b[1m8737/8737\u001b[0m \u001b[32m━━━━━━━━━━━━━━━━━━━━\u001b[0m\u001b[37m\u001b[0m \u001b[1m3s\u001b[0m 385us/step - accuracy: 0.9999 - loss: 0.0010 - val_accuracy: 1.0000 - val_loss: 6.4424e-04\n",
      "Epoch 14/50\n",
      "\u001b[1m8737/8737\u001b[0m \u001b[32m━━━━━━━━━━━━━━━━━━━━\u001b[0m\u001b[37m\u001b[0m \u001b[1m3s\u001b[0m 383us/step - accuracy: 0.9999 - loss: 0.0012 - val_accuracy: 1.0000 - val_loss: 7.1091e-04\n",
      "Epoch 15/50\n",
      "\u001b[1m8737/8737\u001b[0m \u001b[32m━━━━━━━━━━━━━━━━━━━━\u001b[0m\u001b[37m\u001b[0m \u001b[1m3s\u001b[0m 386us/step - accuracy: 0.9999 - loss: 7.9904e-04 - val_accuracy: 1.0000 - val_loss: 5.2757e-04\n",
      "Epoch 16/50\n",
      "\u001b[1m8737/8737\u001b[0m \u001b[32m━━━━━━━━━━━━━━━━━━━━\u001b[0m\u001b[37m\u001b[0m \u001b[1m3s\u001b[0m 385us/step - accuracy: 0.9999 - loss: 0.0014 - val_accuracy: 1.0000 - val_loss: 6.2984e-04\n",
      "Epoch 17/50\n",
      "\u001b[1m8737/8737\u001b[0m \u001b[32m━━━━━━━━━━━━━━━━━━━━\u001b[0m\u001b[37m\u001b[0m \u001b[1m3s\u001b[0m 383us/step - accuracy: 0.9999 - loss: 0.0011 - val_accuracy: 1.0000 - val_loss: 5.9225e-04\n",
      "Epoch 18/50\n",
      "\u001b[1m8737/8737\u001b[0m \u001b[32m━━━━━━━━━━━━━━━━━━━━\u001b[0m\u001b[37m\u001b[0m \u001b[1m3s\u001b[0m 387us/step - accuracy: 0.9999 - loss: 0.0015 - val_accuracy: 1.0000 - val_loss: 5.0038e-04\n",
      "Epoch 19/50\n",
      "\u001b[1m8737/8737\u001b[0m \u001b[32m━━━━━━━━━━━━━━━━━━━━\u001b[0m\u001b[37m\u001b[0m \u001b[1m3s\u001b[0m 383us/step - accuracy: 0.9999 - loss: 6.8259e-04 - val_accuracy: 1.0000 - val_loss: 4.6145e-04\n",
      "Epoch 20/50\n",
      "\u001b[1m8737/8737\u001b[0m \u001b[32m━━━━━━━━━━━━━━━━━━━━\u001b[0m\u001b[37m\u001b[0m \u001b[1m3s\u001b[0m 388us/step - accuracy: 0.9999 - loss: 0.0013 - val_accuracy: 1.0000 - val_loss: 9.8442e-05\n",
      "Epoch 21/50\n",
      "\u001b[1m8737/8737\u001b[0m \u001b[32m━━━━━━━━━━━━━━━━━━━━\u001b[0m\u001b[37m\u001b[0m \u001b[1m3s\u001b[0m 384us/step - accuracy: 0.9999 - loss: 0.0010 - val_accuracy: 1.0000 - val_loss: 2.7979e-04\n",
      "Epoch 22/50\n",
      "\u001b[1m8737/8737\u001b[0m \u001b[32m━━━━━━━━━━━━━━━━━━━━\u001b[0m\u001b[37m\u001b[0m \u001b[1m3s\u001b[0m 387us/step - accuracy: 0.9999 - loss: 0.0013 - val_accuracy: 0.9999 - val_loss: 8.6463e-04\n",
      "Epoch 23/50\n",
      "\u001b[1m8737/8737\u001b[0m \u001b[32m━━━━━━━━━━━━━━━━━━━━\u001b[0m\u001b[37m\u001b[0m \u001b[1m3s\u001b[0m 383us/step - accuracy: 0.9999 - loss: 6.9721e-04 - val_accuracy: 1.0000 - val_loss: 3.2170e-04\n",
      "Epoch 24/50\n",
      "\u001b[1m8737/8737\u001b[0m \u001b[32m━━━━━━━━━━━━━━━━━━━━\u001b[0m\u001b[37m\u001b[0m \u001b[1m3s\u001b[0m 388us/step - accuracy: 0.9999 - loss: 0.0014 - val_accuracy: 1.0000 - val_loss: 1.5232e-04\n",
      "Epoch 25/50\n",
      "\u001b[1m8737/8737\u001b[0m \u001b[32m━━━━━━━━━━━━━━━━━━━━\u001b[0m\u001b[37m\u001b[0m \u001b[1m3s\u001b[0m 383us/step - accuracy: 0.9999 - loss: 9.9755e-04 - val_accuracy: 1.0000 - val_loss: 5.0549e-04\n",
      "Epoch 26/50\n",
      "\u001b[1m8737/8737\u001b[0m \u001b[32m━━━━━━━━━━━━━━━━━━━━\u001b[0m\u001b[37m\u001b[0m \u001b[1m3s\u001b[0m 387us/step - accuracy: 0.9999 - loss: 0.0012 - val_accuracy: 1.0000 - val_loss: 8.2680e-04\n",
      "Epoch 27/50\n",
      "\u001b[1m8737/8737\u001b[0m \u001b[32m━━━━━━━━━━━━━━━━━━━━\u001b[0m\u001b[37m\u001b[0m \u001b[1m3s\u001b[0m 383us/step - accuracy: 0.9999 - loss: 0.0021 - val_accuracy: 1.0000 - val_loss: 1.3547e-04\n",
      "Epoch 28/50\n",
      "\u001b[1m8737/8737\u001b[0m \u001b[32m━━━━━━━━━━━━━━━━━━━━\u001b[0m\u001b[37m\u001b[0m \u001b[1m3s\u001b[0m 387us/step - accuracy: 0.9999 - loss: 0.0062 - val_accuracy: 1.0000 - val_loss: 8.4642e-05\n",
      "Epoch 29/50\n",
      "\u001b[1m8737/8737\u001b[0m \u001b[32m━━━━━━━━━━━━━━━━━━━━\u001b[0m\u001b[37m\u001b[0m \u001b[1m3s\u001b[0m 383us/step - accuracy: 0.9999 - loss: 6.1440e-04 - val_accuracy: 1.0000 - val_loss: 9.7578e-05\n",
      "Epoch 30/50\n",
      "\u001b[1m8737/8737\u001b[0m \u001b[32m━━━━━━━━━━━━━━━━━━━━\u001b[0m\u001b[37m\u001b[0m \u001b[1m3s\u001b[0m 387us/step - accuracy: 0.9999 - loss: 0.0010 - val_accuracy: 1.0000 - val_loss: 1.4186e-04\n",
      "Epoch 31/50\n",
      "\u001b[1m8737/8737\u001b[0m \u001b[32m━━━━━━━━━━━━━━━━━━━━\u001b[0m\u001b[37m\u001b[0m \u001b[1m3s\u001b[0m 383us/step - accuracy: 0.9999 - loss: 0.0010 - val_accuracy: 1.0000 - val_loss: 8.8777e-05\n",
      "Epoch 32/50\n",
      "\u001b[1m8737/8737\u001b[0m \u001b[32m━━━━━━━━━━━━━━━━━━━━\u001b[0m\u001b[37m\u001b[0m \u001b[1m3s\u001b[0m 389us/step - accuracy: 0.9999 - loss: 8.2302e-04 - val_accuracy: 1.0000 - val_loss: 9.9941e-05\n",
      "Epoch 33/50\n",
      "\u001b[1m8737/8737\u001b[0m \u001b[32m━━━━━━━━━━━━━━━━━━━━\u001b[0m\u001b[37m\u001b[0m \u001b[1m3s\u001b[0m 384us/step - accuracy: 0.9999 - loss: 0.0013 - val_accuracy: 1.0000 - val_loss: 1.0829e-04\n",
      "Epoch 34/50\n",
      "\u001b[1m8737/8737\u001b[0m \u001b[32m━━━━━━━━━━━━━━━━━━━━\u001b[0m\u001b[37m\u001b[0m \u001b[1m3s\u001b[0m 393us/step - accuracy: 0.9999 - loss: 7.7846e-04 - val_accuracy: 1.0000 - val_loss: 1.1721e-04\n",
      "Epoch 35/50\n",
      "\u001b[1m8737/8737\u001b[0m \u001b[32m━━━━━━━━━━━━━━━━━━━━\u001b[0m\u001b[37m\u001b[0m \u001b[1m4s\u001b[0m 415us/step - accuracy: 0.9999 - loss: 0.0011 - val_accuracy: 1.0000 - val_loss: 9.4077e-04\n",
      "Epoch 36/50\n",
      "\u001b[1m8737/8737\u001b[0m \u001b[32m━━━━━━━━━━━━━━━━━━━━\u001b[0m\u001b[37m\u001b[0m \u001b[1m4s\u001b[0m 404us/step - accuracy: 0.9999 - loss: 0.0015 - val_accuracy: 1.0000 - val_loss: 4.7486e-04\n",
      "Epoch 37/50\n",
      "\u001b[1m8737/8737\u001b[0m \u001b[32m━━━━━━━━━━━━━━━━━━━━\u001b[0m\u001b[37m\u001b[0m \u001b[1m3s\u001b[0m 396us/step - accuracy: 0.9999 - loss: 0.0017 - val_accuracy: 1.0000 - val_loss: 1.2636e-04\n",
      "Epoch 38/50\n",
      "\u001b[1m8737/8737\u001b[0m \u001b[32m━━━━━━━━━━━━━━━━━━━━\u001b[0m\u001b[37m\u001b[0m \u001b[1m4s\u001b[0m 404us/step - accuracy: 0.9999 - loss: 0.0011 - val_accuracy: 1.0000 - val_loss: 0.0010\n",
      "Epoch 39/50\n",
      "\u001b[1m8737/8737\u001b[0m \u001b[32m━━━━━━━━━━━━━━━━━━━━\u001b[0m\u001b[37m\u001b[0m \u001b[1m4s\u001b[0m 417us/step - accuracy: 0.9999 - loss: 0.0016 - val_accuracy: 1.0000 - val_loss: 3.3061e-04\n",
      "Epoch 40/50\n",
      "\u001b[1m8737/8737\u001b[0m \u001b[32m━━━━━━━━━━━━━━━━━━━━\u001b[0m\u001b[37m\u001b[0m \u001b[1m3s\u001b[0m 392us/step - accuracy: 0.9999 - loss: 0.0011 - val_accuracy: 1.0000 - val_loss: 2.9915e-04\n",
      "Epoch 41/50\n",
      "\u001b[1m8737/8737\u001b[0m \u001b[32m━━━━━━━━━━━━━━━━━━━━\u001b[0m\u001b[37m\u001b[0m \u001b[1m3s\u001b[0m 387us/step - accuracy: 0.9999 - loss: 9.7944e-04 - val_accuracy: 1.0000 - val_loss: 2.8376e-04\n",
      "Epoch 42/50\n",
      "\u001b[1m8737/8737\u001b[0m \u001b[32m━━━━━━━━━━━━━━━━━━━━\u001b[0m\u001b[37m\u001b[0m \u001b[1m3s\u001b[0m 392us/step - accuracy: 0.9999 - loss: 8.5398e-04 - val_accuracy: 1.0000 - val_loss: 2.7959e-04\n",
      "Epoch 43/50\n",
      "\u001b[1m8737/8737\u001b[0m \u001b[32m━━━━━━━━━━━━━━━━━━━━\u001b[0m\u001b[37m\u001b[0m \u001b[1m3s\u001b[0m 391us/step - accuracy: 0.9999 - loss: 0.0014 - val_accuracy: 1.0000 - val_loss: 1.4592e-04\n",
      "Epoch 44/50\n",
      "\u001b[1m8737/8737\u001b[0m \u001b[32m━━━━━━━━━━━━━━━━━━━━\u001b[0m\u001b[37m\u001b[0m \u001b[1m3s\u001b[0m 393us/step - accuracy: 0.9999 - loss: 0.0021 - val_accuracy: 1.0000 - val_loss: 8.0218e-04\n",
      "Epoch 45/50\n",
      "\u001b[1m8737/8737\u001b[0m \u001b[32m━━━━━━━━━━━━━━━━━━━━\u001b[0m\u001b[37m\u001b[0m \u001b[1m3s\u001b[0m 388us/step - accuracy: 0.9999 - loss: 0.0020 - val_accuracy: 1.0000 - val_loss: 2.2959e-04\n",
      "Epoch 46/50\n",
      "\u001b[1m8737/8737\u001b[0m \u001b[32m━━━━━━━━━━━━━━━━━━━━\u001b[0m\u001b[37m\u001b[0m \u001b[1m3s\u001b[0m 395us/step - accuracy: 0.9999 - loss: 7.8033e-04 - val_accuracy: 1.0000 - val_loss: 9.6545e-05\n",
      "Epoch 47/50\n",
      "\u001b[1m8737/8737\u001b[0m \u001b[32m━━━━━━━━━━━━━━━━━━━━\u001b[0m\u001b[37m\u001b[0m \u001b[1m3s\u001b[0m 391us/step - accuracy: 0.9999 - loss: 9.6446e-04 - val_accuracy: 1.0000 - val_loss: 1.0683e-04\n",
      "Epoch 48/50\n",
      "\u001b[1m8737/8737\u001b[0m \u001b[32m━━━━━━━━━━━━━━━━━━━━\u001b[0m\u001b[37m\u001b[0m \u001b[1m3s\u001b[0m 398us/step - accuracy: 0.9999 - loss: 0.0011 - val_accuracy: 1.0000 - val_loss: 1.1530e-04\n",
      "Epoch 49/50\n",
      "\u001b[1m8737/8737\u001b[0m \u001b[32m━━━━━━━━━━━━━━━━━━━━\u001b[0m\u001b[37m\u001b[0m \u001b[1m4s\u001b[0m 417us/step - accuracy: 0.9999 - loss: 0.0012 - val_accuracy: 1.0000 - val_loss: 1.0910e-04\n",
      "Epoch 50/50\n",
      "\u001b[1m8737/8737\u001b[0m \u001b[32m━━━━━━━━━━━━━━━━━━━━\u001b[0m\u001b[37m\u001b[0m \u001b[1m4s\u001b[0m 402us/step - accuracy: 0.9999 - loss: 8.3345e-04 - val_accuracy: 1.0000 - val_loss: 9.2019e-05\n",
      "\u001b[1m2731/2731\u001b[0m \u001b[32m━━━━━━━━━━━━━━━━━━━━\u001b[0m\u001b[37m\u001b[0m \u001b[1m1s\u001b[0m 220us/step - accuracy: 0.9999 - loss: 0.0029\n",
      "Test Accuracy: 1.00\n"
     ]
    }
   ],
   "source": [
    "X_train, X_test, y_train, y_test = train_test_split(X_resampled_scaled, y_resampled_encoded, test_size=0.2, random_state=42)\n",
    "\n",
    "\n",
    "model = Sequential([\n",
    "    Dense(128, activation='relu', input_dim=X_train.shape[1]),  # Primera capa oculta con 128 nodos\n",
    "    Dropout(0.3),  # Dropout para prevenir sobreajuste\n",
    "    Dense(64, activation='relu'),  # Segunda capa oculta con 64 nodos\n",
    "    Dropout(0.3),\n",
    "    Dense(3, activation='softmax')  # Capa de salida para clasificación multiclase (3 clases)\n",
    "])\n",
    "\n",
    "# 6. Compilar el modelo\n",
    "model.compile(optimizer=Adam(learning_rate=0.001),\n",
    "              loss='categorical_crossentropy',  # Para problemas multiclase\n",
    "              metrics=['accuracy'])\n",
    "\n",
    "y_train_one_hot = to_categorical(y_train, num_classes=3)\n",
    "y_test_one_hot = to_categorical(y_test, num_classes=3)\n",
    "\n",
    "# Entrenar el modelo\n",
    "history = model.fit(X_train, y_train_one_hot, epochs=50, batch_size=32, validation_split=0.2, verbose=1)\n",
    "\n",
    "# Evaluar el modelo\n",
    "test_loss, test_accuracy = model.evaluate(X_test, y_test_one_hot)\n",
    "print(f\"Test Accuracy: {test_accuracy:.2f}\")"
   ]
  },
  {
   "cell_type": "code",
   "execution_count": 18,
   "metadata": {},
   "outputs": [
    {
     "name": "stdout",
     "output_type": "stream",
     "text": [
      "\u001b[1m2731/2731\u001b[0m \u001b[32m━━━━━━━━━━━━━━━━━━━━\u001b[0m\u001b[37m\u001b[0m \u001b[1m1s\u001b[0m 226us/step\n"
     ]
    },
    {
     "data": {
      "image/png": "[encoded data removed]",
      "text/plain": [
       "<Figure size 640x480 with 2 Axes>"
      ]
     },
     "metadata": {},
     "output_type": "display_data"
    },
    {
     "name": "stdout",
     "output_type": "stream",
     "text": [
      "Accuracy: 1.00\n",
      "Precision: 1.00\n",
      "Recall: 1.00\n",
      "F1 Score: 1.00\n"
     ]
    }
   ],
   "source": [
    "\n",
    "# Predict the labels for the test set\n",
    "y_pred_nn = model.predict(X_test)\n",
    "y_pred_nn_classes = np.argmax(y_pred_nn, axis=1)\n",
    "\n",
    "# Compute the confusion matrix\n",
    "cm = confusion_matrix(y_test, y_pred_nn_classes)\n",
    "\n",
    "# Plot the confusion matrix\n",
    "disp = ConfusionMatrixDisplay(confusion_matrix=cm, display_labels=label_encoder.classes_)\n",
    "disp.plot(cmap=plt.cm.Blues)\n",
    "plt.title('Confusion Matrix')\n",
    "plt.show()\n",
    "\n",
    "# Calculate and print other performance metrics\n",
    "accuracy = accuracy_score(y_test, y_pred_nn_classes)\n",
    "precision = precision_score(y_test, y_pred_nn_classes, average='weighted')\n",
    "recall = recall_score(y_test, y_pred_nn_classes, average='weighted')\n",
    "f1 = f1_score(y_test, y_pred_nn_classes, average='weighted')\n",
    "\n",
    "print(f'Accuracy: {accuracy:.2f}')\n",
    "print(f'Precision: {precision:.2f}')\n",
    "print(f'Recall: {recall:.2f}')\n",
    "print(f'F1 Score: {f1:.2f}')"
   ]
  },
  {
   "cell_type": "markdown",
   "metadata": {},
   "source": [
    "Como podemos ver en todas las metricas, los resultados son excelentes en esta detección de ataques por lo que añadiremos en el nivel 2 de la jerarquia este modelo."
   ]
  },
  {
   "cell_type": "code",
   "execution_count": 19,
   "metadata": {},
   "outputs": [
    {
     "name": "stdout",
     "output_type": "stream",
     "text": [
      "Model saved to LayerModels/lvl2_nn_model.keras\n"
     ]
    }
   ],
   "source": [
    "import joblib\n",
    "\n",
    "joblib_file = \"LayerModels/lvl2_nn_model.keras\"\n",
    "joblib.dump(model, joblib_file)\n",
    "\n",
    "print(\"Model saved to\", joblib_file)"
   ]
  },
  {
   "cell_type": "code",
   "execution_count": 20,
   "metadata": {},
   "outputs": [
    {
     "name": "stdout",
     "output_type": "stream",
     "text": [
      "\u001b[1m2731/2731\u001b[0m \u001b[32m━━━━━━━━━━━━━━━━━━━━\u001b[0m\u001b[37m\u001b[0m \u001b[1m1s\u001b[0m 226us/step\n"
     ]
    },
    {
     "data": {
      "image/png": "[encoded data removed]",
      "text/plain": [
       "<Figure size 640x480 with 2 Axes>"
      ]
     },
     "metadata": {},
     "output_type": "display_data"
    },
    {
     "name": "stdout",
     "output_type": "stream",
     "text": [
      "Accuracy: 1.00\n",
      "Precision: 1.00\n",
      "Recall: 1.00\n",
      "F1 Score: 1.00\n"
     ]
    }
   ],
   "source": [
    "nn = tf.keras.models.load_model('LayerModels/lvl2_nn_model.keras')\n",
    "\n",
    "y_pred_nn = nn.predict(X_test)\n",
    "y_pred_nn_classes = np.argmax(y_pred_nn, axis=1)\n",
    "\n",
    "# Compute the confusion matrix\n",
    "cm = confusion_matrix(y_test, y_pred_nn_classes)\n",
    "\n",
    "# Plot the confusion matrix\n",
    "disp = ConfusionMatrixDisplay(confusion_matrix=cm, display_labels=label_encoder.classes_)\n",
    "disp.plot(cmap=plt.cm.Blues)\n",
    "plt.title('Confusion Matrix')\n",
    "plt.show()\n",
    "\n",
    "# Calculate and print other performance metrics\n",
    "accuracy = accuracy_score(y_test, y_pred_nn_classes)\n",
    "precision = precision_score(y_test, y_pred_nn_classes, average='weighted')\n",
    "recall = recall_score(y_test, y_pred_nn_classes, average='weighted')\n",
    "f1 = f1_score(y_test, y_pred_nn_classes, average='weighted')\n",
    "\n",
    "print(f'Accuracy: {accuracy:.2f}')\n",
    "print(f'Precision: {precision:.2f}')\n",
    "print(f'Recall: {recall:.2f}')\n",
    "print(f'F1 Score: {f1:.2f}')"
   ]
  },
  {
   "cell_type": "markdown",
   "metadata": {},
   "source": [
    "## Nivel 3\n",
    "\n",
    "Ahora queremos compactar nuestro dataset original a 3 Brute Force, XSS y SQL Injection. Para llegar a este nivel, se deberá haber conseguido una respuesta MALIGN en el Nivel 1 y WebAttack en el Nivel 2."
   ]
  },
  {
   "cell_type": "code",
   "execution_count": 21,
   "metadata": {},
   "outputs": [
    {
     "name": "stderr",
     "output_type": "stream",
     "text": [
      "/var/folders/1c/k17dvp9157q8zrkvz60k2wsm0000gn/T/ipykernel_39830/1064163699.py:1: UserWarning: Boolean Series key will be reindexed to match DataFrame index.\n",
      "  X_3 = X_2[(y != 'PortScan') & (y != 'DDoS')]\n"
     ]
    },
    {
     "name": "stdout",
     "output_type": "stream",
     "text": [
      "AttackType\n",
      "Web Attack - Brute Force      50000\n",
      "Web Attack - XSS              50000\n",
      "Web Attack - Sql Injection    50000\n",
      "Name: count, dtype: int64\n"
     ]
    }
   ],
   "source": [
    "X_3 = X_2[(y != 'PortScan') & (y != 'DDoS')]\n",
    "y_3 = y_2[(y != 'PortScan') & (y != 'DDoS')]\n",
    "\n",
    "target_classes = {\n",
    "    \"Web Attack - Brute Force\": 50000,\n",
    "    \"Web Attack - XSS\": 50000,\n",
    "    \"Web Attack - Sql Injection\": 50000\n",
    "}\n",
    "\n",
    "smote = SMOTE(sampling_strategy=target_classes, random_state=42)\n",
    "X_resampled, y_resampled = smote.fit_resample(X_3, y_3)\n",
    "\n",
    "print(y_resampled.value_counts())"
   ]
  },
  {
   "cell_type": "code",
   "execution_count": 22,
   "metadata": {},
   "outputs": [
    {
     "name": "stdout",
     "output_type": "stream",
     "text": [
      "AttackType\n",
      "BruteForce      50000\n",
      "XSS             50000\n",
      "SQLInjection    50000\n",
      "Name: count, dtype: int64\n"
     ]
    }
   ],
   "source": [
    "# Reemplazar las etiquetas de las clases Web Attack con una sola clase \"WebAttack\"\n",
    "y_resampled = y_resampled.replace({\n",
    "    \"Web Attack - Brute Force\": \"BruteForce\",\n",
    "    \"Web Attack - XSS\": \"XSS\",\n",
    "    \"Web Attack - Sql Injection\": \"SQLInjection\"\n",
    "})\n",
    "\n",
    "# Verificar los conteos para asegurarse del cambio\n",
    "print(y_resampled.value_counts())\n"
   ]
  },
  {
   "cell_type": "code",
   "execution_count": 23,
   "metadata": {},
   "outputs": [
    {
     "data": {
      "text/html": [
       "<div>\n",
       "<style scoped>\n",
       "    .dataframe tbody tr th:only-of-type {\n",
       "        vertical-align: middle;\n",
       "    }\n",
       "\n",
       "    .dataframe tbody tr th {\n",
       "        vertical-align: top;\n",
       "    }\n",
       "\n",
       "    .dataframe thead th {\n",
       "        text-align: right;\n",
       "    }\n",
       "</style>\n",
       "<table border=\"1\" class=\"dataframe\">\n",
       "  <thead>\n",
       "    <tr style=\"text-align: right;\">\n",
       "      <th></th>\n",
       "      <th>Destination Port</th>\n",
       "      <th>Flow Duration</th>\n",
       "      <th>Total Fwd Packets</th>\n",
       "      <th>Total Backward Packets</th>\n",
       "      <th>Total Length of Fwd Packets</th>\n",
       "      <th>Total Length of Bwd Packets</th>\n",
       "      <th>Fwd Packet Length Max</th>\n",
       "      <th>Fwd Packet Length Min</th>\n",
       "      <th>Fwd Packet Length Mean</th>\n",
       "      <th>Fwd Packet Length Std</th>\n",
       "      <th>...</th>\n",
       "      <th>act_data_pkt_fwd</th>\n",
       "      <th>min_seg_size_forward</th>\n",
       "      <th>Active Mean</th>\n",
       "      <th>Active Std</th>\n",
       "      <th>Active Max</th>\n",
       "      <th>Active Min</th>\n",
       "      <th>Idle Mean</th>\n",
       "      <th>Idle Std</th>\n",
       "      <th>Idle Max</th>\n",
       "      <th>Idle Min</th>\n",
       "    </tr>\n",
       "  </thead>\n",
       "  <tbody>\n",
       "    <tr>\n",
       "      <th>count</th>\n",
       "      <td>150000.0</td>\n",
       "      <td>150000.000000</td>\n",
       "      <td>150000.000000</td>\n",
       "      <td>150000.000000</td>\n",
       "      <td>150000.000000</td>\n",
       "      <td>150000.000000</td>\n",
       "      <td>150000.000000</td>\n",
       "      <td>150000.0</td>\n",
       "      <td>150000.000000</td>\n",
       "      <td>150000.000000</td>\n",
       "      <td>...</td>\n",
       "      <td>150000.000000</td>\n",
       "      <td>150000.0</td>\n",
       "      <td>150000.0</td>\n",
       "      <td>150000.0</td>\n",
       "      <td>150000.0</td>\n",
       "      <td>150000.0</td>\n",
       "      <td>150000.0</td>\n",
       "      <td>150000.0</td>\n",
       "      <td>150000.0</td>\n",
       "      <td>150000.0</td>\n",
       "    </tr>\n",
       "    <tr>\n",
       "      <th>mean</th>\n",
       "      <td>0.0</td>\n",
       "      <td>0.075709</td>\n",
       "      <td>0.032093</td>\n",
       "      <td>0.035824</td>\n",
       "      <td>0.025087</td>\n",
       "      <td>0.016773</td>\n",
       "      <td>0.202093</td>\n",
       "      <td>0.0</td>\n",
       "      <td>0.127151</td>\n",
       "      <td>0.190537</td>\n",
       "      <td>...</td>\n",
       "      <td>0.026429</td>\n",
       "      <td>0.0</td>\n",
       "      <td>0.0</td>\n",
       "      <td>0.0</td>\n",
       "      <td>0.0</td>\n",
       "      <td>0.0</td>\n",
       "      <td>0.0</td>\n",
       "      <td>0.0</td>\n",
       "      <td>0.0</td>\n",
       "      <td>0.0</td>\n",
       "    </tr>\n",
       "    <tr>\n",
       "      <th>std</th>\n",
       "      <td>0.0</td>\n",
       "      <td>0.101546</td>\n",
       "      <td>0.146638</td>\n",
       "      <td>0.139445</td>\n",
       "      <td>0.143361</td>\n",
       "      <td>0.101700</td>\n",
       "      <td>0.374878</td>\n",
       "      <td>0.0</td>\n",
       "      <td>0.244993</td>\n",
       "      <td>0.354401</td>\n",
       "      <td>...</td>\n",
       "      <td>0.153982</td>\n",
       "      <td>0.0</td>\n",
       "      <td>0.0</td>\n",
       "      <td>0.0</td>\n",
       "      <td>0.0</td>\n",
       "      <td>0.0</td>\n",
       "      <td>0.0</td>\n",
       "      <td>0.0</td>\n",
       "      <td>0.0</td>\n",
       "      <td>0.0</td>\n",
       "    </tr>\n",
       "    <tr>\n",
       "      <th>min</th>\n",
       "      <td>0.0</td>\n",
       "      <td>0.000000</td>\n",
       "      <td>0.000000</td>\n",
       "      <td>0.000000</td>\n",
       "      <td>0.000000</td>\n",
       "      <td>0.000000</td>\n",
       "      <td>0.000000</td>\n",
       "      <td>0.0</td>\n",
       "      <td>0.000000</td>\n",
       "      <td>0.000000</td>\n",
       "      <td>...</td>\n",
       "      <td>0.000000</td>\n",
       "      <td>0.0</td>\n",
       "      <td>0.0</td>\n",
       "      <td>0.0</td>\n",
       "      <td>0.0</td>\n",
       "      <td>0.0</td>\n",
       "      <td>0.0</td>\n",
       "      <td>0.0</td>\n",
       "      <td>0.0</td>\n",
       "      <td>0.0</td>\n",
       "    </tr>\n",
       "    <tr>\n",
       "      <th>25%</th>\n",
       "      <td>0.0</td>\n",
       "      <td>0.071333</td>\n",
       "      <td>0.009479</td>\n",
       "      <td>0.008772</td>\n",
       "      <td>0.000000</td>\n",
       "      <td>0.000000</td>\n",
       "      <td>0.000000</td>\n",
       "      <td>0.0</td>\n",
       "      <td>0.000000</td>\n",
       "      <td>0.000000</td>\n",
       "      <td>...</td>\n",
       "      <td>0.000000</td>\n",
       "      <td>0.0</td>\n",
       "      <td>0.0</td>\n",
       "      <td>0.0</td>\n",
       "      <td>0.0</td>\n",
       "      <td>0.0</td>\n",
       "      <td>0.0</td>\n",
       "      <td>0.0</td>\n",
       "      <td>0.0</td>\n",
       "      <td>0.0</td>\n",
       "    </tr>\n",
       "    <tr>\n",
       "      <th>50%</th>\n",
       "      <td>0.0</td>\n",
       "      <td>0.073931</td>\n",
       "      <td>0.009479</td>\n",
       "      <td>0.008772</td>\n",
       "      <td>0.000000</td>\n",
       "      <td>0.000000</td>\n",
       "      <td>0.000000</td>\n",
       "      <td>0.0</td>\n",
       "      <td>0.000000</td>\n",
       "      <td>0.000000</td>\n",
       "      <td>...</td>\n",
       "      <td>0.000000</td>\n",
       "      <td>0.0</td>\n",
       "      <td>0.0</td>\n",
       "      <td>0.0</td>\n",
       "      <td>0.0</td>\n",
       "      <td>0.0</td>\n",
       "      <td>0.0</td>\n",
       "      <td>0.0</td>\n",
       "      <td>0.0</td>\n",
       "      <td>0.0</td>\n",
       "    </tr>\n",
       "    <tr>\n",
       "      <th>75%</th>\n",
       "      <td>0.0</td>\n",
       "      <td>0.079590</td>\n",
       "      <td>0.009479</td>\n",
       "      <td>0.008772</td>\n",
       "      <td>0.000000</td>\n",
       "      <td>0.000000</td>\n",
       "      <td>0.000000</td>\n",
       "      <td>0.0</td>\n",
       "      <td>0.000000</td>\n",
       "      <td>0.000000</td>\n",
       "      <td>...</td>\n",
       "      <td>0.000000</td>\n",
       "      <td>0.0</td>\n",
       "      <td>0.0</td>\n",
       "      <td>0.0</td>\n",
       "      <td>0.0</td>\n",
       "      <td>0.0</td>\n",
       "      <td>0.0</td>\n",
       "      <td>0.0</td>\n",
       "      <td>0.0</td>\n",
       "      <td>0.0</td>\n",
       "    </tr>\n",
       "    <tr>\n",
       "      <th>max</th>\n",
       "      <td>0.0</td>\n",
       "      <td>1.000000</td>\n",
       "      <td>1.000000</td>\n",
       "      <td>1.000000</td>\n",
       "      <td>1.000000</td>\n",
       "      <td>1.000000</td>\n",
       "      <td>1.000000</td>\n",
       "      <td>0.0</td>\n",
       "      <td>1.000000</td>\n",
       "      <td>1.000000</td>\n",
       "      <td>...</td>\n",
       "      <td>1.000000</td>\n",
       "      <td>0.0</td>\n",
       "      <td>0.0</td>\n",
       "      <td>0.0</td>\n",
       "      <td>0.0</td>\n",
       "      <td>0.0</td>\n",
       "      <td>0.0</td>\n",
       "      <td>0.0</td>\n",
       "      <td>0.0</td>\n",
       "      <td>0.0</td>\n",
       "    </tr>\n",
       "  </tbody>\n",
       "</table>\n",
       "<p>8 rows × 78 columns</p>\n",
       "</div>"
      ],
      "text/plain": [
       "       Destination Port  Flow Duration  Total Fwd Packets  \\\n",
       "count          150000.0  150000.000000      150000.000000   \n",
       "mean                0.0       0.075709           0.032093   \n",
       "std                 0.0       0.101546           0.146638   \n",
       "min                 0.0       0.000000           0.000000   \n",
       "25%                 0.0       0.071333           0.009479   \n",
       "50%                 0.0       0.073931           0.009479   \n",
       "75%                 0.0       0.079590           0.009479   \n",
       "max                 0.0       1.000000           1.000000   \n",
       "\n",
       "       Total Backward Packets  Total Length of Fwd Packets  \\\n",
       "count           150000.000000                150000.000000   \n",
       "mean                 0.035824                     0.025087   \n",
       "std                  0.139445                     0.143361   \n",
       "min                  0.000000                     0.000000   \n",
       "25%                  0.008772                     0.000000   \n",
       "50%                  0.008772                     0.000000   \n",
       "75%                  0.008772                     0.000000   \n",
       "max                  1.000000                     1.000000   \n",
       "\n",
       "       Total Length of Bwd Packets  Fwd Packet Length Max  \\\n",
       "count                150000.000000          150000.000000   \n",
       "mean                      0.016773               0.202093   \n",
       "std                       0.101700               0.374878   \n",
       "min                       0.000000               0.000000   \n",
       "25%                       0.000000               0.000000   \n",
       "50%                       0.000000               0.000000   \n",
       "75%                       0.000000               0.000000   \n",
       "max                       1.000000               1.000000   \n",
       "\n",
       "       Fwd Packet Length Min  Fwd Packet Length Mean  Fwd Packet Length Std  \\\n",
       "count               150000.0           150000.000000          150000.000000   \n",
       "mean                     0.0                0.127151               0.190537   \n",
       "std                      0.0                0.244993               0.354401   \n",
       "min                      0.0                0.000000               0.000000   \n",
       "25%                      0.0                0.000000               0.000000   \n",
       "50%                      0.0                0.000000               0.000000   \n",
       "75%                      0.0                0.000000               0.000000   \n",
       "max                      0.0                1.000000               1.000000   \n",
       "\n",
       "       ...  act_data_pkt_fwd  min_seg_size_forward  Active Mean  Active Std  \\\n",
       "count  ...     150000.000000              150000.0     150000.0    150000.0   \n",
       "mean   ...          0.026429                   0.0          0.0         0.0   \n",
       "std    ...          0.153982                   0.0          0.0         0.0   \n",
       "min    ...          0.000000                   0.0          0.0         0.0   \n",
       "25%    ...          0.000000                   0.0          0.0         0.0   \n",
       "50%    ...          0.000000                   0.0          0.0         0.0   \n",
       "75%    ...          0.000000                   0.0          0.0         0.0   \n",
       "max    ...          1.000000                   0.0          0.0         0.0   \n",
       "\n",
       "       Active Max  Active Min  Idle Mean  Idle Std  Idle Max  Idle Min  \n",
       "count    150000.0    150000.0   150000.0  150000.0  150000.0  150000.0  \n",
       "mean          0.0         0.0        0.0       0.0       0.0       0.0  \n",
       "std           0.0         0.0        0.0       0.0       0.0       0.0  \n",
       "min           0.0         0.0        0.0       0.0       0.0       0.0  \n",
       "25%           0.0         0.0        0.0       0.0       0.0       0.0  \n",
       "50%           0.0         0.0        0.0       0.0       0.0       0.0  \n",
       "75%           0.0         0.0        0.0       0.0       0.0       0.0  \n",
       "max           0.0         0.0        0.0       0.0       0.0       0.0  \n",
       "\n",
       "[8 rows x 78 columns]"
      ]
     },
     "execution_count": 23,
     "metadata": {},
     "output_type": "execute_result"
    }
   ],
   "source": [
    "scaler = MinMaxScaler()\n",
    "X_resampled_scaled = scaler.fit_transform(X_resampled)\n",
    "\n",
    "X_resampled_scaled = pd.DataFrame(X_resampled_scaled, columns=X_resampled.columns)\n",
    "\n",
    "X_resampled_scaled.describe()"
   ]
  },
  {
   "cell_type": "code",
   "execution_count": 24,
   "metadata": {},
   "outputs": [
    {
     "name": "stdout",
     "output_type": "stream",
     "text": [
      "{np.int64(0): np.int64(50000), np.int64(1): np.int64(50000), np.int64(2): np.int64(50000)}\n"
     ]
    }
   ],
   "source": [
    "label_encoder = LabelEncoder()\n",
    "y_resampled_encoded = label_encoder.fit_transform(y_resampled)\n",
    "unique, counts = np.unique(y_resampled_encoded, return_counts=True)\n",
    "print(dict(zip(unique, counts)))"
   ]
  },
  {
   "cell_type": "code",
   "execution_count": 25,
   "metadata": {},
   "outputs": [
    {
     "name": "stdout",
     "output_type": "stream",
     "text": [
      "Epoch 1/50\n"
     ]
    },
    {
     "name": "stderr",
     "output_type": "stream",
     "text": [
      "/Users/nico/Desktop/UPC/PAE/SentinelX/.venv/lib/python3.9/site-packages/keras/src/layers/core/dense.py:87: UserWarning: Do not pass an `input_shape`/`input_dim` argument to a layer. When using Sequential models, prefer using an `Input(shape)` object as the first layer in the model instead.\n",
      "  super().__init__(activity_regularizer=activity_regularizer, **kwargs)\n"
     ]
    },
    {
     "name": "stdout",
     "output_type": "stream",
     "text": [
      "\u001b[1m3000/3000\u001b[0m \u001b[32m━━━━━━━━━━━━━━━━━━━━\u001b[0m\u001b[37m\u001b[0m \u001b[1m2s\u001b[0m 412us/step - accuracy: 0.6727 - loss: 0.5551 - val_accuracy: 0.7644 - val_loss: 0.4552\n",
      "Epoch 2/50\n",
      "\u001b[1m3000/3000\u001b[0m \u001b[32m━━━━━━━━━━━━━━━━━━━━\u001b[0m\u001b[37m\u001b[0m \u001b[1m1s\u001b[0m 384us/step - accuracy: 0.7336 - loss: 0.4591 - val_accuracy: 0.7451 - val_loss: 0.4493\n",
      "Epoch 3/50\n",
      "\u001b[1m3000/3000\u001b[0m \u001b[32m━━━━━━━━━━━━━━━━━━━━\u001b[0m\u001b[37m\u001b[0m \u001b[1m1s\u001b[0m 392us/step - accuracy: 0.7460 - loss: 0.4498 - val_accuracy: 0.7420 - val_loss: 0.4466\n",
      "Epoch 4/50\n",
      "\u001b[1m3000/3000\u001b[0m \u001b[32m━━━━━━━━━━━━━━━━━━━━\u001b[0m\u001b[37m\u001b[0m \u001b[1m1s\u001b[0m 390us/step - accuracy: 0.7526 - loss: 0.4424 - val_accuracy: 0.7529 - val_loss: 0.4419\n",
      "Epoch 5/50\n",
      "\u001b[1m3000/3000\u001b[0m \u001b[32m━━━━━━━━━━━━━━━━━━━━\u001b[0m\u001b[37m\u001b[0m \u001b[1m1s\u001b[0m 393us/step - accuracy: 0.7521 - loss: 0.4430 - val_accuracy: 0.7693 - val_loss: 0.4388\n",
      "Epoch 6/50\n",
      "\u001b[1m3000/3000\u001b[0m \u001b[32m━━━━━━━━━━━━━━━━━━━━\u001b[0m\u001b[37m\u001b[0m \u001b[1m1s\u001b[0m 394us/step - accuracy: 0.7528 - loss: 0.4411 - val_accuracy: 0.7679 - val_loss: 0.4405\n",
      "Epoch 7/50\n",
      "\u001b[1m3000/3000\u001b[0m \u001b[32m━━━━━━━━━━━━━━━━━━━━\u001b[0m\u001b[37m\u001b[0m \u001b[1m1s\u001b[0m 403us/step - accuracy: 0.7504 - loss: 0.4393 - val_accuracy: 0.7530 - val_loss: 0.4384\n",
      "Epoch 8/50\n",
      "\u001b[1m3000/3000\u001b[0m \u001b[32m━━━━━━━━━━━━━━━━━━━━\u001b[0m\u001b[37m\u001b[0m \u001b[1m1s\u001b[0m 396us/step - accuracy: 0.7552 - loss: 0.4404 - val_accuracy: 0.7680 - val_loss: 0.4382\n",
      "Epoch 9/50\n",
      "\u001b[1m3000/3000\u001b[0m \u001b[32m━━━━━━━━━━━━━━━━━━━━\u001b[0m\u001b[37m\u001b[0m \u001b[1m1s\u001b[0m 394us/step - accuracy: 0.7545 - loss: 0.4400 - val_accuracy: 0.7645 - val_loss: 0.4398\n",
      "Epoch 10/50\n",
      "\u001b[1m3000/3000\u001b[0m \u001b[32m━━━━━━━━━━━━━━━━━━━━\u001b[0m\u001b[37m\u001b[0m \u001b[1m1s\u001b[0m 389us/step - accuracy: 0.7567 - loss: 0.4396 - val_accuracy: 0.7415 - val_loss: 0.4478\n",
      "Epoch 11/50\n",
      "\u001b[1m3000/3000\u001b[0m \u001b[32m━━━━━━━━━━━━━━━━━━━━\u001b[0m\u001b[37m\u001b[0m \u001b[1m1s\u001b[0m 386us/step - accuracy: 0.7575 - loss: 0.4389 - val_accuracy: 0.7622 - val_loss: 0.4351\n",
      "Epoch 12/50\n",
      "\u001b[1m3000/3000\u001b[0m \u001b[32m━━━━━━━━━━━━━━━━━━━━\u001b[0m\u001b[37m\u001b[0m \u001b[1m1s\u001b[0m 386us/step - accuracy: 0.7546 - loss: 0.4390 - val_accuracy: 0.7671 - val_loss: 0.4333\n",
      "Epoch 13/50\n",
      "\u001b[1m3000/3000\u001b[0m \u001b[32m━━━━━━━━━━━━━━━━━━━━\u001b[0m\u001b[37m\u001b[0m \u001b[1m1s\u001b[0m 409us/step - accuracy: 0.7559 - loss: 0.4398 - val_accuracy: 0.7643 - val_loss: 0.4349\n",
      "Epoch 14/50\n",
      "\u001b[1m3000/3000\u001b[0m \u001b[32m━━━━━━━━━━━━━━━━━━━━\u001b[0m\u001b[37m\u001b[0m \u001b[1m1s\u001b[0m 387us/step - accuracy: 0.7575 - loss: 0.4395 - val_accuracy: 0.7564 - val_loss: 0.4378\n",
      "Epoch 15/50\n",
      "\u001b[1m3000/3000\u001b[0m \u001b[32m━━━━━━━━━━━━━━━━━━━━\u001b[0m\u001b[37m\u001b[0m \u001b[1m1s\u001b[0m 384us/step - accuracy: 0.7569 - loss: 0.4363 - val_accuracy: 0.7685 - val_loss: 0.4338\n",
      "Epoch 16/50\n",
      "\u001b[1m3000/3000\u001b[0m \u001b[32m━━━━━━━━━━━━━━━━━━━━\u001b[0m\u001b[37m\u001b[0m \u001b[1m1s\u001b[0m 392us/step - accuracy: 0.7570 - loss: 0.4384 - val_accuracy: 0.7602 - val_loss: 0.4371\n",
      "Epoch 17/50\n",
      "\u001b[1m3000/3000\u001b[0m \u001b[32m━━━━━━━━━━━━━━━━━━━━\u001b[0m\u001b[37m\u001b[0m \u001b[1m1s\u001b[0m 391us/step - accuracy: 0.7601 - loss: 0.4352 - val_accuracy: 0.7650 - val_loss: 0.4322\n",
      "Epoch 18/50\n",
      "\u001b[1m3000/3000\u001b[0m \u001b[32m━━━━━━━━━━━━━━━━━━━━\u001b[0m\u001b[37m\u001b[0m \u001b[1m1s\u001b[0m 386us/step - accuracy: 0.7601 - loss: 0.4353 - val_accuracy: 0.7691 - val_loss: 0.4296\n",
      "Epoch 19/50\n",
      "\u001b[1m3000/3000\u001b[0m \u001b[32m━━━━━━━━━━━━━━━━━━━━\u001b[0m\u001b[37m\u001b[0m \u001b[1m1s\u001b[0m 409us/step - accuracy: 0.7608 - loss: 0.4348 - val_accuracy: 0.7692 - val_loss: 0.4296\n",
      "Epoch 20/50\n",
      "\u001b[1m3000/3000\u001b[0m \u001b[32m━━━━━━━━━━━━━━━━━━━━\u001b[0m\u001b[37m\u001b[0m \u001b[1m1s\u001b[0m 392us/step - accuracy: 0.7614 - loss: 0.4331 - val_accuracy: 0.7687 - val_loss: 0.4289\n",
      "Epoch 21/50\n",
      "\u001b[1m3000/3000\u001b[0m \u001b[32m━━━━━━━━━━━━━━━━━━━━\u001b[0m\u001b[37m\u001b[0m \u001b[1m1s\u001b[0m 392us/step - accuracy: 0.7623 - loss: 0.4319 - val_accuracy: 0.7682 - val_loss: 0.4321\n",
      "Epoch 22/50\n",
      "\u001b[1m3000/3000\u001b[0m \u001b[32m━━━━━━━━━━━━━━━━━━━━\u001b[0m\u001b[37m\u001b[0m \u001b[1m1s\u001b[0m 394us/step - accuracy: 0.7588 - loss: 0.4364 - val_accuracy: 0.7649 - val_loss: 0.4340\n",
      "Epoch 23/50\n",
      "\u001b[1m3000/3000\u001b[0m \u001b[32m━━━━━━━━━━━━━━━━━━━━\u001b[0m\u001b[37m\u001b[0m \u001b[1m1s\u001b[0m 394us/step - accuracy: 0.7627 - loss: 0.4321 - val_accuracy: 0.7623 - val_loss: 0.4344\n",
      "Epoch 24/50\n",
      "\u001b[1m3000/3000\u001b[0m \u001b[32m━━━━━━━━━━━━━━━━━━━━\u001b[0m\u001b[37m\u001b[0m \u001b[1m1s\u001b[0m 389us/step - accuracy: 0.7621 - loss: 0.4329 - val_accuracy: 0.7692 - val_loss: 0.4274\n",
      "Epoch 25/50\n",
      "\u001b[1m3000/3000\u001b[0m \u001b[32m━━━━━━━━━━━━━━━━━━━━\u001b[0m\u001b[37m\u001b[0m \u001b[1m1s\u001b[0m 407us/step - accuracy: 0.7625 - loss: 0.4323 - val_accuracy: 0.7685 - val_loss: 0.4296\n",
      "Epoch 26/50\n",
      "\u001b[1m3000/3000\u001b[0m \u001b[32m━━━━━━━━━━━━━━━━━━━━\u001b[0m\u001b[37m\u001b[0m \u001b[1m1s\u001b[0m 388us/step - accuracy: 0.7617 - loss: 0.4325 - val_accuracy: 0.7687 - val_loss: 0.4290\n",
      "Epoch 27/50\n",
      "\u001b[1m3000/3000\u001b[0m \u001b[32m━━━━━━━━━━━━━━━━━━━━\u001b[0m\u001b[37m\u001b[0m \u001b[1m1s\u001b[0m 398us/step - accuracy: 0.7619 - loss: 0.4341 - val_accuracy: 0.7565 - val_loss: 0.4356\n",
      "Epoch 28/50\n",
      "\u001b[1m3000/3000\u001b[0m \u001b[32m━━━━━━━━━━━━━━━━━━━━\u001b[0m\u001b[37m\u001b[0m \u001b[1m1s\u001b[0m 392us/step - accuracy: 0.7639 - loss: 0.4323 - val_accuracy: 0.7680 - val_loss: 0.4287\n",
      "Epoch 29/50\n",
      "\u001b[1m3000/3000\u001b[0m \u001b[32m━━━━━━━━━━━━━━━━━━━━\u001b[0m\u001b[37m\u001b[0m \u001b[1m1s\u001b[0m 396us/step - accuracy: 0.7638 - loss: 0.4322 - val_accuracy: 0.7685 - val_loss: 0.4265\n",
      "Epoch 30/50\n",
      "\u001b[1m3000/3000\u001b[0m \u001b[32m━━━━━━━━━━━━━━━━━━━━\u001b[0m\u001b[37m\u001b[0m \u001b[1m1s\u001b[0m 408us/step - accuracy: 0.7624 - loss: 0.4325 - val_accuracy: 0.7370 - val_loss: 0.4452\n",
      "Epoch 31/50\n",
      "\u001b[1m3000/3000\u001b[0m \u001b[32m━━━━━━━━━━━━━━━━━━━━\u001b[0m\u001b[37m\u001b[0m \u001b[1m1s\u001b[0m 394us/step - accuracy: 0.7648 - loss: 0.4301 - val_accuracy: 0.7692 - val_loss: 0.4281\n",
      "Epoch 32/50\n",
      "\u001b[1m3000/3000\u001b[0m \u001b[32m━━━━━━━━━━━━━━━━━━━━\u001b[0m\u001b[37m\u001b[0m \u001b[1m1s\u001b[0m 397us/step - accuracy: 0.7616 - loss: 0.4343 - val_accuracy: 0.7695 - val_loss: 0.4265\n",
      "Epoch 33/50\n",
      "\u001b[1m3000/3000\u001b[0m \u001b[32m━━━━━━━━━━━━━━━━━━━━\u001b[0m\u001b[37m\u001b[0m \u001b[1m1s\u001b[0m 384us/step - accuracy: 0.7643 - loss: 0.4315 - val_accuracy: 0.7691 - val_loss: 0.4272\n",
      "Epoch 34/50\n",
      "\u001b[1m3000/3000\u001b[0m \u001b[32m━━━━━━━━━━━━━━━━━━━━\u001b[0m\u001b[37m\u001b[0m \u001b[1m1s\u001b[0m 390us/step - accuracy: 0.7645 - loss: 0.4313 - val_accuracy: 0.7691 - val_loss: 0.4288\n",
      "Epoch 35/50\n",
      "\u001b[1m3000/3000\u001b[0m \u001b[32m━━━━━━━━━━━━━━━━━━━━\u001b[0m\u001b[37m\u001b[0m \u001b[1m1s\u001b[0m 403us/step - accuracy: 0.7629 - loss: 0.4324 - val_accuracy: 0.7687 - val_loss: 0.4285\n",
      "Epoch 36/50\n",
      "\u001b[1m3000/3000\u001b[0m \u001b[32m━━━━━━━━━━━━━━━━━━━━\u001b[0m\u001b[37m\u001b[0m \u001b[1m1s\u001b[0m 391us/step - accuracy: 0.7624 - loss: 0.4301 - val_accuracy: 0.7694 - val_loss: 0.4266\n",
      "Epoch 37/50\n",
      "\u001b[1m3000/3000\u001b[0m \u001b[32m━━━━━━━━━━━━━━━━━━━━\u001b[0m\u001b[37m\u001b[0m \u001b[1m1s\u001b[0m 386us/step - accuracy: 0.7643 - loss: 0.4312 - val_accuracy: 0.7702 - val_loss: 0.4259\n",
      "Epoch 38/50\n",
      "\u001b[1m3000/3000\u001b[0m \u001b[32m━━━━━━━━━━━━━━━━━━━━\u001b[0m\u001b[37m\u001b[0m \u001b[1m1s\u001b[0m 395us/step - accuracy: 0.7638 - loss: 0.4302 - val_accuracy: 0.7693 - val_loss: 0.4264\n",
      "Epoch 39/50\n",
      "\u001b[1m3000/3000\u001b[0m \u001b[32m━━━━━━━━━━━━━━━━━━━━\u001b[0m\u001b[37m\u001b[0m \u001b[1m1s\u001b[0m 400us/step - accuracy: 0.7635 - loss: 0.4316 - val_accuracy: 0.7697 - val_loss: 0.4272\n",
      "Epoch 40/50\n",
      "\u001b[1m3000/3000\u001b[0m \u001b[32m━━━━━━━━━━━━━━━━━━━━\u001b[0m\u001b[37m\u001b[0m \u001b[1m1s\u001b[0m 392us/step - accuracy: 0.7623 - loss: 0.4317 - val_accuracy: 0.7698 - val_loss: 0.4247\n",
      "Epoch 41/50\n",
      "\u001b[1m3000/3000\u001b[0m \u001b[32m━━━━━━━━━━━━━━━━━━━━\u001b[0m\u001b[37m\u001b[0m \u001b[1m1s\u001b[0m 389us/step - accuracy: 0.7626 - loss: 0.4317 - val_accuracy: 0.7708 - val_loss: 0.4248\n",
      "Epoch 42/50\n",
      "\u001b[1m3000/3000\u001b[0m \u001b[32m━━━━━━━━━━━━━━━━━━━━\u001b[0m\u001b[37m\u001b[0m \u001b[1m1s\u001b[0m 387us/step - accuracy: 0.7642 - loss: 0.4305 - val_accuracy: 0.7589 - val_loss: 0.4315\n",
      "Epoch 43/50\n",
      "\u001b[1m3000/3000\u001b[0m \u001b[32m━━━━━━━━━━━━━━━━━━━━\u001b[0m\u001b[37m\u001b[0m \u001b[1m1s\u001b[0m 398us/step - accuracy: 0.7659 - loss: 0.4281 - val_accuracy: 0.7707 - val_loss: 0.4245\n",
      "Epoch 44/50\n",
      "\u001b[1m3000/3000\u001b[0m \u001b[32m━━━━━━━━━━━━━━━━━━━━\u001b[0m\u001b[37m\u001b[0m \u001b[1m1s\u001b[0m 392us/step - accuracy: 0.7640 - loss: 0.4289 - val_accuracy: 0.7706 - val_loss: 0.4254\n",
      "Epoch 45/50\n",
      "\u001b[1m3000/3000\u001b[0m \u001b[32m━━━━━━━━━━━━━━━━━━━━\u001b[0m\u001b[37m\u001b[0m \u001b[1m1s\u001b[0m 387us/step - accuracy: 0.7630 - loss: 0.4310 - val_accuracy: 0.7718 - val_loss: 0.4241\n",
      "Epoch 46/50\n",
      "\u001b[1m3000/3000\u001b[0m \u001b[32m━━━━━━━━━━━━━━━━━━━━\u001b[0m\u001b[37m\u001b[0m \u001b[1m1s\u001b[0m 400us/step - accuracy: 0.7661 - loss: 0.4270 - val_accuracy: 0.7702 - val_loss: 0.4236\n",
      "Epoch 47/50\n",
      "\u001b[1m3000/3000\u001b[0m \u001b[32m━━━━━━━━━━━━━━━━━━━━\u001b[0m\u001b[37m\u001b[0m \u001b[1m1s\u001b[0m 411us/step - accuracy: 0.7624 - loss: 0.4307 - val_accuracy: 0.7697 - val_loss: 0.4230\n",
      "Epoch 48/50\n",
      "\u001b[1m3000/3000\u001b[0m \u001b[32m━━━━━━━━━━━━━━━━━━━━\u001b[0m\u001b[37m\u001b[0m \u001b[1m1s\u001b[0m 443us/step - accuracy: 0.7643 - loss: 0.4292 - val_accuracy: 0.7717 - val_loss: 0.4220\n",
      "Epoch 49/50\n",
      "\u001b[1m3000/3000\u001b[0m \u001b[32m━━━━━━━━━━━━━━━━━━━━\u001b[0m\u001b[37m\u001b[0m \u001b[1m1s\u001b[0m 405us/step - accuracy: 0.7685 - loss: 0.4234 - val_accuracy: 0.7703 - val_loss: 0.4232\n",
      "Epoch 50/50\n",
      "\u001b[1m3000/3000\u001b[0m \u001b[32m━━━━━━━━━━━━━━━━━━━━\u001b[0m\u001b[37m\u001b[0m \u001b[1m1s\u001b[0m 490us/step - accuracy: 0.7626 - loss: 0.4299 - val_accuracy: 0.7711 - val_loss: 0.4240\n",
      "\u001b[1m938/938\u001b[0m \u001b[32m━━━━━━━━━━━━━━━━━━━━\u001b[0m\u001b[37m\u001b[0m \u001b[1m0s\u001b[0m 266us/step - accuracy: 0.7758 - loss: 0.4161\n",
      "Test Accuracy: 0.77\n"
     ]
    }
   ],
   "source": [
    "X_train, X_test, y_train, y_test = train_test_split(X_resampled_scaled, y_resampled_encoded, test_size=0.2, random_state=42)\n",
    "\n",
    "\n",
    "model = Sequential([\n",
    "    Dense(128, activation='relu', input_dim=X_train.shape[1]),  # Primera capa oculta con 128 nodos\n",
    "    Dropout(0.3),  # Dropout para prevenir sobreajuste\n",
    "    Dense(64, activation='relu'),  # Segunda capa oculta con 64 nodos\n",
    "    Dropout(0.3),\n",
    "    Dense(3, activation='softmax')  # Capa de salida para clasificación multiclase (3 clases)\n",
    "])\n",
    "\n",
    "# 6. Compilar el modelo\n",
    "model.compile(optimizer=Adam(learning_rate=0.001),\n",
    "              loss='categorical_crossentropy',  # Para problemas multiclase\n",
    "              metrics=['accuracy'])\n",
    "\n",
    "y_train_one_hot = to_categorical(y_train, num_classes=3)\n",
    "y_test_one_hot = to_categorical(y_test, num_classes=3)\n",
    "\n",
    "# Entrenar el modelo\n",
    "history = model.fit(X_train, y_train_one_hot, epochs=50, batch_size=32, validation_split=0.2, verbose=1)\n",
    "\n",
    "# Evaluar el modelo\n",
    "test_loss, test_accuracy = model.evaluate(X_test, y_test_one_hot)\n",
    "print(f\"Test Accuracy: {test_accuracy:.2f}\")"
   ]
  },
  {
   "cell_type": "code",
   "execution_count": 26,
   "metadata": {},
   "outputs": [
    {
     "name": "stdout",
     "output_type": "stream",
     "text": [
      "\u001b[1m938/938\u001b[0m \u001b[32m━━━━━━━━━━━━━━━━━━━━\u001b[0m\u001b[37m\u001b[0m \u001b[1m0s\u001b[0m 249us/step\n"
     ]
    },
    {
     "data": {
      "image/png": "[encoded data removed]",
      "text/plain": [
       "<Figure size 640x480 with 2 Axes>"
      ]
     },
     "metadata": {},
     "output_type": "display_data"
    },
    {
     "name": "stdout",
     "output_type": "stream",
     "text": [
      "Accuracy: 0.77\n",
      "Precision: 0.78\n",
      "Recall: 0.77\n",
      "F1 Score: 0.76\n"
     ]
    }
   ],
   "source": [
    "\n",
    "# Predict the labels for the test set\n",
    "y_pred_nn = model.predict(X_test)\n",
    "y_pred_nn_classes = np.argmax(y_pred_nn, axis=1)\n",
    "\n",
    "# Compute the confusion matrix\n",
    "cm = confusion_matrix(y_test, y_pred_nn_classes)\n",
    "\n",
    "# Plot the confusion matrix\n",
    "disp = ConfusionMatrixDisplay(confusion_matrix=cm, display_labels=label_encoder.classes_)\n",
    "disp.plot(cmap=plt.cm.Blues)\n",
    "plt.title('Confusion Matrix')\n",
    "plt.show()\n",
    "\n",
    "# Calculate and print other performance metrics\n",
    "accuracy = accuracy_score(y_test, y_pred_nn_classes)\n",
    "precision = precision_score(y_test, y_pred_nn_classes, average='weighted')\n",
    "recall = recall_score(y_test, y_pred_nn_classes, average='weighted')\n",
    "f1 = f1_score(y_test, y_pred_nn_classes, average='weighted')\n",
    "\n",
    "print(f'Accuracy: {accuracy:.2f}')\n",
    "print(f'Precision: {precision:.2f}')\n",
    "print(f'Recall: {recall:.2f}')\n",
    "print(f'F1 Score: {f1:.2f}')"
   ]
  },
  {
   "cell_type": "markdown",
   "metadata": {},
   "source": [
    "Como vemos, el rendimiento se ha empobrecido mucho por lo que vamos a intentar con un red neuronal mas compleja "
   ]
  },
  {
   "cell_type": "code",
   "execution_count": 27,
   "metadata": {},
   "outputs": [
    {
     "name": "stdout",
     "output_type": "stream",
     "text": [
      "Epoch 1/100\n"
     ]
    },
    {
     "name": "stderr",
     "output_type": "stream",
     "text": [
      "/Users/nico/Desktop/UPC/PAE/SentinelX/.venv/lib/python3.9/site-packages/keras/src/layers/core/dense.py:87: UserWarning: Do not pass an `input_shape`/`input_dim` argument to a layer. When using Sequential models, prefer using an `Input(shape)` object as the first layer in the model instead.\n",
      "  super().__init__(activity_regularizer=activity_regularizer, **kwargs)\n"
     ]
    },
    {
     "name": "stdout",
     "output_type": "stream",
     "text": [
      "\u001b[1m1500/1500\u001b[0m \u001b[32m━━━━━━━━━━━━━━━━━━━━\u001b[0m\u001b[37m\u001b[0m \u001b[1m2s\u001b[0m 965us/step - accuracy: 0.6709 - loss: 2.6108 - val_accuracy: 0.7289 - val_loss: 0.6810\n",
      "Epoch 2/100\n",
      "\u001b[1m1500/1500\u001b[0m \u001b[32m━━━━━━━━━━━━━━━━━━━━\u001b[0m\u001b[37m\u001b[0m \u001b[1m2s\u001b[0m 1ms/step - accuracy: 0.7180 - loss: 0.6307 - val_accuracy: 0.7185 - val_loss: 0.5887\n",
      "Epoch 3/100\n",
      "\u001b[1m1500/1500\u001b[0m \u001b[32m━━━━━━━━━━━━━━━━━━━━\u001b[0m\u001b[37m\u001b[0m \u001b[1m1s\u001b[0m 887us/step - accuracy: 0.7243 - loss: 0.5401 - val_accuracy: 0.7541 - val_loss: 0.4986\n",
      "Epoch 4/100\n",
      "\u001b[1m1500/1500\u001b[0m \u001b[32m━━━━━━━━━━━━━━━━━━━━\u001b[0m\u001b[37m\u001b[0m \u001b[1m1s\u001b[0m 893us/step - accuracy: 0.7341 - loss: 0.5172 - val_accuracy: 0.7564 - val_loss: 0.4908\n",
      "Epoch 5/100\n",
      "\u001b[1m1500/1500\u001b[0m \u001b[32m━━━━━━━━━━━━━━━━━━━━\u001b[0m\u001b[37m\u001b[0m \u001b[1m1s\u001b[0m 907us/step - accuracy: 0.7365 - loss: 0.5055 - val_accuracy: 0.7505 - val_loss: 0.4921\n",
      "Epoch 6/100\n",
      "\u001b[1m1500/1500\u001b[0m \u001b[32m━━━━━━━━━━━━━━━━━━━━\u001b[0m\u001b[37m\u001b[0m \u001b[1m1s\u001b[0m 889us/step - accuracy: 0.7387 - loss: 0.5004 - val_accuracy: 0.7466 - val_loss: 0.4768\n",
      "Epoch 7/100\n",
      "\u001b[1m1500/1500\u001b[0m \u001b[32m━━━━━━━━━━━━━━━━━━━━\u001b[0m\u001b[37m\u001b[0m \u001b[1m1s\u001b[0m 872us/step - accuracy: 0.7386 - loss: 0.5055 - val_accuracy: 0.6842 - val_loss: 0.4999\n",
      "Epoch 8/100\n",
      "\u001b[1m1500/1500\u001b[0m \u001b[32m━━━━━━━━━━━━━━━━━━━━\u001b[0m\u001b[37m\u001b[0m \u001b[1m1s\u001b[0m 867us/step - accuracy: 0.7440 - loss: 0.4965 - val_accuracy: 0.7260 - val_loss: 0.4816\n",
      "Epoch 9/100\n",
      "\u001b[1m1500/1500\u001b[0m \u001b[32m━━━━━━━━━━━━━━━━━━━━\u001b[0m\u001b[37m\u001b[0m \u001b[1m1s\u001b[0m 872us/step - accuracy: 0.7398 - loss: 0.4980 - val_accuracy: 0.7612 - val_loss: 0.4722\n",
      "Epoch 10/100\n",
      "\u001b[1m1500/1500\u001b[0m \u001b[32m━━━━━━━━━━━━━━━━━━━━\u001b[0m\u001b[37m\u001b[0m \u001b[1m1s\u001b[0m 913us/step - accuracy: 0.7417 - loss: 0.4933 - val_accuracy: 0.7471 - val_loss: 0.4772\n",
      "Epoch 11/100\n",
      "\u001b[1m1500/1500\u001b[0m \u001b[32m━━━━━━━━━━━━━━━━━━━━\u001b[0m\u001b[37m\u001b[0m \u001b[1m1s\u001b[0m 884us/step - accuracy: 0.7417 - loss: 0.4983 - val_accuracy: 0.7648 - val_loss: 0.4693\n",
      "Epoch 12/100\n",
      "\u001b[1m1500/1500\u001b[0m \u001b[32m━━━━━━━━━━━━━━━━━━━━\u001b[0m\u001b[37m\u001b[0m \u001b[1m1s\u001b[0m 872us/step - accuracy: 0.7419 - loss: 0.4941 - val_accuracy: 0.7406 - val_loss: 0.4749\n",
      "Epoch 13/100\n",
      "\u001b[1m1500/1500\u001b[0m \u001b[32m━━━━━━━━━━━━━━━━━━━━\u001b[0m\u001b[37m\u001b[0m \u001b[1m1s\u001b[0m 965us/step - accuracy: 0.7442 - loss: 0.4896 - val_accuracy: 0.7657 - val_loss: 0.4649\n",
      "Epoch 14/100\n",
      "\u001b[1m1500/1500\u001b[0m \u001b[32m━━━━━━━━━━━━━━━━━━━━\u001b[0m\u001b[37m\u001b[0m \u001b[1m1s\u001b[0m 870us/step - accuracy: 0.7397 - loss: 0.4913 - val_accuracy: 0.7656 - val_loss: 0.4726\n",
      "Epoch 15/100\n",
      "\u001b[1m1500/1500\u001b[0m \u001b[32m━━━━━━━━━━━━━━━━━━━━\u001b[0m\u001b[37m\u001b[0m \u001b[1m1s\u001b[0m 897us/step - accuracy: 0.7444 - loss: 0.4888 - val_accuracy: 0.7415 - val_loss: 0.4713\n",
      "Epoch 16/100\n",
      "\u001b[1m1500/1500\u001b[0m \u001b[32m━━━━━━━━━━━━━━━━━━━━\u001b[0m\u001b[37m\u001b[0m \u001b[1m1s\u001b[0m 958us/step - accuracy: 0.7375 - loss: 0.4895 - val_accuracy: 0.7656 - val_loss: 0.4650\n",
      "Epoch 17/100\n",
      "\u001b[1m1500/1500\u001b[0m \u001b[32m━━━━━━━━━━━━━━━━━━━━\u001b[0m\u001b[37m\u001b[0m \u001b[1m1s\u001b[0m 874us/step - accuracy: 0.7431 - loss: 0.4872 - val_accuracy: 0.7434 - val_loss: 0.4725\n",
      "Epoch 18/100\n",
      "\u001b[1m1500/1500\u001b[0m \u001b[32m━━━━━━━━━━━━━━━━━━━━\u001b[0m\u001b[37m\u001b[0m \u001b[1m1s\u001b[0m 950us/step - accuracy: 0.7428 - loss: 0.4894 - val_accuracy: 0.7433 - val_loss: 0.4694\n",
      "Epoch 19/100\n",
      "\u001b[1m1500/1500\u001b[0m \u001b[32m━━━━━━━━━━━━━━━━━━━━\u001b[0m\u001b[37m\u001b[0m \u001b[1m1s\u001b[0m 896us/step - accuracy: 0.7462 - loss: 0.4869 - val_accuracy: 0.7345 - val_loss: 0.4783\n",
      "Epoch 20/100\n",
      "\u001b[1m1500/1500\u001b[0m \u001b[32m━━━━━━━━━━━━━━━━━━━━\u001b[0m\u001b[37m\u001b[0m \u001b[1m1s\u001b[0m 872us/step - accuracy: 0.7412 - loss: 0.4869 - val_accuracy: 0.7619 - val_loss: 0.4670\n",
      "Epoch 21/100\n",
      "\u001b[1m1500/1500\u001b[0m \u001b[32m━━━━━━━━━━━━━━━━━━━━\u001b[0m\u001b[37m\u001b[0m \u001b[1m1s\u001b[0m 893us/step - accuracy: 0.7454 - loss: 0.4856 - val_accuracy: 0.7643 - val_loss: 0.4649\n",
      "Epoch 22/100\n",
      "\u001b[1m1500/1500\u001b[0m \u001b[32m━━━━━━━━━━━━━━━━━━━━\u001b[0m\u001b[37m\u001b[0m \u001b[1m1s\u001b[0m 863us/step - accuracy: 0.7441 - loss: 0.4860 - val_accuracy: 0.7651 - val_loss: 0.4672\n",
      "Epoch 23/100\n",
      "\u001b[1m1500/1500\u001b[0m \u001b[32m━━━━━━━━━━━━━━━━━━━━\u001b[0m\u001b[37m\u001b[0m \u001b[1m1s\u001b[0m 893us/step - accuracy: 0.7444 - loss: 0.4867 - val_accuracy: 0.7313 - val_loss: 0.4798\n",
      "\u001b[1m938/938\u001b[0m \u001b[32m━━━━━━━━━━━━━━━━━━━━\u001b[0m\u001b[37m\u001b[0m \u001b[1m0s\u001b[0m 291us/step - accuracy: 0.7714 - loss: 0.4569\n",
      "Test Accuracy: 0.77\n"
     ]
    }
   ],
   "source": [
    "X_train, X_test, y_train, y_test = train_test_split(X_resampled_scaled, y_resampled_encoded, test_size=0.2, random_state=42)\n",
    "\n",
    "# Modelo mejorado\n",
    "model = Sequential([\n",
    "    Dense(256, activation='relu', input_dim=X_train.shape[1], kernel_regularizer=l2(0.01)),  # Capa 1 con regularización L2\n",
    "    BatchNormalization(),  # Normalización de batch\n",
    "    Dropout(0.4),  # Dropout para prevenir sobreajuste\n",
    "\n",
    "    Dense(128, activation='relu', kernel_regularizer=l2(0.01)),  # Capa 2\n",
    "    BatchNormalization(),\n",
    "    Dropout(0.3),\n",
    "\n",
    "    Dense(64, activation='relu', kernel_regularizer=l2(0.01)),  # Capa 3\n",
    "    BatchNormalization(),\n",
    "    Dropout(0.3),\n",
    "\n",
    "    Dense(3, activation='softmax')  # Capa de salida para 3 clases\n",
    "])\n",
    "\n",
    "# Compilación del modelo\n",
    "model.compile(optimizer=Adam(learning_rate=0.0005),  # Tasa de aprendizaje ajustada\n",
    "              loss='categorical_crossentropy',\n",
    "              metrics=['accuracy'])\n",
    "\n",
    "# Convertir etiquetas a formato one-hot\n",
    "y_train_one_hot = to_categorical(y_train, num_classes=3)\n",
    "y_test_one_hot = to_categorical(y_test, num_classes=3)\n",
    "\n",
    "# Callbacks\n",
    "early_stopping = EarlyStopping(monitor='val_loss', patience=10, restore_best_weights=True)  # Detener si no mejora en 10 epochs\n",
    "model_checkpoint = ModelCheckpoint('best_model.keras', save_best_only=True, monitor='val_loss')  # Guardar el mejor modelo\n",
    "\n",
    "# Entrenamiento del modelo\n",
    "history = model.fit(X_train, y_train_one_hot, \n",
    "                    epochs=100, \n",
    "                    batch_size=64,  # Incrementar batch_size para entrenar más datos de una vez\n",
    "                    validation_split=0.2, \n",
    "                    callbacks=[early_stopping, model_checkpoint],\n",
    "                    verbose=1)\n",
    "\n",
    "# Evaluar el modelo en el conjunto de prueba\n",
    "test_loss, test_accuracy = model.evaluate(X_test, y_test_one_hot)\n",
    "print(f\"Test Accuracy: {test_accuracy:.2f}\")"
   ]
  },
  {
   "cell_type": "code",
   "execution_count": 28,
   "metadata": {},
   "outputs": [
    {
     "name": "stdout",
     "output_type": "stream",
     "text": [
      "\u001b[1m938/938\u001b[0m \u001b[32m━━━━━━━━━━━━━━━━━━━━\u001b[0m\u001b[37m\u001b[0m \u001b[1m0s\u001b[0m 309us/step\n"
     ]
    },
    {
     "data": {
      "image/png": "[encoded data removed]",
      "text/plain": [
       "<Figure size 640x480 with 2 Axes>"
      ]
     },
     "metadata": {},
     "output_type": "display_data"
    },
    {
     "name": "stdout",
     "output_type": "stream",
     "text": [
      "Accuracy: 0.77\n",
      "Precision: 0.78\n",
      "Recall: 0.77\n",
      "F1 Score: 0.76\n"
     ]
    }
   ],
   "source": [
    "\n",
    "# Predict the labels for the test set\n",
    "y_pred_nn = model.predict(X_test)\n",
    "y_pred_nn_classes = np.argmax(y_pred_nn, axis=1)\n",
    "\n",
    "# Compute the confusion matrix\n",
    "cm = confusion_matrix(y_test, y_pred_nn_classes)\n",
    "\n",
    "# Plot the confusion matrix\n",
    "disp = ConfusionMatrixDisplay(confusion_matrix=cm, display_labels=label_encoder.classes_)\n",
    "disp.plot(cmap=plt.cm.Blues)\n",
    "plt.title('Confusion Matrix')\n",
    "plt.show()\n",
    "\n",
    "# Calculate and print other performance metrics\n",
    "accuracy = accuracy_score(y_test, y_pred_nn_classes)\n",
    "precision = precision_score(y_test, y_pred_nn_classes, average='weighted')\n",
    "recall = recall_score(y_test, y_pred_nn_classes, average='weighted')\n",
    "f1 = f1_score(y_test, y_pred_nn_classes, average='weighted')\n",
    "\n",
    "print(f'Accuracy: {accuracy:.2f}')\n",
    "print(f'Precision: {precision:.2f}')\n",
    "print(f'Recall: {recall:.2f}')\n",
    "print(f'F1 Score: {f1:.2f}')"
   ]
  }
 ],
 "metadata": {
  "kernelspec": {
   "display_name": "Python 3",
   "language": "python",
   "name": "python3"
  },
  "language_info": {
   "codemirror_mode": {
    "name": "ipython",
    "version": 3
   },
   "file_extension": ".py",
   "mimetype": "text/x-python",
   "name": "python",
   "nbconvert_exporter": "python",
   "pygments_lexer": "ipython3",
   "version": "3.9.6"
  }
 },
 "nbformat": 4,
 "nbformat_minor": 2
}
