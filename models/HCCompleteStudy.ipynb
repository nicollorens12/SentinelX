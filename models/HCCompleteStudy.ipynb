{
 "cells": [
  {
   "cell_type": "markdown",
   "metadata": {},
   "source": [
    "## Hierarchy Classificator Complete Study\n",
    "\n",
    "With all the information gathered with `HierarchyClassificatorLevelStudy.ipynb` we've created the 3 layer model called `HerarchyModel.py` that takes 3 trained models and uses this herarchy structure to predict different attacks."
   ]
  },
  {
   "cell_type": "code",
   "execution_count": 7,
   "metadata": {
    "vscode": {
     "languageId": "powershell"
    }
   },
   "outputs": [
    {
     "name": "stderr",
     "output_type": "stream",
     "text": [
      "WARNING: Skipping tensorflow as it is not installed.\n"
     ]
    },
    {
     "name": "stdout",
     "output_type": "stream",
     "text": [
      "Defaulting to user installation because normal site-packages is not writeable\n",
      "Collecting tensorflow\n",
      "  Using cached tensorflow-2.18.0-cp312-cp312-win_amd64.whl.metadata (3.3 kB)\n",
      "Collecting tensorflow-intel==2.18.0 (from tensorflow)\n",
      "  Using cached tensorflow_intel-2.18.0-cp312-cp312-win_amd64.whl.metadata (4.9 kB)\n",
      "Requirement already satisfied: absl-py>=1.0.0 in c:\\users\\nico\\appdata\\local\\packages\\pythonsoftwarefoundation.python.3.10_qbz5n2kfra8p0\\localcache\\local-packages\\python312\\site-packages (from tensorflow-intel==2.18.0->tensorflow) (2.1.0)\n",
      "Requirement already satisfied: astunparse>=1.6.0 in c:\\users\\nico\\appdata\\local\\packages\\pythonsoftwarefoundation.python.3.10_qbz5n2kfra8p0\\localcache\\local-packages\\python312\\site-packages (from tensorflow-intel==2.18.0->tensorflow) (1.6.3)\n",
      "Requirement already satisfied: flatbuffers>=24.3.25 in c:\\users\\nico\\appdata\\local\\packages\\pythonsoftwarefoundation.python.3.10_qbz5n2kfra8p0\\localcache\\local-packages\\python312\\site-packages (from tensorflow-intel==2.18.0->tensorflow) (24.3.25)\n",
      "Requirement already satisfied: gast!=0.5.0,!=0.5.1,!=0.5.2,>=0.2.1 in c:\\users\\nico\\appdata\\local\\packages\\pythonsoftwarefoundation.python.3.10_qbz5n2kfra8p0\\localcache\\local-packages\\python312\\site-packages (from tensorflow-intel==2.18.0->tensorflow) (0.6.0)\n",
      "Requirement already satisfied: google-pasta>=0.1.1 in c:\\users\\nico\\appdata\\local\\packages\\pythonsoftwarefoundation.python.3.10_qbz5n2kfra8p0\\localcache\\local-packages\\python312\\site-packages (from tensorflow-intel==2.18.0->tensorflow) (0.2.0)\n",
      "Requirement already satisfied: libclang>=13.0.0 in c:\\users\\nico\\appdata\\local\\packages\\pythonsoftwarefoundation.python.3.10_qbz5n2kfra8p0\\localcache\\local-packages\\python312\\site-packages (from tensorflow-intel==2.18.0->tensorflow) (18.1.1)\n",
      "Requirement already satisfied: opt-einsum>=2.3.2 in c:\\users\\nico\\appdata\\local\\packages\\pythonsoftwarefoundation.python.3.10_qbz5n2kfra8p0\\localcache\\local-packages\\python312\\site-packages (from tensorflow-intel==2.18.0->tensorflow) (3.4.0)\n",
      "Requirement already satisfied: packaging in c:\\users\\nico\\appdata\\local\\packages\\pythonsoftwarefoundation.python.3.10_qbz5n2kfra8p0\\localcache\\local-packages\\python312\\site-packages (from tensorflow-intel==2.18.0->tensorflow) (24.2)\n",
      "Requirement already satisfied: protobuf!=4.21.0,!=4.21.1,!=4.21.2,!=4.21.3,!=4.21.4,!=4.21.5,<6.0.0dev,>=3.20.3 in c:\\users\\nico\\appdata\\local\\packages\\pythonsoftwarefoundation.python.3.10_qbz5n2kfra8p0\\localcache\\local-packages\\python312\\site-packages (from tensorflow-intel==2.18.0->tensorflow) (5.28.3)\n",
      "Requirement already satisfied: requests<3,>=2.21.0 in c:\\users\\nico\\appdata\\local\\packages\\pythonsoftwarefoundation.python.3.10_qbz5n2kfra8p0\\localcache\\local-packages\\python312\\site-packages (from tensorflow-intel==2.18.0->tensorflow) (2.32.3)\n",
      "Requirement already satisfied: setuptools in c:\\users\\nico\\appdata\\local\\packages\\pythonsoftwarefoundation.python.3.10_qbz5n2kfra8p0\\localcache\\local-packages\\python312\\site-packages (from tensorflow-intel==2.18.0->tensorflow) (75.6.0)\n",
      "Requirement already satisfied: six>=1.12.0 in c:\\users\\nico\\appdata\\local\\packages\\pythonsoftwarefoundation.python.3.10_qbz5n2kfra8p0\\localcache\\local-packages\\python312\\site-packages (from tensorflow-intel==2.18.0->tensorflow) (1.16.0)\n",
      "Requirement already satisfied: termcolor>=1.1.0 in c:\\users\\nico\\appdata\\local\\packages\\pythonsoftwarefoundation.python.3.10_qbz5n2kfra8p0\\localcache\\local-packages\\python312\\site-packages (from tensorflow-intel==2.18.0->tensorflow) (2.5.0)\n",
      "Requirement already satisfied: typing-extensions>=3.6.6 in c:\\users\\nico\\appdata\\local\\packages\\pythonsoftwarefoundation.python.3.10_qbz5n2kfra8p0\\localcache\\local-packages\\python312\\site-packages (from tensorflow-intel==2.18.0->tensorflow) (4.12.2)\n",
      "Requirement already satisfied: wrapt>=1.11.0 in c:\\users\\nico\\appdata\\local\\packages\\pythonsoftwarefoundation.python.3.10_qbz5n2kfra8p0\\localcache\\local-packages\\python312\\site-packages (from tensorflow-intel==2.18.0->tensorflow) (1.16.0)\n",
      "Requirement already satisfied: grpcio<2.0,>=1.24.3 in c:\\users\\nico\\appdata\\local\\packages\\pythonsoftwarefoundation.python.3.10_qbz5n2kfra8p0\\localcache\\local-packages\\python312\\site-packages (from tensorflow-intel==2.18.0->tensorflow) (1.68.0)\n",
      "Requirement already satisfied: tensorboard<2.19,>=2.18 in c:\\users\\nico\\appdata\\local\\packages\\pythonsoftwarefoundation.python.3.10_qbz5n2kfra8p0\\localcache\\local-packages\\python312\\site-packages (from tensorflow-intel==2.18.0->tensorflow) (2.18.0)\n",
      "Requirement already satisfied: keras>=3.5.0 in c:\\users\\nico\\appdata\\local\\packages\\pythonsoftwarefoundation.python.3.10_qbz5n2kfra8p0\\localcache\\local-packages\\python312\\site-packages (from tensorflow-intel==2.18.0->tensorflow) (3.6.0)\n",
      "Requirement already satisfied: numpy<2.1.0,>=1.26.0 in c:\\users\\nico\\appdata\\local\\packages\\pythonsoftwarefoundation.python.3.10_qbz5n2kfra8p0\\localcache\\local-packages\\python312\\site-packages (from tensorflow-intel==2.18.0->tensorflow) (2.0.2)\n",
      "Requirement already satisfied: h5py>=3.11.0 in c:\\users\\nico\\appdata\\local\\packages\\pythonsoftwarefoundation.python.3.10_qbz5n2kfra8p0\\localcache\\local-packages\\python312\\site-packages (from tensorflow-intel==2.18.0->tensorflow) (3.12.1)\n",
      "Requirement already satisfied: ml-dtypes<0.5.0,>=0.4.0 in c:\\users\\nico\\appdata\\local\\packages\\pythonsoftwarefoundation.python.3.10_qbz5n2kfra8p0\\localcache\\local-packages\\python312\\site-packages (from tensorflow-intel==2.18.0->tensorflow) (0.4.1)\n",
      "Requirement already satisfied: wheel<1.0,>=0.23.0 in c:\\users\\nico\\appdata\\local\\packages\\pythonsoftwarefoundation.python.3.10_qbz5n2kfra8p0\\localcache\\local-packages\\python312\\site-packages (from astunparse>=1.6.0->tensorflow-intel==2.18.0->tensorflow) (0.45.0)\n",
      "Requirement already satisfied: rich in c:\\users\\nico\\appdata\\local\\packages\\pythonsoftwarefoundation.python.3.10_qbz5n2kfra8p0\\localcache\\local-packages\\python312\\site-packages (from keras>=3.5.0->tensorflow-intel==2.18.0->tensorflow) (13.9.4)\n",
      "Requirement already satisfied: namex in c:\\users\\nico\\appdata\\local\\packages\\pythonsoftwarefoundation.python.3.10_qbz5n2kfra8p0\\localcache\\local-packages\\python312\\site-packages (from keras>=3.5.0->tensorflow-intel==2.18.0->tensorflow) (0.0.8)\n",
      "Requirement already satisfied: optree in c:\\users\\nico\\appdata\\local\\packages\\pythonsoftwarefoundation.python.3.10_qbz5n2kfra8p0\\localcache\\local-packages\\python312\\site-packages (from keras>=3.5.0->tensorflow-intel==2.18.0->tensorflow) (0.13.1)\n",
      "Requirement already satisfied: charset-normalizer<4,>=2 in c:\\users\\nico\\appdata\\local\\packages\\pythonsoftwarefoundation.python.3.10_qbz5n2kfra8p0\\localcache\\local-packages\\python312\\site-packages (from requests<3,>=2.21.0->tensorflow-intel==2.18.0->tensorflow) (3.4.0)\n",
      "Requirement already satisfied: idna<4,>=2.5 in c:\\users\\nico\\appdata\\local\\packages\\pythonsoftwarefoundation.python.3.10_qbz5n2kfra8p0\\localcache\\local-packages\\python312\\site-packages (from requests<3,>=2.21.0->tensorflow-intel==2.18.0->tensorflow) (3.10)\n",
      "Requirement already satisfied: urllib3<3,>=1.21.1 in c:\\users\\nico\\appdata\\local\\packages\\pythonsoftwarefoundation.python.3.10_qbz5n2kfra8p0\\localcache\\local-packages\\python312\\site-packages (from requests<3,>=2.21.0->tensorflow-intel==2.18.0->tensorflow) (2.2.3)\n",
      "Requirement already satisfied: certifi>=2017.4.17 in c:\\users\\nico\\appdata\\local\\packages\\pythonsoftwarefoundation.python.3.10_qbz5n2kfra8p0\\localcache\\local-packages\\python312\\site-packages (from requests<3,>=2.21.0->tensorflow-intel==2.18.0->tensorflow) (2024.8.30)\n",
      "Requirement already satisfied: markdown>=2.6.8 in c:\\users\\nico\\appdata\\local\\packages\\pythonsoftwarefoundation.python.3.10_qbz5n2kfra8p0\\localcache\\local-packages\\python312\\site-packages (from tensorboard<2.19,>=2.18->tensorflow-intel==2.18.0->tensorflow) (3.7)\n",
      "Requirement already satisfied: tensorboard-data-server<0.8.0,>=0.7.0 in c:\\users\\nico\\appdata\\local\\packages\\pythonsoftwarefoundation.python.3.10_qbz5n2kfra8p0\\localcache\\local-packages\\python312\\site-packages (from tensorboard<2.19,>=2.18->tensorflow-intel==2.18.0->tensorflow) (0.7.2)\n",
      "Requirement already satisfied: werkzeug>=1.0.1 in c:\\users\\nico\\appdata\\local\\packages\\pythonsoftwarefoundation.python.3.10_qbz5n2kfra8p0\\localcache\\local-packages\\python312\\site-packages (from tensorboard<2.19,>=2.18->tensorflow-intel==2.18.0->tensorflow) (3.1.3)\n",
      "Requirement already satisfied: MarkupSafe>=2.1.1 in c:\\users\\nico\\appdata\\local\\packages\\pythonsoftwarefoundation.python.3.10_qbz5n2kfra8p0\\localcache\\local-packages\\python312\\site-packages (from werkzeug>=1.0.1->tensorboard<2.19,>=2.18->tensorflow-intel==2.18.0->tensorflow) (3.0.2)\n",
      "Requirement already satisfied: markdown-it-py>=2.2.0 in c:\\users\\nico\\appdata\\local\\packages\\pythonsoftwarefoundation.python.3.10_qbz5n2kfra8p0\\localcache\\local-packages\\python312\\site-packages (from rich->keras>=3.5.0->tensorflow-intel==2.18.0->tensorflow) (3.0.0)\n",
      "Requirement already satisfied: pygments<3.0.0,>=2.13.0 in c:\\users\\nico\\appdata\\local\\packages\\pythonsoftwarefoundation.python.3.10_qbz5n2kfra8p0\\localcache\\local-packages\\python312\\site-packages (from rich->keras>=3.5.0->tensorflow-intel==2.18.0->tensorflow) (2.18.0)\n",
      "Requirement already satisfied: mdurl~=0.1 in c:\\users\\nico\\appdata\\local\\packages\\pythonsoftwarefoundation.python.3.10_qbz5n2kfra8p0\\localcache\\local-packages\\python312\\site-packages (from markdown-it-py>=2.2.0->rich->keras>=3.5.0->tensorflow-intel==2.18.0->tensorflow) (0.1.2)\n",
      "Using cached tensorflow-2.18.0-cp312-cp312-win_amd64.whl (7.5 kB)\n",
      "Using cached tensorflow_intel-2.18.0-cp312-cp312-win_amd64.whl (390.3 MB)\n",
      "Installing collected packages: tensorflow-intel, tensorflow\n"
     ]
    },
    {
     "name": "stderr",
     "output_type": "stream",
     "text": [
      "ERROR: Could not install packages due to an OSError: [Errno 2] No such file or directory: 'C:\\\\Users\\\\Nico\\\\AppData\\\\Local\\\\Packages\\\\PythonSoftwareFoundation.Python.3.10_qbz5n2kfra8p0\\\\LocalCache\\\\local-packages\\\\Python312\\\\site-packages\\\\tensorflow\\\\include\\\\external\\\\com_github_grpc_grpc\\\\src\\\\core\\\\ext\\\\filters\\\\client_channel\\\\lb_policy\\\\grpclb\\\\client_load_reporting_filter.h'\n",
      "HINT: This error might have occurred since this system does not have Windows Long Path support enabled. You can find information on how to enable this at https://pip.pypa.io/warnings/enable-long-paths\n",
      "\n",
      "\n",
      "[notice] A new release of pip is available: 24.2 -> 24.3.1\n",
      "[notice] To update, run: C:\\Users\\Nico\\AppData\\Local\\Microsoft\\WindowsApps\\PythonSoftwareFoundation.Python.3.12_qbz5n2kfra8p0\\python.exe -m pip install --upgrade pip\n"
     ]
    }
   ],
   "source": [
    "#!pip install pandas\n",
    "#!pip install numpy\n",
    "#!pip install matplotlib\n",
    "#!pip install seaborn\n",
    "#!pip install scikit-learn\n",
    "#!pip install fastparquet\n",
    "!pip uninstall tensorflow\n",
    "!pip install tensorflow\n",
    "#!pip install keras\n",
    "#!pip uninstall xgboost\n",
    "#!pip install xgboost\n",
    "\n"
   ]
  },
  {
   "cell_type": "code",
   "execution_count": 8,
   "metadata": {},
   "outputs": [
    {
     "ename": "ModuleNotFoundError",
     "evalue": "No module named 'tensorflow.python'",
     "output_type": "error",
     "traceback": [
      "\u001b[1;31m---------------------------------------------------------------------------\u001b[0m",
      "\u001b[1;31mModuleNotFoundError\u001b[0m                       Traceback (most recent call last)",
      "Cell \u001b[1;32mIn[8], line 9\u001b[0m\n\u001b[0;32m      7\u001b[0m \u001b[38;5;28;01mfrom\u001b[39;00m \u001b[38;5;21;01msklearn\u001b[39;00m\u001b[38;5;21;01m.\u001b[39;00m\u001b[38;5;21;01mensemble\u001b[39;00m \u001b[38;5;28;01mimport\u001b[39;00m RandomForestClassifier\n\u001b[0;32m      8\u001b[0m \u001b[38;5;28;01mfrom\u001b[39;00m \u001b[38;5;21;01mimblearn\u001b[39;00m\u001b[38;5;21;01m.\u001b[39;00m\u001b[38;5;21;01mover_sampling\u001b[39;00m \u001b[38;5;28;01mimport\u001b[39;00m SMOTE\n\u001b[1;32m----> 9\u001b[0m \u001b[38;5;28;01mimport\u001b[39;00m \u001b[38;5;21;01mtensorflow\u001b[39;00m \u001b[38;5;28;01mas\u001b[39;00m \u001b[38;5;21;01mtf\u001b[39;00m\n\u001b[0;32m     10\u001b[0m \u001b[38;5;28;01mfrom\u001b[39;00m \u001b[38;5;21;01mtensorflow\u001b[39;00m \u001b[38;5;28;01mimport\u001b[39;00m keras\n\u001b[0;32m     11\u001b[0m \u001b[38;5;28;01mfrom\u001b[39;00m \u001b[38;5;21;01mtensorflow\u001b[39;00m\u001b[38;5;21;01m.\u001b[39;00m\u001b[38;5;21;01mkeras\u001b[39;00m \u001b[38;5;28;01mimport\u001b[39;00m layers\n",
      "File \u001b[1;32m~\\AppData\\Local\\Packages\\PythonSoftwareFoundation.Python.3.10_qbz5n2kfra8p0\\LocalCache\\local-packages\\Python310\\site-packages\\tensorflow\\__init__.py:40\u001b[0m\n\u001b[0;32m     37\u001b[0m _os\u001b[38;5;241m.\u001b[39menviron\u001b[38;5;241m.\u001b[39msetdefault(\u001b[38;5;124m\"\u001b[39m\u001b[38;5;124mENABLE_RUNTIME_UPTIME_TELEMETRY\u001b[39m\u001b[38;5;124m\"\u001b[39m, \u001b[38;5;124m\"\u001b[39m\u001b[38;5;124m1\u001b[39m\u001b[38;5;124m\"\u001b[39m)\n\u001b[0;32m     39\u001b[0m \u001b[38;5;66;03m# Do not remove this line; See https://github.com/tensorflow/tensorflow/issues/42596\u001b[39;00m\n\u001b[1;32m---> 40\u001b[0m \u001b[38;5;28;01mfrom\u001b[39;00m \u001b[38;5;21;01mtensorflow\u001b[39;00m\u001b[38;5;21;01m.\u001b[39;00m\u001b[38;5;21;01mpython\u001b[39;00m \u001b[38;5;28;01mimport\u001b[39;00m pywrap_tensorflow \u001b[38;5;28;01mas\u001b[39;00m _pywrap_tensorflow  \u001b[38;5;66;03m# pylint: disable=unused-import\u001b[39;00m\n\u001b[0;32m     41\u001b[0m \u001b[38;5;28;01mfrom\u001b[39;00m \u001b[38;5;21;01mtensorflow\u001b[39;00m\u001b[38;5;21;01m.\u001b[39;00m\u001b[38;5;21;01mpython\u001b[39;00m\u001b[38;5;21;01m.\u001b[39;00m\u001b[38;5;21;01mtools\u001b[39;00m \u001b[38;5;28;01mimport\u001b[39;00m module_util \u001b[38;5;28;01mas\u001b[39;00m _module_util\n\u001b[0;32m     42\u001b[0m \u001b[38;5;28;01mfrom\u001b[39;00m \u001b[38;5;21;01mtensorflow\u001b[39;00m\u001b[38;5;21;01m.\u001b[39;00m\u001b[38;5;21;01mpython\u001b[39;00m\u001b[38;5;21;01m.\u001b[39;00m\u001b[38;5;21;01mutil\u001b[39;00m\u001b[38;5;21;01m.\u001b[39;00m\u001b[38;5;21;01mlazy_loader\u001b[39;00m \u001b[38;5;28;01mimport\u001b[39;00m KerasLazyLoader \u001b[38;5;28;01mas\u001b[39;00m _KerasLazyLoader\n",
      "\u001b[1;31mModuleNotFoundError\u001b[0m: No module named 'tensorflow.python'"
     ]
    }
   ],
   "source": [
    "import numpy as np\n",
    "import pandas as pd\n",
    "import matplotlib.pyplot as plt\n",
    "from sklearn.model_selection import train_test_split\n",
    "from sklearn.metrics import classification_report, confusion_matrix, ConfusionMatrixDisplay, accuracy_score, precision_score, recall_score, f1_score, roc_curve, auc\n",
    "from sklearn.preprocessing import LabelEncoder, MinMaxScaler\n",
    "from sklearn.ensemble import RandomForestClassifier\n",
    "from imblearn.over_sampling import SMOTE\n",
    "import tensorflow as tf\n",
    "from tensorflow import keras\n",
    "from tensorflow.keras import layers\n",
    "from tensorflow.keras.models import Sequential\n",
    "from tensorflow.keras.layers import Dense, Dropout, Activation\n",
    "from tensorflow.keras.optimizers import Adam\n",
    "from tensorflow.keras.utils import to_categorical\n",
    "\n",
    "from models.HerarchyModel.HierarchyModel import HerarchyModel\n",
    "\n",
    "from fastparquet import ParquetFile\n"
   ]
  },
  {
   "cell_type": "markdown",
   "metadata": {},
   "source": [
    "# Complete Datset"
   ]
  },
  {
   "cell_type": "code",
   "execution_count": null,
   "metadata": {},
   "outputs": [],
   "source": [
    "data = pd.read_parquet('Datasets/Complete/cic-collection.parquet')"
   ]
  },
  {
   "cell_type": "code",
   "execution_count": null,
   "metadata": {},
   "outputs": [
    {
     "name": "stdout",
     "output_type": "stream",
     "text": [
      "AttackType\n",
      "BruteForce      2020\n",
      "XSS              876\n",
      "SQLInjection      99\n",
      "Name: count, dtype: int64\n"
     ]
    }
   ],
   "source": [
    "data.columns = data.columns.str.strip()\n",
    "data.rename(columns={'Label': 'AttackType'}, inplace=True)\n",
    "\n",
    "data = data[data['AttackType'].str.contains('Webattack-Bruteforce|Webattack-XSS|Webattack-SQLi', case=False)]\n",
    "\n",
    "\n",
    "data['AttackType'] = data['AttackType'].str.replace('Webattack-bruteforce', 'BruteForce', case=False)\n",
    "data['AttackType'] = data['AttackType'].str.replace('Webattack-XSS', 'XSS', case=False)\n",
    "data['AttackType'] = data['AttackType'].str.replace('Webattack-SQLi', 'SQLInjection', case=False)\n",
    "\n",
    "print(data['AttackType'].value_counts())"
   ]
  },
  {
   "cell_type": "code",
   "execution_count": null,
   "metadata": {},
   "outputs": [
    {
     "name": "stdout",
     "output_type": "stream",
     "text": [
      "AttackType\n",
      "BENIGN                        393441\n",
      "PortScan                      158930\n",
      "DDoS                          128027\n",
      "Web Attack - Brute Force        1507\n",
      "Web Attack - XSS                 652\n",
      "Web Attack - Sql Injection        21\n",
      "Name: count, dtype: int64\n"
     ]
    }
   ],
   "source": [
    "dataDdos = pd.read_csv('Datasets/Friday-WorkingHours-Afternoon-DDos.pcap_ISCX.csv')\n",
    "dataPortScan = pd.read_csv('Datasets/Friday-WorkingHours-Afternoon-PortScan.pcap_ISCX.csv')\n",
    "dataWebAttacks = pd.read_csv('Datasets/Thursday-WorkingHours-Morning-WebAttacks.pcap_ISCX.csv')\n",
    "\n",
    "dataSmall = pd.concat([dataDdos, dataPortScan, dataWebAttacks], ignore_index=True)\n",
    "\n",
    "dataSmall.columns = dataSmall.columns.str.strip()\n",
    "\n",
    "dataSmall.rename(columns={'Label': 'AttackType'}, inplace=True)\n",
    "dataSmall['AttackType'] = dataSmall['AttackType'].str.replace('�', '-')\n",
    "\n",
    "print(dataSmall['AttackType'].value_counts())"
   ]
  },
  {
   "cell_type": "code",
   "execution_count": null,
   "metadata": {},
   "outputs": [
    {
     "name": "stdout",
     "output_type": "stream",
     "text": [
      "AttackType\n",
      "BENIGN          393441\n",
      "PortScan        158930\n",
      "DDoS            128027\n",
      "BruteForce        1507\n",
      "XSS                652\n",
      "SQLInjection        21\n",
      "Name: count, dtype: int64\n"
     ]
    }
   ],
   "source": [
    "dataSmall['AttackType'] = dataSmall['AttackType'].str.replace('Web Attack - Brute Force', 'BruteForce')\n",
    "dataSmall['AttackType'] = dataSmall['AttackType'].str.replace('Web Attack - XSS', 'XSS')\n",
    "dataSmall['AttackType'] = dataSmall['AttackType'].str.replace('Web Attack - Sql Injection', 'SQLInjection')\n",
    "print(dataSmall['AttackType'].value_counts())"
   ]
  },
  {
   "cell_type": "code",
   "execution_count": null,
   "metadata": {},
   "outputs": [
    {
     "name": "stdout",
     "output_type": "stream",
     "text": [
      "dataSmall and data do not have the same columns.\n",
      "Columns in data but not in dataSmall: {'Avg Packet Size', 'Fwd Packets Length Total', 'Fwd Act Data Packets', 'Init Fwd Win Bytes', 'ClassLabel', 'Bwd Packets Length Total', 'Packet Length Max', 'Init Bwd Win Bytes', 'Fwd Seg Size Min'}\n",
      "Columns in dataSmall but not in data: {'FIN Flag Count', 'Min Packet Length', 'min_seg_size_forward', 'Bwd PSH Flags', 'Bwd Avg Packets/Bulk', 'Init_Win_bytes_forward', 'act_data_pkt_fwd', 'Down/Up Ratio', 'Max Packet Length', 'ACK Flag Count', 'ECE Flag Count', 'Total Length of Bwd Packets', 'Bwd URG Flags', 'Total Length of Fwd Packets', 'Bwd Avg Bulk Rate', 'Fwd Avg Packets/Bulk', 'Fwd Avg Bulk Rate', 'Fwd Avg Bytes/Bulk', 'Fwd Packet Length Min', 'Init_Win_bytes_backward', 'Fwd Header Length.1', 'Average Packet Size', 'CWE Flag Count', 'PSH Flag Count', 'Bwd Packet Length Min', 'Bwd Avg Bytes/Bulk', 'Fwd URG Flags', 'Destination Port', 'RST Flag Count'}\n",
      "Number of columns they share: 50\n"
     ]
    }
   ],
   "source": [
    "data.replace([np.inf, -np.inf], np.nan, inplace=True)\n",
    "data.dropna(inplace=True)\n",
    "dataSmall.replace([np.inf, -np.inf], np.nan, inplace=True)\n",
    "dataSmall.dropna(inplace=True)\n",
    "\n",
    "# Check if dataSmall and data have the same columns\n",
    "columns_data = set(data.columns)\n",
    "columns_dataSmall = set(dataSmall.columns)\n",
    "\n",
    "if columns_data == columns_dataSmall:\n",
    "    print(\"dataSmall and data have the same columns.\")\n",
    "else:\n",
    "    print(\"dataSmall and data do not have the same columns.\")\n",
    "    print(\"Columns in data but not in dataSmall:\", columns_data - columns_dataSmall)\n",
    "    print(\"Columns in dataSmall but not in data:\", columns_dataSmall - columns_data)\n",
    "    \n",
    "    shared_columns = columns_data.intersection(columns_dataSmall)\n",
    "    print(f\"Number of columns they share: {len(shared_columns)}\")\n",
    "\n",
    "shared_columns = list(shared_columns)\n",
    "data = data[shared_columns]\n",
    "dataSmall = dataSmall[shared_columns]\n"
   ]
  },
  {
   "cell_type": "code",
   "execution_count": null,
   "metadata": {},
   "outputs": [
    {
     "data": {
      "text/plain": [
       "(685033, 50)"
      ]
     },
     "execution_count": 90,
     "metadata": {},
     "output_type": "execute_result"
    }
   ],
   "source": [
    "dataset = pd.concat([data, dataSmall], ignore_index=True)\n",
    "\n",
    "dataset.to_csv('Datasets/Complete/Dataset.csv', index=False)\n",
    "dataset.shape\n"
   ]
  },
  {
   "cell_type": "markdown",
   "metadata": {},
   "source": [
    "# Training\n",
    "\n",
    "We will retrain the models again, this time with the complete Datset, so we don't have any inconsistencies. We will be taking the parameters that performed best in each layer study."
   ]
  },
  {
   "cell_type": "markdown",
   "metadata": {},
   "source": [
    "### Level 1 - Random Forest\n",
    "\n",
    "MALIGN - BENIGN"
   ]
  },
  {
   "cell_type": "code",
   "execution_count": null,
   "metadata": {},
   "outputs": [],
   "source": [
    "X = dataset.drop('AttackType', axis=1)\n",
    "y = dataset['AttackType']"
   ]
  },
  {
   "cell_type": "code",
   "execution_count": null,
   "metadata": {},
   "outputs": [
    {
     "name": "stdout",
     "output_type": "stream",
     "text": [
      "AttackType\n",
      "BENIGN          393029\n",
      "PortScan        158804\n",
      "DDoS            128025\n",
      "BruteForce       50000\n",
      "XSS              50000\n",
      "SQLInjection     50000\n",
      "Name: count, dtype: int64\n"
     ]
    }
   ],
   "source": [
    "target_classes = {\n",
    "    \"BruteForce\": 50000,\n",
    "    \"XSS\": 50000,\n",
    "    \"SQLInjection\": 50000\n",
    "}\n",
    "\n",
    "smote = SMOTE(sampling_strategy=target_classes, random_state=42)\n",
    "X_resampled, y_resampled = smote.fit_resample(X, y)\n",
    "\n",
    "print(y_resampled.value_counts())"
   ]
  },
  {
   "cell_type": "code",
   "execution_count": null,
   "metadata": {},
   "outputs": [
    {
     "name": "stdout",
     "output_type": "stream",
     "text": [
      "AttackType\n",
      "MALIGN    436829\n",
      "BENIGN    393029\n",
      "Name: count, dtype: int64\n"
     ]
    }
   ],
   "source": [
    "y_resampled = y_resampled.apply(lambda x: 'MALIGN' if x != 'BENIGN' else x)\n",
    "print(y_resampled.value_counts())\n"
   ]
  },
  {
   "cell_type": "code",
   "execution_count": null,
   "metadata": {},
   "outputs": [
    {
     "name": "stdout",
     "output_type": "stream",
     "text": [
      "              precision    recall  f1-score   support\n",
      "\n",
      "      BENIGN       0.99      1.00      1.00     78452\n",
      "      MALIGN       1.00      1.00      1.00     87520\n",
      "\n",
      "    accuracy                           1.00    165972\n",
      "   macro avg       1.00      1.00      1.00    165972\n",
      "weighted avg       1.00      1.00      1.00    165972\n",
      "\n"
     ]
    }
   ],
   "source": [
    "rf = RandomForestClassifier(n_estimators=100, random_state=42)\n",
    "\n",
    "X_train, X_test, y_train, y_test = train_test_split(X_resampled, y_resampled, test_size=0.2, random_state=42)\n",
    "\n",
    "rf.fit(X_train, y_train)\n",
    "\n",
    "y_pred = rf.predict(X_test)\n",
    "\n",
    "print(classification_report(y_test, y_pred))"
   ]
  },
  {
   "cell_type": "markdown",
   "metadata": {},
   "source": [
    "We now save the model"
   ]
  },
  {
   "cell_type": "code",
   "execution_count": null,
   "metadata": {},
   "outputs": [
    {
     "name": "stdout",
     "output_type": "stream",
     "text": [
      "Model saved to LayerModels/lvl1_rf_model.pkl\n"
     ]
    }
   ],
   "source": [
    "import joblib\n",
    "\n",
    "joblib_file = \"LayerModels/lvl1_rf_model.pkl\"\n",
    "joblib.dump(rf, joblib_file)\n",
    "\n",
    "print(\"Model saved to\", joblib_file)"
   ]
  },
  {
   "cell_type": "markdown",
   "metadata": {},
   "source": [
    "## Level 2 - Neural Network\n",
    "DDos vs PortScan vs WebAttack"
   ]
  },
  {
   "cell_type": "code",
   "execution_count": null,
   "metadata": {},
   "outputs": [
    {
     "name": "stdout",
     "output_type": "stream",
     "text": [
      "AttackType\n",
      "PortScan        158804\n",
      "DDoS            128025\n",
      "BruteForce       50000\n",
      "XSS              50000\n",
      "SQLInjection     50000\n",
      "Name: count, dtype: int64\n"
     ]
    }
   ],
   "source": [
    "X_2 = X[y != 'BENIGN']\n",
    "y_2 = y[y != 'BENIGN']\n",
    "\n",
    "target_classes = {\n",
    "    \"BruteForce\": 50000,\n",
    "    \"XSS\": 50000,\n",
    "    \"SQLInjection\": 50000\n",
    "}\n",
    "\n",
    "smote = SMOTE(sampling_strategy=target_classes, random_state=42)\n",
    "X_resampled, y_resampled = smote.fit_resample(X_2, y_2)\n",
    "\n",
    "print(y_resampled.value_counts())"
   ]
  },
  {
   "cell_type": "code",
   "execution_count": null,
   "metadata": {},
   "outputs": [
    {
     "name": "stdout",
     "output_type": "stream",
     "text": [
      "AttackType\n",
      "PortScan     158804\n",
      "WebAttack    150000\n",
      "DDoS         128025\n",
      "Name: count, dtype: int64\n"
     ]
    }
   ],
   "source": [
    "y_resampled = y_resampled.apply(lambda x: 'WebAttack' if \"BruteForce\" in x else x)\n",
    "y_resampled = y_resampled.apply(lambda x: 'WebAttack' if \"XSS\" in x else x)\n",
    "y_resampled = y_resampled.apply(lambda x: 'WebAttack' if \"SQLInjection\" in x else x)\n",
    "print(y_resampled.value_counts())"
   ]
  },
  {
   "cell_type": "code",
   "execution_count": null,
   "metadata": {},
   "outputs": [
    {
     "data": {
      "text/html": [
       "<div>\n",
       "<style scoped>\n",
       "    .dataframe tbody tr th:only-of-type {\n",
       "        vertical-align: middle;\n",
       "    }\n",
       "\n",
       "    .dataframe tbody tr th {\n",
       "        vertical-align: top;\n",
       "    }\n",
       "\n",
       "    .dataframe thead th {\n",
       "        text-align: right;\n",
       "    }\n",
       "</style>\n",
       "<table border=\"1\" class=\"dataframe\">\n",
       "  <thead>\n",
       "    <tr style=\"text-align: right;\">\n",
       "      <th></th>\n",
       "      <th>Fwd IAT Std</th>\n",
       "      <th>Bwd Packet Length Max</th>\n",
       "      <th>Idle Mean</th>\n",
       "      <th>Subflow Fwd Packets</th>\n",
       "      <th>Fwd IAT Min</th>\n",
       "      <th>Bwd IAT Max</th>\n",
       "      <th>Idle Min</th>\n",
       "      <th>Idle Std</th>\n",
       "      <th>Bwd IAT Total</th>\n",
       "      <th>Avg Fwd Segment Size</th>\n",
       "      <th>...</th>\n",
       "      <th>Fwd IAT Max</th>\n",
       "      <th>URG Flag Count</th>\n",
       "      <th>Flow Duration</th>\n",
       "      <th>Fwd IAT Mean</th>\n",
       "      <th>Fwd Packet Length Mean</th>\n",
       "      <th>Bwd IAT Mean</th>\n",
       "      <th>SYN Flag Count</th>\n",
       "      <th>Flow IAT Mean</th>\n",
       "      <th>Flow IAT Max</th>\n",
       "      <th>Packet Length Std</th>\n",
       "    </tr>\n",
       "  </thead>\n",
       "  <tbody>\n",
       "    <tr>\n",
       "      <th>count</th>\n",
       "      <td>436829.000000</td>\n",
       "      <td>436829.000000</td>\n",
       "      <td>436829.000000</td>\n",
       "      <td>436829.000000</td>\n",
       "      <td>4.368290e+05</td>\n",
       "      <td>436829.000000</td>\n",
       "      <td>436829.000000</td>\n",
       "      <td>436829.000000</td>\n",
       "      <td>436829.000000</td>\n",
       "      <td>436829.000000</td>\n",
       "      <td>...</td>\n",
       "      <td>436829.000000</td>\n",
       "      <td>436829.000000</td>\n",
       "      <td>4.368290e+05</td>\n",
       "      <td>436829.000000</td>\n",
       "      <td>436829.000000</td>\n",
       "      <td>436829.000000</td>\n",
       "      <td>436829.000000</td>\n",
       "      <td>4.368290e+05</td>\n",
       "      <td>4.368290e+05</td>\n",
       "      <td>436829.000000</td>\n",
       "    </tr>\n",
       "    <tr>\n",
       "      <th>mean</th>\n",
       "      <td>0.045557</td>\n",
       "      <td>0.130556</td>\n",
       "      <td>0.030554</td>\n",
       "      <td>0.025899</td>\n",
       "      <td>6.649953e-04</td>\n",
       "      <td>0.003844</td>\n",
       "      <td>0.022312</td>\n",
       "      <td>0.021438</td>\n",
       "      <td>0.012375</td>\n",
       "      <td>0.030363</td>\n",
       "      <td>...</td>\n",
       "      <td>0.049423</td>\n",
       "      <td>0.029952</td>\n",
       "      <td>6.551843e-02</td>\n",
       "      <td>0.011962</td>\n",
       "      <td>0.030363</td>\n",
       "      <td>0.001367</td>\n",
       "      <td>0.000002</td>\n",
       "      <td>1.859379e-02</td>\n",
       "      <td>5.213140e-02</td>\n",
       "      <td>0.109927</td>\n",
       "    </tr>\n",
       "    <tr>\n",
       "      <th>std</th>\n",
       "      <td>0.111454</td>\n",
       "      <td>0.257076</td>\n",
       "      <td>0.116213</td>\n",
       "      <td>0.124527</td>\n",
       "      <td>1.635867e-02</td>\n",
       "      <td>0.014993</td>\n",
       "      <td>0.102588</td>\n",
       "      <td>0.123741</td>\n",
       "      <td>0.063134</td>\n",
       "      <td>0.088117</td>\n",
       "      <td>...</td>\n",
       "      <td>0.143457</td>\n",
       "      <td>0.170456</td>\n",
       "      <td>1.693511e-01</td>\n",
       "      <td>0.028750</td>\n",
       "      <td>0.088117</td>\n",
       "      <td>0.011874</td>\n",
       "      <td>0.001513</td>\n",
       "      <td>4.333018e-02</td>\n",
       "      <td>1.428156e-01</td>\n",
       "      <td>0.213111</td>\n",
       "    </tr>\n",
       "    <tr>\n",
       "      <th>min</th>\n",
       "      <td>0.000000</td>\n",
       "      <td>0.000000</td>\n",
       "      <td>0.000000</td>\n",
       "      <td>0.000000</td>\n",
       "      <td>0.000000e+00</td>\n",
       "      <td>0.000000</td>\n",
       "      <td>0.000000</td>\n",
       "      <td>0.000000</td>\n",
       "      <td>0.000000</td>\n",
       "      <td>0.000000</td>\n",
       "      <td>...</td>\n",
       "      <td>0.000000</td>\n",
       "      <td>0.000000</td>\n",
       "      <td>0.000000e+00</td>\n",
       "      <td>0.000000</td>\n",
       "      <td>0.000000</td>\n",
       "      <td>0.000000</td>\n",
       "      <td>0.000000</td>\n",
       "      <td>0.000000e+00</td>\n",
       "      <td>0.000000e+00</td>\n",
       "      <td>0.000000</td>\n",
       "    </tr>\n",
       "    <tr>\n",
       "      <th>25%</th>\n",
       "      <td>0.000000</td>\n",
       "      <td>0.000000</td>\n",
       "      <td>0.000000</td>\n",
       "      <td>0.000000</td>\n",
       "      <td>9.999999e-08</td>\n",
       "      <td>0.000000</td>\n",
       "      <td>0.000000</td>\n",
       "      <td>0.000000</td>\n",
       "      <td>0.000000</td>\n",
       "      <td>0.000000</td>\n",
       "      <td>...</td>\n",
       "      <td>0.000000</td>\n",
       "      <td>0.000000</td>\n",
       "      <td>4.256749e-07</td>\n",
       "      <td>0.000000</td>\n",
       "      <td>0.000000</td>\n",
       "      <td>0.000000</td>\n",
       "      <td>0.000000</td>\n",
       "      <td>9.114475e-07</td>\n",
       "      <td>4.250000e-07</td>\n",
       "      <td>0.000000</td>\n",
       "    </tr>\n",
       "    <tr>\n",
       "      <th>50%</th>\n",
       "      <td>0.000022</td>\n",
       "      <td>0.000517</td>\n",
       "      <td>0.000000</td>\n",
       "      <td>0.009479</td>\n",
       "      <td>1.250000e-07</td>\n",
       "      <td>0.000000</td>\n",
       "      <td>0.000000</td>\n",
       "      <td>0.000000</td>\n",
       "      <td>0.000000</td>\n",
       "      <td>0.002867</td>\n",
       "      <td>...</td>\n",
       "      <td>0.000025</td>\n",
       "      <td>0.000000</td>\n",
       "      <td>4.939532e-03</td>\n",
       "      <td>0.000014</td>\n",
       "      <td>0.002867</td>\n",
       "      <td>0.000000</td>\n",
       "      <td>0.000000</td>\n",
       "      <td>1.515349e-03</td>\n",
       "      <td>4.883150e-03</td>\n",
       "      <td>0.000488</td>\n",
       "    </tr>\n",
       "    <tr>\n",
       "      <th>75%</th>\n",
       "      <td>0.062705</td>\n",
       "      <td>0.115077</td>\n",
       "      <td>0.000000</td>\n",
       "      <td>0.014218</td>\n",
       "      <td>3.323061e-06</td>\n",
       "      <td>0.000206</td>\n",
       "      <td>0.000000</td>\n",
       "      <td>0.000000</td>\n",
       "      <td>0.000257</td>\n",
       "      <td>0.010034</td>\n",
       "      <td>...</td>\n",
       "      <td>0.043448</td>\n",
       "      <td>0.000000</td>\n",
       "      <td>4.480956e-02</td>\n",
       "      <td>0.020883</td>\n",
       "      <td>0.010034</td>\n",
       "      <td>0.000063</td>\n",
       "      <td>0.000000</td>\n",
       "      <td>3.047102e-02</td>\n",
       "      <td>4.344787e-02</td>\n",
       "      <td>0.094638</td>\n",
       "    </tr>\n",
       "    <tr>\n",
       "      <th>max</th>\n",
       "      <td>1.000000</td>\n",
       "      <td>1.000000</td>\n",
       "      <td>1.000000</td>\n",
       "      <td>1.000000</td>\n",
       "      <td>1.000000e+00</td>\n",
       "      <td>1.000000</td>\n",
       "      <td>1.000000</td>\n",
       "      <td>1.000000</td>\n",
       "      <td>1.000000</td>\n",
       "      <td>1.000000</td>\n",
       "      <td>...</td>\n",
       "      <td>1.000000</td>\n",
       "      <td>1.000000</td>\n",
       "      <td>1.000000e+00</td>\n",
       "      <td>1.000000</td>\n",
       "      <td>1.000000</td>\n",
       "      <td>1.000000</td>\n",
       "      <td>1.000000</td>\n",
       "      <td>1.000000e+00</td>\n",
       "      <td>1.000000e+00</td>\n",
       "      <td>1.000000</td>\n",
       "    </tr>\n",
       "  </tbody>\n",
       "</table>\n",
       "<p>8 rows × 49 columns</p>\n",
       "</div>"
      ],
      "text/plain": [
       "         Fwd IAT Std  Bwd Packet Length Max      Idle Mean  \\\n",
       "count  436829.000000          436829.000000  436829.000000   \n",
       "mean        0.045557               0.130556       0.030554   \n",
       "std         0.111454               0.257076       0.116213   \n",
       "min         0.000000               0.000000       0.000000   \n",
       "25%         0.000000               0.000000       0.000000   \n",
       "50%         0.000022               0.000517       0.000000   \n",
       "75%         0.062705               0.115077       0.000000   \n",
       "max         1.000000               1.000000       1.000000   \n",
       "\n",
       "       Subflow Fwd Packets   Fwd IAT Min    Bwd IAT Max       Idle Min  \\\n",
       "count        436829.000000  4.368290e+05  436829.000000  436829.000000   \n",
       "mean              0.025899  6.649953e-04       0.003844       0.022312   \n",
       "std               0.124527  1.635867e-02       0.014993       0.102588   \n",
       "min               0.000000  0.000000e+00       0.000000       0.000000   \n",
       "25%               0.000000  9.999999e-08       0.000000       0.000000   \n",
       "50%               0.009479  1.250000e-07       0.000000       0.000000   \n",
       "75%               0.014218  3.323061e-06       0.000206       0.000000   \n",
       "max               1.000000  1.000000e+00       1.000000       1.000000   \n",
       "\n",
       "            Idle Std  Bwd IAT Total  Avg Fwd Segment Size  ...    Fwd IAT Max  \\\n",
       "count  436829.000000  436829.000000         436829.000000  ...  436829.000000   \n",
       "mean        0.021438       0.012375              0.030363  ...       0.049423   \n",
       "std         0.123741       0.063134              0.088117  ...       0.143457   \n",
       "min         0.000000       0.000000              0.000000  ...       0.000000   \n",
       "25%         0.000000       0.000000              0.000000  ...       0.000000   \n",
       "50%         0.000000       0.000000              0.002867  ...       0.000025   \n",
       "75%         0.000000       0.000257              0.010034  ...       0.043448   \n",
       "max         1.000000       1.000000              1.000000  ...       1.000000   \n",
       "\n",
       "       URG Flag Count  Flow Duration   Fwd IAT Mean  Fwd Packet Length Mean  \\\n",
       "count   436829.000000   4.368290e+05  436829.000000           436829.000000   \n",
       "mean         0.029952   6.551843e-02       0.011962                0.030363   \n",
       "std          0.170456   1.693511e-01       0.028750                0.088117   \n",
       "min          0.000000   0.000000e+00       0.000000                0.000000   \n",
       "25%          0.000000   4.256749e-07       0.000000                0.000000   \n",
       "50%          0.000000   4.939532e-03       0.000014                0.002867   \n",
       "75%          0.000000   4.480956e-02       0.020883                0.010034   \n",
       "max          1.000000   1.000000e+00       1.000000                1.000000   \n",
       "\n",
       "        Bwd IAT Mean  SYN Flag Count  Flow IAT Mean  Flow IAT Max  \\\n",
       "count  436829.000000   436829.000000   4.368290e+05  4.368290e+05   \n",
       "mean        0.001367        0.000002   1.859379e-02  5.213140e-02   \n",
       "std         0.011874        0.001513   4.333018e-02  1.428156e-01   \n",
       "min         0.000000        0.000000   0.000000e+00  0.000000e+00   \n",
       "25%         0.000000        0.000000   9.114475e-07  4.250000e-07   \n",
       "50%         0.000000        0.000000   1.515349e-03  4.883150e-03   \n",
       "75%         0.000063        0.000000   3.047102e-02  4.344787e-02   \n",
       "max         1.000000        1.000000   1.000000e+00  1.000000e+00   \n",
       "\n",
       "       Packet Length Std  \n",
       "count      436829.000000  \n",
       "mean            0.109927  \n",
       "std             0.213111  \n",
       "min             0.000000  \n",
       "25%             0.000000  \n",
       "50%             0.000488  \n",
       "75%             0.094638  \n",
       "max             1.000000  \n",
       "\n",
       "[8 rows x 49 columns]"
      ]
     },
     "execution_count": 98,
     "metadata": {},
     "output_type": "execute_result"
    }
   ],
   "source": [
    "scaler = MinMaxScaler()\n",
    "X_resampled_scaled = scaler.fit_transform(X_resampled)\n",
    "\n",
    "X_resampled_scaled = pd.DataFrame(X_resampled_scaled, columns=X_resampled.columns)\n",
    "\n",
    "X_resampled_scaled.describe()"
   ]
  },
  {
   "cell_type": "code",
   "execution_count": null,
   "metadata": {},
   "outputs": [
    {
     "name": "stdout",
     "output_type": "stream",
     "text": [
      "{np.int64(0): np.int64(128025), np.int64(1): np.int64(158804), np.int64(2): np.int64(150000)}\n"
     ]
    }
   ],
   "source": [
    "label_encoder = LabelEncoder()\n",
    "y_resampled_encoded = label_encoder.fit_transform(y_resampled)\n",
    "unique, counts = np.unique(y_resampled_encoded, return_counts=True)\n",
    "print(dict(zip(unique, counts)))"
   ]
  },
  {
   "cell_type": "code",
   "execution_count": null,
   "metadata": {},
   "outputs": [
    {
     "name": "stdout",
     "output_type": "stream",
     "text": [
      "Epoch 1/50\n"
     ]
    },
    {
     "name": "stderr",
     "output_type": "stream",
     "text": [
      "/Users/nico/Desktop/UPC/PAE/SentinelX/.venv/lib/python3.9/site-packages/keras/src/layers/core/dense.py:87: UserWarning: Do not pass an `input_shape`/`input_dim` argument to a layer. When using Sequential models, prefer using an `Input(shape)` object as the first layer in the model instead.\n",
      "  super().__init__(activity_regularizer=activity_regularizer, **kwargs)\n"
     ]
    },
    {
     "name": "stdout",
     "output_type": "stream",
     "text": [
      "\u001b[1m8737/8737\u001b[0m \u001b[32m━━━━━━━━━━━━━━━━━━━━\u001b[0m\u001b[37m\u001b[0m \u001b[1m4s\u001b[0m 385us/step - accuracy: 0.9749 - loss: 0.1011 - val_accuracy: 0.9994 - val_loss: 0.0049\n",
      "Epoch 2/50\n",
      "\u001b[1m8737/8737\u001b[0m \u001b[32m━━━━━━━━━━━━━━━━━━━━\u001b[0m\u001b[37m\u001b[0m \u001b[1m4s\u001b[0m 426us/step - accuracy: 0.9991 - loss: 0.0056 - val_accuracy: 0.9994 - val_loss: 0.0033\n",
      "Epoch 3/50\n",
      "\u001b[1m8737/8737\u001b[0m \u001b[32m━━━━━━━━━━━━━━━━━━━━\u001b[0m\u001b[37m\u001b[0m \u001b[1m3s\u001b[0m 381us/step - accuracy: 0.9991 - loss: 0.0044 - val_accuracy: 0.9995 - val_loss: 0.0033\n",
      "Epoch 4/50\n",
      "\u001b[1m8737/8737\u001b[0m \u001b[32m━━━━━━━━━━━━━━━━━━━━\u001b[0m\u001b[37m\u001b[0m \u001b[1m3s\u001b[0m 379us/step - accuracy: 0.9993 - loss: 0.0037 - val_accuracy: 0.9996 - val_loss: 0.0026\n",
      "Epoch 5/50\n",
      "\u001b[1m8737/8737\u001b[0m \u001b[32m━━━━━━━━━━━━━━━━━━━━\u001b[0m\u001b[37m\u001b[0m \u001b[1m3s\u001b[0m 376us/step - accuracy: 0.9994 - loss: 0.0031 - val_accuracy: 0.9997 - val_loss: 0.0025\n",
      "Epoch 6/50\n",
      "\u001b[1m8737/8737\u001b[0m \u001b[32m━━━━━━━━━━━━━━━━━━━━\u001b[0m\u001b[37m\u001b[0m \u001b[1m3s\u001b[0m 378us/step - accuracy: 0.9995 - loss: 0.0030 - val_accuracy: 0.9996 - val_loss: 0.0023\n",
      "Epoch 7/50\n",
      "\u001b[1m8737/8737\u001b[0m \u001b[32m━━━━━━━━━━━━━━━━━━━━\u001b[0m\u001b[37m\u001b[0m \u001b[1m3s\u001b[0m 377us/step - accuracy: 0.9996 - loss: 0.0024 - val_accuracy: 0.9997 - val_loss: 0.0024\n",
      "Epoch 8/50\n",
      "\u001b[1m8737/8737\u001b[0m \u001b[32m━━━━━━━━━━━━━━━━━━━━\u001b[0m\u001b[37m\u001b[0m \u001b[1m3s\u001b[0m 372us/step - accuracy: 0.9996 - loss: 0.0023 - val_accuracy: 0.9998 - val_loss: 0.0019\n",
      "Epoch 9/50\n",
      "\u001b[1m8737/8737\u001b[0m \u001b[32m━━━━━━━━━━━━━━━━━━━━\u001b[0m\u001b[37m\u001b[0m \u001b[1m3s\u001b[0m 377us/step - accuracy: 0.9995 - loss: 0.0026 - val_accuracy: 0.9998 - val_loss: 0.0019\n",
      "Epoch 10/50\n",
      "\u001b[1m8737/8737\u001b[0m \u001b[32m━━━━━━━━━━━━━━━━━━━━\u001b[0m\u001b[37m\u001b[0m \u001b[1m3s\u001b[0m 373us/step - accuracy: 0.9997 - loss: 0.0015 - val_accuracy: 0.9997 - val_loss: 0.0022\n",
      "Epoch 11/50\n",
      "\u001b[1m8737/8737\u001b[0m \u001b[32m━━━━━━━━━━━━━━━━━━━━\u001b[0m\u001b[37m\u001b[0m \u001b[1m3s\u001b[0m 373us/step - accuracy: 0.9997 - loss: 0.0022 - val_accuracy: 0.9999 - val_loss: 0.0017\n",
      "Epoch 12/50\n",
      "\u001b[1m8737/8737\u001b[0m \u001b[32m━━━━━━━━━━━━━━━━━━━━\u001b[0m\u001b[37m\u001b[0m \u001b[1m3s\u001b[0m 375us/step - accuracy: 0.9996 - loss: 0.0025 - val_accuracy: 0.9998 - val_loss: 0.0018\n",
      "Epoch 13/50\n",
      "\u001b[1m8737/8737\u001b[0m \u001b[32m━━━━━━━━━━━━━━━━━━━━\u001b[0m\u001b[37m\u001b[0m \u001b[1m3s\u001b[0m 373us/step - accuracy: 0.9997 - loss: 0.0015 - val_accuracy: 0.9998 - val_loss: 0.0025\n",
      "Epoch 14/50\n",
      "\u001b[1m8737/8737\u001b[0m \u001b[32m━━━━━━━━━━━━━━━━━━━━\u001b[0m\u001b[37m\u001b[0m \u001b[1m3s\u001b[0m 375us/step - accuracy: 0.9997 - loss: 0.0017 - val_accuracy: 0.9998 - val_loss: 0.0028\n",
      "Epoch 15/50\n",
      "\u001b[1m8737/8737\u001b[0m \u001b[32m━━━━━━━━━━━━━━━━━━━━\u001b[0m\u001b[37m\u001b[0m \u001b[1m3s\u001b[0m 373us/step - accuracy: 0.9997 - loss: 0.0020 - val_accuracy: 0.9998 - val_loss: 0.0028\n",
      "Epoch 16/50\n",
      "\u001b[1m8737/8737\u001b[0m \u001b[32m━━━━━━━━━━━━━━━━━━━━\u001b[0m\u001b[37m\u001b[0m \u001b[1m3s\u001b[0m 373us/step - accuracy: 0.9997 - loss: 0.0020 - val_accuracy: 0.9999 - val_loss: 0.0019\n",
      "Epoch 17/50\n",
      "\u001b[1m8737/8737\u001b[0m \u001b[32m━━━━━━━━━━━━━━━━━━━━\u001b[0m\u001b[37m\u001b[0m \u001b[1m3s\u001b[0m 377us/step - accuracy: 0.9998 - loss: 0.0012 - val_accuracy: 0.9999 - val_loss: 0.0023\n",
      "Epoch 18/50\n",
      "\u001b[1m8737/8737\u001b[0m \u001b[32m━━━━━━━━━━━━━━━━━━━━\u001b[0m\u001b[37m\u001b[0m \u001b[1m3s\u001b[0m 374us/step - accuracy: 0.9997 - loss: 0.0028 - val_accuracy: 0.9998 - val_loss: 0.0028\n",
      "Epoch 19/50\n",
      "\u001b[1m8737/8737\u001b[0m \u001b[32m━━━━━━━━━━━━━━━━━━━━\u001b[0m\u001b[37m\u001b[0m \u001b[1m3s\u001b[0m 377us/step - accuracy: 0.9997 - loss: 0.0020 - val_accuracy: 0.9998 - val_loss: 0.0028\n",
      "Epoch 20/50\n",
      "\u001b[1m8737/8737\u001b[0m \u001b[32m━━━━━━━━━━━━━━━━━━━━\u001b[0m\u001b[37m\u001b[0m \u001b[1m3s\u001b[0m 375us/step - accuracy: 0.9997 - loss: 0.0015 - val_accuracy: 0.9998 - val_loss: 0.0024\n",
      "Epoch 21/50\n",
      "\u001b[1m8737/8737\u001b[0m \u001b[32m━━━━━━━━━━━━━━━━━━━━\u001b[0m\u001b[37m\u001b[0m \u001b[1m3s\u001b[0m 399us/step - accuracy: 0.9997 - loss: 0.0022 - val_accuracy: 0.9996 - val_loss: 0.0029\n",
      "Epoch 22/50\n",
      "\u001b[1m8737/8737\u001b[0m \u001b[32m━━━━━━━━━━━━━━━━━━━━\u001b[0m\u001b[37m\u001b[0m \u001b[1m3s\u001b[0m 379us/step - accuracy: 0.9998 - loss: 0.0020 - val_accuracy: 0.9999 - val_loss: 0.0019\n",
      "Epoch 23/50\n",
      "\u001b[1m8737/8737\u001b[0m \u001b[32m━━━━━━━━━━━━━━━━━━━━\u001b[0m\u001b[37m\u001b[0m \u001b[1m3s\u001b[0m 377us/step - accuracy: 0.9998 - loss: 9.5354e-04 - val_accuracy: 0.9998 - val_loss: 0.0018\n",
      "Epoch 24/50\n",
      "\u001b[1m8737/8737\u001b[0m \u001b[32m━━━━━━━━━━━━━━━━━━━━\u001b[0m\u001b[37m\u001b[0m \u001b[1m3s\u001b[0m 375us/step - accuracy: 0.9996 - loss: 0.0023 - val_accuracy: 0.9999 - val_loss: 0.0016\n",
      "Epoch 25/50\n",
      "\u001b[1m8737/8737\u001b[0m \u001b[32m━━━━━━━━━━━━━━━━━━━━\u001b[0m\u001b[37m\u001b[0m \u001b[1m3s\u001b[0m 378us/step - accuracy: 0.9998 - loss: 0.0015 - val_accuracy: 0.9999 - val_loss: 0.0024\n",
      "Epoch 26/50\n",
      "\u001b[1m8737/8737\u001b[0m \u001b[32m━━━━━━━━━━━━━━━━━━━━\u001b[0m\u001b[37m\u001b[0m \u001b[1m3s\u001b[0m 377us/step - accuracy: 0.9998 - loss: 0.0014 - val_accuracy: 0.9999 - val_loss: 0.0026\n",
      "Epoch 27/50\n",
      "\u001b[1m8737/8737\u001b[0m \u001b[32m━━━━━━━━━━━━━━━━━━━━\u001b[0m\u001b[37m\u001b[0m \u001b[1m3s\u001b[0m 373us/step - accuracy: 0.9998 - loss: 0.0015 - val_accuracy: 0.9999 - val_loss: 0.0028\n",
      "Epoch 28/50\n",
      "\u001b[1m8737/8737\u001b[0m \u001b[32m━━━━━━━━━━━━━━━━━━━━\u001b[0m\u001b[37m\u001b[0m \u001b[1m3s\u001b[0m 377us/step - accuracy: 0.9997 - loss: 0.0017 - val_accuracy: 0.9999 - val_loss: 0.0017\n",
      "Epoch 29/50\n",
      "\u001b[1m8737/8737\u001b[0m \u001b[32m━━━━━━━━━━━━━━━━━━━━\u001b[0m\u001b[37m\u001b[0m \u001b[1m3s\u001b[0m 374us/step - accuracy: 0.9998 - loss: 0.0023 - val_accuracy: 0.9998 - val_loss: 0.0023\n",
      "Epoch 30/50\n",
      "\u001b[1m8737/8737\u001b[0m \u001b[32m━━━━━━━━━━━━━━━━━━━━\u001b[0m\u001b[37m\u001b[0m \u001b[1m3s\u001b[0m 377us/step - accuracy: 0.9997 - loss: 0.0022 - val_accuracy: 0.9999 - val_loss: 0.0022\n",
      "Epoch 31/50\n",
      "\u001b[1m8737/8737\u001b[0m \u001b[32m━━━━━━━━━━━━━━━━━━━━\u001b[0m\u001b[37m\u001b[0m \u001b[1m3s\u001b[0m 376us/step - accuracy: 0.9997 - loss: 0.0018 - val_accuracy: 0.9999 - val_loss: 0.0023\n",
      "Epoch 32/50\n",
      "\u001b[1m8737/8737\u001b[0m \u001b[32m━━━━━━━━━━━━━━━━━━━━\u001b[0m\u001b[37m\u001b[0m \u001b[1m3s\u001b[0m 373us/step - accuracy: 0.9997 - loss: 0.0017 - val_accuracy: 0.9999 - val_loss: 0.0018\n",
      "Epoch 33/50\n",
      "\u001b[1m8737/8737\u001b[0m \u001b[32m━━━━━━━━━━━━━━━━━━━━\u001b[0m\u001b[37m\u001b[0m \u001b[1m3s\u001b[0m 376us/step - accuracy: 0.9998 - loss: 0.0019 - val_accuracy: 0.9999 - val_loss: 0.0018\n",
      "Epoch 34/50\n",
      "\u001b[1m8737/8737\u001b[0m \u001b[32m━━━━━━━━━━━━━━━━━━━━\u001b[0m\u001b[37m\u001b[0m \u001b[1m3s\u001b[0m 373us/step - accuracy: 0.9999 - loss: 7.8413e-04 - val_accuracy: 0.9999 - val_loss: 0.0020\n",
      "Epoch 35/50\n",
      "\u001b[1m8737/8737\u001b[0m \u001b[32m━━━━━━━━━━━━━━━━━━━━\u001b[0m\u001b[37m\u001b[0m \u001b[1m3s\u001b[0m 375us/step - accuracy: 0.9998 - loss: 0.0012 - val_accuracy: 0.9999 - val_loss: 0.0019\n",
      "Epoch 36/50\n",
      "\u001b[1m8737/8737\u001b[0m \u001b[32m━━━━━━━━━━━━━━━━━━━━\u001b[0m\u001b[37m\u001b[0m \u001b[1m3s\u001b[0m 374us/step - accuracy: 0.9998 - loss: 0.0012 - val_accuracy: 0.9999 - val_loss: 0.0023\n",
      "Epoch 37/50\n",
      "\u001b[1m8737/8737\u001b[0m \u001b[32m━━━━━━━━━━━━━━━━━━━━\u001b[0m\u001b[37m\u001b[0m \u001b[1m3s\u001b[0m 379us/step - accuracy: 0.9998 - loss: 0.0015 - val_accuracy: 0.9999 - val_loss: 0.0021\n",
      "Epoch 38/50\n",
      "\u001b[1m8737/8737\u001b[0m \u001b[32m━━━━━━━━━━━━━━━━━━━━\u001b[0m\u001b[37m\u001b[0m \u001b[1m3s\u001b[0m 377us/step - accuracy: 0.9998 - loss: 0.0015 - val_accuracy: 0.9999 - val_loss: 0.0021\n",
      "Epoch 39/50\n",
      "\u001b[1m8737/8737\u001b[0m \u001b[32m━━━━━━━━━━━━━━━━━━━━\u001b[0m\u001b[37m\u001b[0m \u001b[1m3s\u001b[0m 372us/step - accuracy: 0.9998 - loss: 0.0013 - val_accuracy: 0.9999 - val_loss: 0.0019\n",
      "Epoch 40/50\n",
      "\u001b[1m8737/8737\u001b[0m \u001b[32m━━━━━━━━━━━━━━━━━━━━\u001b[0m\u001b[37m\u001b[0m \u001b[1m4s\u001b[0m 404us/step - accuracy: 0.9998 - loss: 0.0012 - val_accuracy: 0.9999 - val_loss: 0.0019\n",
      "Epoch 41/50\n",
      "\u001b[1m8737/8737\u001b[0m \u001b[32m━━━━━━━━━━━━━━━━━━━━\u001b[0m\u001b[37m\u001b[0m \u001b[1m3s\u001b[0m 378us/step - accuracy: 0.9998 - loss: 0.0017 - val_accuracy: 0.9999 - val_loss: 0.0028\n",
      "Epoch 42/50\n",
      "\u001b[1m8737/8737\u001b[0m \u001b[32m━━━━━━━━━━━━━━━━━━━━\u001b[0m\u001b[37m\u001b[0m \u001b[1m3s\u001b[0m 372us/step - accuracy: 0.9998 - loss: 0.0017 - val_accuracy: 0.9999 - val_loss: 0.0028\n",
      "Epoch 43/50\n",
      "\u001b[1m8737/8737\u001b[0m \u001b[32m━━━━━━━━━━━━━━━━━━━━\u001b[0m\u001b[37m\u001b[0m \u001b[1m3s\u001b[0m 377us/step - accuracy: 0.9998 - loss: 0.0023 - val_accuracy: 0.9998 - val_loss: 0.0025\n",
      "Epoch 44/50\n",
      "\u001b[1m8737/8737\u001b[0m \u001b[32m━━━━━━━━━━━━━━━━━━━━\u001b[0m\u001b[37m\u001b[0m \u001b[1m3s\u001b[0m 376us/step - accuracy: 0.9998 - loss: 0.0017 - val_accuracy: 0.9999 - val_loss: 0.0028\n",
      "Epoch 45/50\n",
      "\u001b[1m8737/8737\u001b[0m \u001b[32m━━━━━━━━━━━━━━━━━━━━\u001b[0m\u001b[37m\u001b[0m \u001b[1m3s\u001b[0m 372us/step - accuracy: 0.9998 - loss: 0.0016 - val_accuracy: 0.9999 - val_loss: 0.0024\n",
      "Epoch 46/50\n",
      "\u001b[1m8737/8737\u001b[0m \u001b[32m━━━━━━━━━━━━━━━━━━━━\u001b[0m\u001b[37m\u001b[0m \u001b[1m3s\u001b[0m 376us/step - accuracy: 0.9997 - loss: 0.0016 - val_accuracy: 0.9999 - val_loss: 0.0015\n",
      "Epoch 47/50\n",
      "\u001b[1m8737/8737\u001b[0m \u001b[32m━━━━━━━━━━━━━━━━━━━━\u001b[0m\u001b[37m\u001b[0m \u001b[1m3s\u001b[0m 380us/step - accuracy: 0.9997 - loss: 0.0015 - val_accuracy: 0.9999 - val_loss: 0.0026\n",
      "Epoch 48/50\n",
      "\u001b[1m8737/8737\u001b[0m \u001b[32m━━━━━━━━━━━━━━━━━━━━\u001b[0m\u001b[37m\u001b[0m \u001b[1m3s\u001b[0m 378us/step - accuracy: 0.9998 - loss: 0.0025 - val_accuracy: 0.9999 - val_loss: 0.0023\n",
      "Epoch 49/50\n",
      "\u001b[1m8737/8737\u001b[0m \u001b[32m━━━━━━━━━━━━━━━━━━━━\u001b[0m\u001b[37m\u001b[0m \u001b[1m3s\u001b[0m 379us/step - accuracy: 0.9998 - loss: 0.0013 - val_accuracy: 0.9999 - val_loss: 0.0021\n",
      "Epoch 50/50\n",
      "\u001b[1m8737/8737\u001b[0m \u001b[32m━━━━━━━━━━━━━━━━━━━━\u001b[0m\u001b[37m\u001b[0m \u001b[1m3s\u001b[0m 375us/step - accuracy: 0.9999 - loss: 0.0010 - val_accuracy: 0.9999 - val_loss: 0.0024\n",
      "\u001b[1m2731/2731\u001b[0m \u001b[32m━━━━━━━━━━━━━━━━━━━━\u001b[0m\u001b[37m\u001b[0m \u001b[1m1s\u001b[0m 216us/step - accuracy: 0.9999 - loss: 0.0015\n",
      "Test Accuracy: 1.00\n"
     ]
    }
   ],
   "source": [
    "X_train, X_test, y_train, y_test = train_test_split(X_resampled_scaled, y_resampled_encoded, test_size=0.2, random_state=42)\n",
    "\n",
    "\n",
    "model = Sequential([\n",
    "    Dense(128, activation='relu', input_dim=X_train.shape[1]),  # Primera capa oculta con 128 nodos\n",
    "    Dropout(0.3),  # Dropout para prevenir sobreajuste\n",
    "    Dense(64, activation='relu'),  # Segunda capa oculta con 64 nodos\n",
    "    Dropout(0.3),\n",
    "    Dense(3, activation='softmax')  # Capa de salida para clasificación multiclase (3 clases)\n",
    "])\n",
    "\n",
    "# 6. Compilar el modelo\n",
    "model.compile(optimizer=Adam(learning_rate=0.001),\n",
    "              loss='categorical_crossentropy',  # Para problemas multiclase\n",
    "              metrics=['accuracy'])\n",
    "\n",
    "y_train_one_hot = to_categorical(y_train, num_classes=3)\n",
    "y_test_one_hot = to_categorical(y_test, num_classes=3)\n",
    "\n",
    "# Entrenar el modelo\n",
    "history = model.fit(X_train, y_train_one_hot, epochs=50, batch_size=32, validation_split=0.2, verbose=1)\n",
    "\n",
    "# Evaluar el modelo\n",
    "test_loss, test_accuracy = model.evaluate(X_test, y_test_one_hot)\n",
    "print(f\"Test Accuracy: {test_accuracy:.2f}\")"
   ]
  },
  {
   "cell_type": "code",
   "execution_count": null,
   "metadata": {},
   "outputs": [
    {
     "name": "stdout",
     "output_type": "stream",
     "text": [
      "\u001b[1m2731/2731\u001b[0m \u001b[32m━━━━━━━━━━━━━━━━━━━━\u001b[0m\u001b[37m\u001b[0m \u001b[1m1s\u001b[0m 226us/step\n"
     ]
    },
    {
     "data": {
      "image/png": "[encoded data removed]",
      "text/plain": [
       "<Figure size 640x480 with 2 Axes>"
      ]
     },
     "metadata": {},
     "output_type": "display_data"
    },
    {
     "name": "stdout",
     "output_type": "stream",
     "text": [
      "Accuracy: 1.00\n",
      "Precision: 1.00\n",
      "Recall: 1.00\n",
      "F1 Score: 1.00\n"
     ]
    }
   ],
   "source": [
    "\n",
    "# Predict the labels for the test set\n",
    "y_pred_nn = model.predict(X_test)\n",
    "y_pred_nn_classes = np.argmax(y_pred_nn, axis=1)\n",
    "\n",
    "# Compute the confusion matrix\n",
    "cm = confusion_matrix(y_test, y_pred_nn_classes)\n",
    "\n",
    "# Plot the confusion matrix\n",
    "disp = ConfusionMatrixDisplay(confusion_matrix=cm, display_labels=label_encoder.classes_)\n",
    "disp.plot(cmap=plt.cm.Blues)\n",
    "plt.title('Confusion Matrix')\n",
    "plt.show()\n",
    "\n",
    "# Calculate and print other performance metrics\n",
    "accuracy = accuracy_score(y_test, y_pred_nn_classes)\n",
    "precision = precision_score(y_test, y_pred_nn_classes, average='weighted')\n",
    "recall = recall_score(y_test, y_pred_nn_classes, average='weighted')\n",
    "f1 = f1_score(y_test, y_pred_nn_classes, average='weighted')\n",
    "\n",
    "print(f'Accuracy: {accuracy:.2f}')\n",
    "print(f'Precision: {precision:.2f}')\n",
    "print(f'Recall: {recall:.2f}')\n",
    "print(f'F1 Score: {f1:.2f}')"
   ]
  },
  {
   "cell_type": "code",
   "execution_count": null,
   "metadata": {},
   "outputs": [
    {
     "name": "stdout",
     "output_type": "stream",
     "text": [
      "{'DDoS': np.int64(0), 'PortScan': np.int64(1), 'WebAttack': np.int64(2)}\n"
     ]
    }
   ],
   "source": [
    "class_mapping = dict(zip(label_encoder.classes_, label_encoder.transform(label_encoder.classes_)))\n",
    "print(class_mapping)"
   ]
  },
  {
   "cell_type": "code",
   "execution_count": null,
   "metadata": {},
   "outputs": [
    {
     "name": "stdout",
     "output_type": "stream",
     "text": [
      "Model saved to LayerModels/lvl2_nn_model.keras\n"
     ]
    }
   ],
   "source": [
    "import joblib\n",
    "\n",
    "joblib_file = \"LayerModels/lvl2_nn_model.keras\"\n",
    "joblib.dump(model, joblib_file)\n",
    "\n",
    "print(\"Model saved to\", joblib_file)"
   ]
  },
  {
   "cell_type": "markdown",
   "metadata": {},
   "source": [
    "### Level 3 - XGBoost\n",
    "\n",
    "BruteForce vs XSS vs SQLInjection"
   ]
  },
  {
   "cell_type": "code",
   "execution_count": null,
   "metadata": {},
   "outputs": [],
   "source": [
    "dataset = dataset[~dataset['AttackType'].isin(['BENIGN', 'PortScan', 'DDoS'])]\n",
    "\n",
    "X = dataset.drop(columns=['AttackType'])\n",
    "y = dataset['AttackType']"
   ]
  },
  {
   "cell_type": "code",
   "execution_count": null,
   "metadata": {},
   "outputs": [
    {
     "name": "stdout",
     "output_type": "stream",
     "text": [
      "AttackType\n",
      "BruteForce      50000\n",
      "XSS             50000\n",
      "SQLInjection    50000\n",
      "Name: count, dtype: int64\n"
     ]
    }
   ],
   "source": [
    "target_classes = {\n",
    "    \"BruteForce\": 50000,\n",
    "    \"XSS\": 50000,\n",
    "    \"SQLInjection\": 50000\n",
    "}\n",
    "\n",
    "smote = SMOTE(sampling_strategy=target_classes, random_state=42)\n",
    "X_resampled, y_resampled = smote.fit_resample(X, y)\n",
    "\n",
    "print(y_resampled.value_counts())"
   ]
  },
  {
   "cell_type": "code",
   "execution_count": null,
   "metadata": {},
   "outputs": [
    {
     "data": {
      "text/html": [
       "<div>\n",
       "<style scoped>\n",
       "    .dataframe tbody tr th:only-of-type {\n",
       "        vertical-align: middle;\n",
       "    }\n",
       "\n",
       "    .dataframe tbody tr th {\n",
       "        vertical-align: top;\n",
       "    }\n",
       "\n",
       "    .dataframe thead th {\n",
       "        text-align: right;\n",
       "    }\n",
       "</style>\n",
       "<table border=\"1\" class=\"dataframe\">\n",
       "  <thead>\n",
       "    <tr style=\"text-align: right;\">\n",
       "      <th></th>\n",
       "      <th>Fwd IAT Std</th>\n",
       "      <th>Bwd Packet Length Max</th>\n",
       "      <th>Idle Mean</th>\n",
       "      <th>Subflow Fwd Packets</th>\n",
       "      <th>Fwd IAT Min</th>\n",
       "      <th>Bwd IAT Max</th>\n",
       "      <th>Idle Min</th>\n",
       "      <th>Idle Std</th>\n",
       "      <th>Bwd IAT Total</th>\n",
       "      <th>Avg Fwd Segment Size</th>\n",
       "      <th>...</th>\n",
       "      <th>Fwd IAT Max</th>\n",
       "      <th>URG Flag Count</th>\n",
       "      <th>Flow Duration</th>\n",
       "      <th>Fwd IAT Mean</th>\n",
       "      <th>Fwd Packet Length Mean</th>\n",
       "      <th>Bwd IAT Mean</th>\n",
       "      <th>SYN Flag Count</th>\n",
       "      <th>Flow IAT Mean</th>\n",
       "      <th>Flow IAT Max</th>\n",
       "      <th>Packet Length Std</th>\n",
       "    </tr>\n",
       "  </thead>\n",
       "  <tbody>\n",
       "    <tr>\n",
       "      <th>count</th>\n",
       "      <td>150000.000000</td>\n",
       "      <td>150000.000000</td>\n",
       "      <td>150000.000000</td>\n",
       "      <td>150000.000000</td>\n",
       "      <td>150000.000000</td>\n",
       "      <td>150000.000000</td>\n",
       "      <td>150000.000000</td>\n",
       "      <td>150000.000000</td>\n",
       "      <td>150000.000000</td>\n",
       "      <td>150000.000000</td>\n",
       "      <td>...</td>\n",
       "      <td>150000.000000</td>\n",
       "      <td>150000.00000</td>\n",
       "      <td>150000.000000</td>\n",
       "      <td>150000.000000</td>\n",
       "      <td>150000.000000</td>\n",
       "      <td>150000.000000</td>\n",
       "      <td>150000.000000</td>\n",
       "      <td>150000.000000</td>\n",
       "      <td>150000.000000</td>\n",
       "      <td>150000.000000</td>\n",
       "    </tr>\n",
       "    <tr>\n",
       "      <th>mean</th>\n",
       "      <td>0.155798</td>\n",
       "      <td>0.059209</td>\n",
       "      <td>0.006451</td>\n",
       "      <td>0.061290</td>\n",
       "      <td>0.002643</td>\n",
       "      <td>0.176609</td>\n",
       "      <td>0.003336</td>\n",
       "      <td>0.012381</td>\n",
       "      <td>0.054995</td>\n",
       "      <td>0.077837</td>\n",
       "      <td>...</td>\n",
       "      <td>0.069851</td>\n",
       "      <td>0.08718</td>\n",
       "      <td>0.073689</td>\n",
       "      <td>0.032521</td>\n",
       "      <td>0.077837</td>\n",
       "      <td>0.090796</td>\n",
       "      <td>0.000007</td>\n",
       "      <td>0.025139</td>\n",
       "      <td>0.081944</td>\n",
       "      <td>0.107954</td>\n",
       "    </tr>\n",
       "    <tr>\n",
       "      <th>std</th>\n",
       "      <td>0.149527</td>\n",
       "      <td>0.112220</td>\n",
       "      <td>0.059051</td>\n",
       "      <td>0.207489</td>\n",
       "      <td>0.042527</td>\n",
       "      <td>0.364832</td>\n",
       "      <td>0.044088</td>\n",
       "      <td>0.110348</td>\n",
       "      <td>0.176002</td>\n",
       "      <td>0.138325</td>\n",
       "      <td>...</td>\n",
       "      <td>0.096107</td>\n",
       "      <td>0.28210</td>\n",
       "      <td>0.136797</td>\n",
       "      <td>0.056343</td>\n",
       "      <td>0.138325</td>\n",
       "      <td>0.195375</td>\n",
       "      <td>0.002582</td>\n",
       "      <td>0.054172</td>\n",
       "      <td>0.092227</td>\n",
       "      <td>0.192855</td>\n",
       "    </tr>\n",
       "    <tr>\n",
       "      <th>min</th>\n",
       "      <td>0.000000</td>\n",
       "      <td>0.000000</td>\n",
       "      <td>0.000000</td>\n",
       "      <td>0.000000</td>\n",
       "      <td>0.000000</td>\n",
       "      <td>0.000000</td>\n",
       "      <td>0.000000</td>\n",
       "      <td>0.000000</td>\n",
       "      <td>0.000000</td>\n",
       "      <td>0.000000</td>\n",
       "      <td>...</td>\n",
       "      <td>0.000000</td>\n",
       "      <td>0.00000</td>\n",
       "      <td>0.000000</td>\n",
       "      <td>0.000000</td>\n",
       "      <td>0.000000</td>\n",
       "      <td>0.000000</td>\n",
       "      <td>0.000000</td>\n",
       "      <td>0.000000</td>\n",
       "      <td>0.000000</td>\n",
       "      <td>0.000000</td>\n",
       "    </tr>\n",
       "    <tr>\n",
       "      <th>25%</th>\n",
       "      <td>0.000695</td>\n",
       "      <td>0.000000</td>\n",
       "      <td>0.000000</td>\n",
       "      <td>0.009479</td>\n",
       "      <td>0.000005</td>\n",
       "      <td>0.000000</td>\n",
       "      <td>0.000000</td>\n",
       "      <td>0.000000</td>\n",
       "      <td>0.000000</td>\n",
       "      <td>0.000000</td>\n",
       "      <td>...</td>\n",
       "      <td>0.000429</td>\n",
       "      <td>0.00000</td>\n",
       "      <td>0.044456</td>\n",
       "      <td>0.000146</td>\n",
       "      <td>0.000000</td>\n",
       "      <td>0.000000</td>\n",
       "      <td>0.000000</td>\n",
       "      <td>0.004806</td>\n",
       "      <td>0.064768</td>\n",
       "      <td>0.000000</td>\n",
       "    </tr>\n",
       "    <tr>\n",
       "      <th>50%</th>\n",
       "      <td>0.230809</td>\n",
       "      <td>0.000000</td>\n",
       "      <td>0.000000</td>\n",
       "      <td>0.009479</td>\n",
       "      <td>0.000013</td>\n",
       "      <td>0.000000</td>\n",
       "      <td>0.000000</td>\n",
       "      <td>0.000000</td>\n",
       "      <td>0.000000</td>\n",
       "      <td>0.000000</td>\n",
       "      <td>...</td>\n",
       "      <td>0.088973</td>\n",
       "      <td>0.00000</td>\n",
       "      <td>0.045987</td>\n",
       "      <td>0.044487</td>\n",
       "      <td>0.000000</td>\n",
       "      <td>0.000000</td>\n",
       "      <td>0.000000</td>\n",
       "      <td>0.029658</td>\n",
       "      <td>0.088973</td>\n",
       "      <td>0.000000</td>\n",
       "    </tr>\n",
       "    <tr>\n",
       "      <th>75%</th>\n",
       "      <td>0.252117</td>\n",
       "      <td>0.049345</td>\n",
       "      <td>0.000000</td>\n",
       "      <td>0.014218</td>\n",
       "      <td>0.000016</td>\n",
       "      <td>0.000814</td>\n",
       "      <td>0.000000</td>\n",
       "      <td>0.000000</td>\n",
       "      <td>0.000084</td>\n",
       "      <td>0.171732</td>\n",
       "      <td>...</td>\n",
       "      <td>0.097216</td>\n",
       "      <td>0.00000</td>\n",
       "      <td>0.050089</td>\n",
       "      <td>0.048615</td>\n",
       "      <td>0.171732</td>\n",
       "      <td>0.000889</td>\n",
       "      <td>0.000000</td>\n",
       "      <td>0.032410</td>\n",
       "      <td>0.097216</td>\n",
       "      <td>0.150857</td>\n",
       "    </tr>\n",
       "    <tr>\n",
       "      <th>max</th>\n",
       "      <td>1.000000</td>\n",
       "      <td>1.000000</td>\n",
       "      <td>1.000000</td>\n",
       "      <td>1.000000</td>\n",
       "      <td>1.000000</td>\n",
       "      <td>1.000000</td>\n",
       "      <td>1.000000</td>\n",
       "      <td>1.000000</td>\n",
       "      <td>1.000000</td>\n",
       "      <td>1.000000</td>\n",
       "      <td>...</td>\n",
       "      <td>1.000000</td>\n",
       "      <td>1.00000</td>\n",
       "      <td>1.000000</td>\n",
       "      <td>1.000000</td>\n",
       "      <td>1.000000</td>\n",
       "      <td>1.000000</td>\n",
       "      <td>1.000000</td>\n",
       "      <td>1.000000</td>\n",
       "      <td>1.000000</td>\n",
       "      <td>1.000000</td>\n",
       "    </tr>\n",
       "  </tbody>\n",
       "</table>\n",
       "<p>8 rows × 49 columns</p>\n",
       "</div>"
      ],
      "text/plain": [
       "         Fwd IAT Std  Bwd Packet Length Max      Idle Mean  \\\n",
       "count  150000.000000          150000.000000  150000.000000   \n",
       "mean        0.155798               0.059209       0.006451   \n",
       "std         0.149527               0.112220       0.059051   \n",
       "min         0.000000               0.000000       0.000000   \n",
       "25%         0.000695               0.000000       0.000000   \n",
       "50%         0.230809               0.000000       0.000000   \n",
       "75%         0.252117               0.049345       0.000000   \n",
       "max         1.000000               1.000000       1.000000   \n",
       "\n",
       "       Subflow Fwd Packets    Fwd IAT Min    Bwd IAT Max       Idle Min  \\\n",
       "count        150000.000000  150000.000000  150000.000000  150000.000000   \n",
       "mean              0.061290       0.002643       0.176609       0.003336   \n",
       "std               0.207489       0.042527       0.364832       0.044088   \n",
       "min               0.000000       0.000000       0.000000       0.000000   \n",
       "25%               0.009479       0.000005       0.000000       0.000000   \n",
       "50%               0.009479       0.000013       0.000000       0.000000   \n",
       "75%               0.014218       0.000016       0.000814       0.000000   \n",
       "max               1.000000       1.000000       1.000000       1.000000   \n",
       "\n",
       "            Idle Std  Bwd IAT Total  Avg Fwd Segment Size  ...    Fwd IAT Max  \\\n",
       "count  150000.000000  150000.000000         150000.000000  ...  150000.000000   \n",
       "mean        0.012381       0.054995              0.077837  ...       0.069851   \n",
       "std         0.110348       0.176002              0.138325  ...       0.096107   \n",
       "min         0.000000       0.000000              0.000000  ...       0.000000   \n",
       "25%         0.000000       0.000000              0.000000  ...       0.000429   \n",
       "50%         0.000000       0.000000              0.000000  ...       0.088973   \n",
       "75%         0.000000       0.000084              0.171732  ...       0.097216   \n",
       "max         1.000000       1.000000              1.000000  ...       1.000000   \n",
       "\n",
       "       URG Flag Count  Flow Duration   Fwd IAT Mean  Fwd Packet Length Mean  \\\n",
       "count    150000.00000  150000.000000  150000.000000           150000.000000   \n",
       "mean          0.08718       0.073689       0.032521                0.077837   \n",
       "std           0.28210       0.136797       0.056343                0.138325   \n",
       "min           0.00000       0.000000       0.000000                0.000000   \n",
       "25%           0.00000       0.044456       0.000146                0.000000   \n",
       "50%           0.00000       0.045987       0.044487                0.000000   \n",
       "75%           0.00000       0.050089       0.048615                0.171732   \n",
       "max           1.00000       1.000000       1.000000                1.000000   \n",
       "\n",
       "        Bwd IAT Mean  SYN Flag Count  Flow IAT Mean   Flow IAT Max  \\\n",
       "count  150000.000000   150000.000000  150000.000000  150000.000000   \n",
       "mean        0.090796        0.000007       0.025139       0.081944   \n",
       "std         0.195375        0.002582       0.054172       0.092227   \n",
       "min         0.000000        0.000000       0.000000       0.000000   \n",
       "25%         0.000000        0.000000       0.004806       0.064768   \n",
       "50%         0.000000        0.000000       0.029658       0.088973   \n",
       "75%         0.000889        0.000000       0.032410       0.097216   \n",
       "max         1.000000        1.000000       1.000000       1.000000   \n",
       "\n",
       "       Packet Length Std  \n",
       "count      150000.000000  \n",
       "mean            0.107954  \n",
       "std             0.192855  \n",
       "min             0.000000  \n",
       "25%             0.000000  \n",
       "50%             0.000000  \n",
       "75%             0.150857  \n",
       "max             1.000000  \n",
       "\n",
       "[8 rows x 49 columns]"
      ]
     },
     "execution_count": 106,
     "metadata": {},
     "output_type": "execute_result"
    }
   ],
   "source": [
    "scaler = MinMaxScaler()\n",
    "X_resampled_scaled = scaler.fit_transform(X_resampled)\n",
    "\n",
    "X_resampled_scaled = pd.DataFrame(X_resampled_scaled, columns=X_resampled.columns)\n",
    "\n",
    "X_resampled_scaled.describe()"
   ]
  },
  {
   "cell_type": "code",
   "execution_count": null,
   "metadata": {},
   "outputs": [
    {
     "name": "stdout",
     "output_type": "stream",
     "text": [
      "{np.int64(0): np.int64(50000), np.int64(1): np.int64(50000), np.int64(2): np.int64(50000)}\n"
     ]
    }
   ],
   "source": [
    "label_encoder = LabelEncoder()\n",
    "y_resampled_encoded = label_encoder.fit_transform(y_resampled)\n",
    "unique, counts = np.unique(y_resampled_encoded, return_counts=True)\n",
    "print(dict(zip(unique, counts)))"
   ]
  },
  {
   "cell_type": "code",
   "execution_count": null,
   "metadata": {},
   "outputs": [
    {
     "name": "stdout",
     "output_type": "stream",
     "text": [
      "              precision    recall  f1-score   support\n",
      "\n",
      "           0       0.98      0.96      0.97      9938\n",
      "           1       0.98      0.99      0.99     10110\n",
      "           2       0.98      0.98      0.98      9952\n",
      "\n",
      "    accuracy                           0.98     30000\n",
      "   macro avg       0.98      0.98      0.98     30000\n",
      "weighted avg       0.98      0.98      0.98     30000\n",
      "\n"
     ]
    }
   ],
   "source": [
    "import xgboost as xgb\n",
    "\n",
    "X_train, X_test, y_train, y_test = train_test_split(X_resampled_scaled, y_resampled_encoded, test_size=0.2, random_state=42)\n",
    "\n",
    "xgb_model = xgb.XGBClassifier(\n",
    "    colsample_bytree=1.0,\n",
    "    learning_rate=0.2,\n",
    "    max_depth=9,\n",
    "    n_estimators=200,\n",
    "    subsample=1.0,\n",
    "    random_state=42\n",
    ")\n",
    "\n",
    "xgb_model.fit(X_train, y_train)\n",
    "\n",
    "y_pred_xgb = xgb_model.predict(X_test)\n",
    "\n",
    "print(classification_report(y_test, y_pred_xgb))"
   ]
  },
  {
   "cell_type": "code",
   "execution_count": null,
   "metadata": {},
   "outputs": [
    {
     "name": "stdout",
     "output_type": "stream",
     "text": [
      "{'BruteForce': np.int64(0), 'SQLInjection': np.int64(1), 'XSS': np.int64(2)}\n"
     ]
    }
   ],
   "source": [
    "class_mapping = dict(zip(label_encoder.classes_, label_encoder.transform(label_encoder.classes_)))\n",
    "print(class_mapping)"
   ]
  },
  {
   "cell_type": "code",
   "execution_count": null,
   "metadata": {},
   "outputs": [
    {
     "name": "stdout",
     "output_type": "stream",
     "text": [
      "Model saved to LayerModels/lvl3_xgboost_model.pkl\n"
     ]
    }
   ],
   "source": [
    "import joblib\n",
    "\n",
    "# Save the model to a file\n",
    "joblib_file = \"LayerModels/lvl3_xgboost_model.pkl\"\n",
    "joblib.dump(xgb_model, joblib_file)\n",
    "\n",
    "print(f\"Model saved to {joblib_file}\")"
   ]
  }
 ],
 "metadata": {
  "kernelspec": {
   "display_name": "Python 3",
   "language": "python",
   "name": "python3"
  },
  "language_info": {
   "codemirror_mode": {
    "name": "ipython",
    "version": 3
   },
   "file_extension": ".py",
   "mimetype": "text/x-python",
   "name": "python",
   "nbconvert_exporter": "python",
   "pygments_lexer": "ipython3",
   "version": "3.10.11"
  }
 },
 "nbformat": 4,
 "nbformat_minor": 2
}
