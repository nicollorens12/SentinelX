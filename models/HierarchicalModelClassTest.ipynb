{
 "cells": [
  {
   "cell_type": "code",
   "execution_count": 1,
   "metadata": {},
   "outputs": [],
   "source": [
    "import pandas as pd\n",
    "import numpy as np\n",
    "from sklearn.model_selection import train_test_split\n",
    "from sklearn.metrics import classification_report \n",
    "import xgboost as xgb\n",
    "\n",
    "from HierarchicalModel.Hierarchical import HierarchyModel\n",
    "import joblib"
   ]
  },
  {
   "cell_type": "code",
   "execution_count": 2,
   "metadata": {},
   "outputs": [
    {
     "name": "stdout",
     "output_type": "stream",
     "text": [
      "AttackType\n",
      "BENIGN          393029\n",
      "PortScan        158804\n",
      "DDoS            128025\n",
      "BruteForce       50000\n",
      "XSS              50000\n",
      "SQLInjection     50000\n",
      "Name: count, dtype: int64\n"
     ]
    }
   ],
   "source": [
    "data = pd.read_csv('Datasets/Complete/Dataset.csv')\n",
    "\n",
    "# Dividir los datos en características y etiquetas\n",
    "X = data.drop('AttackType', axis=1)\n",
    "y = data['AttackType']\n",
    "\n",
    "print(y.value_counts())\n",
    "\n"
   ]
  },
  {
   "cell_type": "code",
   "execution_count": 3,
   "metadata": {},
   "outputs": [
    {
     "name": "stdout",
     "output_type": "stream",
     "text": [
      "              precision    recall  f1-score   support\n",
      "\n",
      "      BENIGN       0.99      1.00      1.00     78452\n",
      "  BruteForce       0.97      0.93      0.95     10037\n",
      "        DDoS       1.00      1.00      1.00     25788\n",
      "    PortScan       1.00      1.00      1.00     31733\n",
      "SQLInjection       0.97      0.99      0.98     10015\n",
      "         XSS       0.98      0.99      0.98      9947\n",
      "\n",
      "    accuracy                           0.99    165972\n",
      "   macro avg       0.99      0.98      0.99    165972\n",
      "weighted avg       0.99      0.99      0.99    165972\n",
      "\n"
     ]
    }
   ],
   "source": [
    "# Crear el modelo jerárquico con los modelos previamente entrenados\n",
    "hierarchy_model = HierarchyModel(\n",
    "    model_lvl1='LayerModels/model_lvl1_rf.joblib',\n",
    "    model_lvl2='LayerModels/model_lvl2_mlp.joblib',\n",
    "    model_lvl3='LayerModels/model_lvl3_xgb.joblib',\n",
    "    encoder_lvl2='LayerModels/label_encoder_lvl2.joblib',\n",
    "    encoder_lvl3='LayerModels/label_encoder_lvl3.joblib'\n",
    ")\n",
    "\n",
    "X_train, X_test, y_train, y_test = train_test_split(X, y, test_size=0.2, random_state=42)\n",
    "\n",
    "# Predicción final en el conjunto de prueba\n",
    "y_pred_final = hierarchy_model.predict(X_test)\n",
    "\n",
    "# Evaluación\n",
    "print(classification_report(y_test, y_pred_final))\n"
   ]
  }
 ],
 "metadata": {
  "kernelspec": {
   "display_name": "Python 3",
   "language": "python",
   "name": "python3"
  },
  "language_info": {
   "codemirror_mode": {
    "name": "ipython",
    "version": 3
   },
   "file_extension": ".py",
   "mimetype": "text/x-python",
   "name": "python",
   "nbconvert_exporter": "python",
   "pygments_lexer": "ipython3",
   "version": "3.12.7"
  }
 },
 "nbformat": 4,
 "nbformat_minor": 2
}
