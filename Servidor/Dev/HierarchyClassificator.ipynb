{
 "cells": [
  {
   "cell_type": "markdown",
   "metadata": {},
   "source": [
    "# Hierarchy Classification\n",
    "\n",
    "`Disclaimer`: Este notebook debe ejecutarse con un Kernel de Python 3.10 (Tensorflow da problemas con Python 3.12)\n",
    "\n",
    "Queremos implementar un solo modelo que incorpore jerarquías (por ejemplo, BENIGN → Web Attack → Subtipo de Web Attack), podemos usar un modelo multicapa jerárquico:\n",
    "\n",
    "Entrenaremos un modelo con múltiples salidas, donde cada salida represente un nivel de la jerarquía.\n",
    "\n",
    "Ejemplo:\n",
    "\n",
    "    - Nivel 1: BENIGN vs MALICIOUS.\n",
    "\n",
    "    - Nivel 2: Si es MALICIOUS, clasifica entre DDoS, PortScan, y WebAttack.\n",
    "\n",
    "    - Nivel 3: Si es WebAttack, clasifica entre Brute Force, XSS, SQL Injection.\n",
    "\n",
    "Esto puede implementarse usando redes neuronales con varias capas de salida o con varios modelos encadenados.\n"
   ]
  },
  {
   "cell_type": "code",
   "execution_count": 5,
   "metadata": {
    "vscode": {
     "languageId": "powershell"
    }
   },
   "outputs": [
    {
     "name": "stdout",
     "output_type": "stream",
     "text": [
      "Python 3.10.11\n"
     ]
    }
   ],
   "source": [
    "!python --version\n"
   ]
  },
  {
   "cell_type": "code",
   "execution_count": 6,
   "metadata": {
    "vscode": {
     "languageId": "powershell"
    }
   },
   "outputs": [],
   "source": [
    "#!pip install pandas\n",
    "#!pip install matplotlib\n",
    "#!pip install seaborn\n",
    "#!pip install imbalanced-learn\n",
    "#!pip install tensorflow"
   ]
  },
  {
   "cell_type": "code",
   "execution_count": 23,
   "metadata": {},
   "outputs": [],
   "source": [
    "import pandas as pd\n",
    "import numpy as np\n",
    "import matplotlib.pyplot as plt\n",
    "import seaborn as sns\n",
    "from imblearn.over_sampling import SMOTE\n",
    "from sklearn.ensemble import RandomForestClassifier\n",
    "from sklearn.decomposition import PCA\n",
    "from sklearn.preprocessing import StandardScaler, LabelEncoder\n",
    "from sklearn.cluster import KMeans\n",
    "from sklearn.model_selection import train_test_split\n",
    "from sklearn.metrics import classification_report, confusion_matrix, ConfusionMatrixDisplay, accuracy_score, precision_score, recall_score, f1_score, roc_curve, auc\n",
    "from sklearn.preprocessing import MinMaxScaler\n",
    "\n",
    "\n",
    "import tensorflow as tf\n",
    "from tensorflow.keras.models import Sequential\n",
    "from tensorflow.keras.layers import Dense, Dropout\n",
    "from tensorflow.keras.optimizers import Adam\n",
    "from tensorflow.keras.utils import to_categorical\n",
    "\n",
    "\n"
   ]
  },
  {
   "cell_type": "markdown",
   "metadata": {},
   "source": [
    "## Preprocesado\n",
    "\n",
    "Seguiremos el mismo preprocesado que en el documento anterior *DataAnalysis.ipynb*. Con la diferencia de que tendremos 3 datasets con la variable objetivo *\"AttackType\"* de mas a menos compactada."
   ]
  },
  {
   "cell_type": "code",
   "execution_count": 8,
   "metadata": {},
   "outputs": [],
   "source": [
    "dataDdos = pd.read_csv('Datasets/Friday-WorkingHours-Afternoon-DDos.pcap_ISCX.csv')\n",
    "dataPortScan = pd.read_csv('Datasets/Friday-WorkingHours-Afternoon-PortScan.pcap_ISCX.csv')\n",
    "dataWebAttacks = pd.read_csv('Datasets/Thursday-WorkingHours-Morning-WebAttacks.pcap_ISCX.csv')"
   ]
  },
  {
   "cell_type": "markdown",
   "metadata": {},
   "source": [
    "Como ya sabemos que los Datasets tienen las mismas variables, no hace falta volverlo a comprobar."
   ]
  },
  {
   "cell_type": "code",
   "execution_count": 9,
   "metadata": {},
   "outputs": [],
   "source": [
    "data = pd.concat([dataDdos, dataPortScan, dataWebAttacks], ignore_index=True)\n",
    "\n",
    "data.rename(columns={' Label': 'AttackType'}, inplace=True)\n",
    "data.replace([np.inf, -np.inf], np.nan, inplace=True)\n",
    "nan_values = data.isna().sum().sum()\n",
    "\n",
    "data.dropna(inplace=True)"
   ]
  },
  {
   "cell_type": "markdown",
   "metadata": {},
   "source": [
    "Como hemos visto anteriormente en las clases de Web Attack hay un caracter desconocido:\n",
    "Web Attack � Brute Force, queremos sustituir � por -"
   ]
  },
  {
   "cell_type": "code",
   "execution_count": 10,
   "metadata": {},
   "outputs": [
    {
     "name": "stdout",
     "output_type": "stream",
     "text": [
      "AttackType\n",
      "BENIGN                        393029\n",
      "PortScan                      158804\n",
      "DDoS                          128025\n",
      "Web Attack - Brute Force        1507\n",
      "Web Attack - XSS                 652\n",
      "Web Attack - Sql Injection        21\n",
      "Name: count, dtype: int64\n"
     ]
    }
   ],
   "source": [
    "data['AttackType'] = data['AttackType'].str.replace('�', '-')\n",
    "print(data['AttackType'].value_counts())"
   ]
  },
  {
   "cell_type": "markdown",
   "metadata": {},
   "source": [
    "Como hemos visto en el anterior estudio, hacer oversampling haciendo uso de SMOTE Algorithm para generar datos sintetico y balancear las clases ha funcionado bastante bien asi que volveremos a hacerlo."
   ]
  },
  {
   "cell_type": "code",
   "execution_count": 11,
   "metadata": {},
   "outputs": [],
   "source": [
    "X = data.drop(columns=['AttackType'])\n",
    "y = data['AttackType']"
   ]
  },
  {
   "cell_type": "markdown",
   "metadata": {},
   "source": [
    "## Nivel 1: BENIGN vs MALIGN\n",
    "\n",
    "Para el primer nivel de jerarquia debemos detectar simplemente si hay o no amenaza. Para ello, compactaremos todas las clases de ataques en una sola clase llamada MALIGN y el modelo debera hacer la clasificación binaria."
   ]
  },
  {
   "cell_type": "code",
   "execution_count": 12,
   "metadata": {},
   "outputs": [
    {
     "name": "stdout",
     "output_type": "stream",
     "text": [
      "AttackType\n",
      "BENIGN                        393029\n",
      "PortScan                      158804\n",
      "DDoS                          128025\n",
      "Web Attack - Brute Force       50000\n",
      "Web Attack - XSS               50000\n",
      "Web Attack - Sql Injection     50000\n",
      "Name: count, dtype: int64\n"
     ]
    }
   ],
   "source": [
    "target_classes = {\n",
    "    \"Web Attack - Brute Force\": 50000,\n",
    "    \"Web Attack - XSS\": 50000,\n",
    "    \"Web Attack - Sql Injection\": 50000\n",
    "}\n",
    "\n",
    "smote = SMOTE(sampling_strategy=target_classes, random_state=42)\n",
    "X_resampled, y_resampled = smote.fit_resample(X, y)\n",
    "\n",
    "print(y_resampled.value_counts())"
   ]
  },
  {
   "cell_type": "markdown",
   "metadata": {},
   "source": [
    "Ahora podemos compactar los distintos ataques en MALIGN obteniendo un dataset balanceado"
   ]
  },
  {
   "cell_type": "code",
   "execution_count": 13,
   "metadata": {},
   "outputs": [
    {
     "name": "stdout",
     "output_type": "stream",
     "text": [
      "AttackType\n",
      "MALIGN    436829\n",
      "BENIGN    393029\n",
      "Name: count, dtype: int64\n"
     ]
    }
   ],
   "source": [
    "y_resampled = y_resampled.apply(lambda x: 'MALIGN' if x != 'BENIGN' else x)\n",
    "print(y_resampled.value_counts())"
   ]
  },
  {
   "cell_type": "markdown",
   "metadata": {},
   "source": [
    "### Random Forest"
   ]
  },
  {
   "cell_type": "code",
   "execution_count": 14,
   "metadata": {},
   "outputs": [
    {
     "name": "stdout",
     "output_type": "stream",
     "text": [
      "              precision    recall  f1-score   support\n",
      "\n",
      "      BENIGN       1.00      1.00      1.00     78505\n",
      "      MALIGN       1.00      1.00      1.00     87467\n",
      "\n",
      "    accuracy                           1.00    165972\n",
      "   macro avg       1.00      1.00      1.00    165972\n",
      "weighted avg       1.00      1.00      1.00    165972\n",
      "\n"
     ]
    }
   ],
   "source": [
    "rf = RandomForestClassifier(n_estimators=100, random_state=42)\n",
    "\n",
    "X_train, X_test, y_train, y_test = train_test_split(X_resampled, y_resampled, test_size=0.2, random_state=42)\n",
    "\n",
    "rf.fit(X_train, y_train)\n",
    "\n",
    "y_pred = rf.predict(X_test)\n",
    "\n",
    "print(classification_report(y_test, y_pred))"
   ]
  },
  {
   "cell_type": "code",
   "execution_count": 15,
   "metadata": {},
   "outputs": [
    {
     "data": {
      "image/png": "[encoded data removed]",
      "text/plain": [
       "<Figure size 640x480 with 1 Axes>"
      ]
     },
     "metadata": {},
     "output_type": "display_data"
    }
   ],
   "source": [
    "y_pred_proba = rf.predict_proba(X_test)[:, 1]\n",
    "\n",
    "fpr, tpr, _ = roc_curve(y_test.map({'BENIGN': 0, 'MALIGN': 1}), y_pred_proba)\n",
    "roc_auc = auc(fpr, tpr)\n",
    "\n",
    "plt.figure()\n",
    "plt.plot(fpr, tpr, color='darkorange', lw=2, label='ROC curve (area = %0.2f)' % roc_auc)\n",
    "plt.plot([0, 1], [0, 1], color='navy', lw=2, linestyle='--')\n",
    "plt.xlim([0.0, 1.0])\n",
    "plt.ylim([0.0, 1.05])\n",
    "plt.xlabel('False Positive Rate')\n",
    "plt.ylabel('True Positive Rate')\n",
    "plt.title('Receiver Operating Characteristic')\n",
    "plt.legend(loc=\"lower right\")\n",
    "plt.show()"
   ]
  },
  {
   "cell_type": "markdown",
   "metadata": {},
   "source": [
    "## Nivel 2\n",
    "\n",
    "Ahora queremos compactar nuestro dataset original a 3 classes, DDoS, PortScan y WebAttack."
   ]
  },
  {
   "cell_type": "code",
   "execution_count": 16,
   "metadata": {},
   "outputs": [
    {
     "name": "stdout",
     "output_type": "stream",
     "text": [
      "AttackType\n",
      "PortScan                      158804\n",
      "DDoS                          128025\n",
      "Web Attack - Brute Force       50000\n",
      "Web Attack - XSS               50000\n",
      "Web Attack - Sql Injection     50000\n",
      "Name: count, dtype: int64\n"
     ]
    }
   ],
   "source": [
    "X_2 = X[y != 'BENIGN']\n",
    "y_2 = y[y != 'BENIGN']\n",
    "\n",
    "target_classes = {\n",
    "    \"Web Attack - Brute Force\": 50000,\n",
    "    \"Web Attack - XSS\": 50000,\n",
    "    \"Web Attack - Sql Injection\": 50000\n",
    "}\n",
    "\n",
    "smote = SMOTE(sampling_strategy=target_classes, random_state=42)\n",
    "X_resampled, y_resampled = smote.fit_resample(X_2, y_2)\n",
    "\n",
    "print(y_resampled.value_counts())"
   ]
  },
  {
   "cell_type": "code",
   "execution_count": 17,
   "metadata": {},
   "outputs": [
    {
     "name": "stdout",
     "output_type": "stream",
     "text": [
      "AttackType\n",
      "PortScan     158804\n",
      "WebAttack    150000\n",
      "DDoS         128025\n",
      "Name: count, dtype: int64\n"
     ]
    }
   ],
   "source": [
    "y_resampled = y_resampled.apply(lambda x: 'WebAttack' if \"Web Attack\" in x else x)\n",
    "print(y_resampled.value_counts())"
   ]
  },
  {
   "cell_type": "markdown",
   "metadata": {},
   "source": [
    "Como los ataques pueden tener cierto tipo de similaridad entre ellos, y ya vimos en el estudio inicial que no hay relaciones lineal entre variables y variable objetivo. El nivel dos usaremos un modelo mas complejo, una NN. Las NN requieren de un preprocesamiento extra:\n",
    "\n",
    "- **Datos normalizados**: Usaremos MinMaxScaler.\n",
    "\n",
    "- **Evitar redundancia y ruido**: Si los resultados no son buenos, trataremos esto, ya que puede ser al haber hecho un oversampling tan fuerte.\n",
    "\n",
    "- **Codificación de etiquetas**: Usaremos LabelEncoding."
   ]
  },
  {
   "cell_type": "code",
   "execution_count": 18,
   "metadata": {},
   "outputs": [
    {
     "data": {
      "text/html": [
       "<div>\n",
       "<style scoped>\n",
       "    .dataframe tbody tr th:only-of-type {\n",
       "        vertical-align: middle;\n",
       "    }\n",
       "\n",
       "    .dataframe tbody tr th {\n",
       "        vertical-align: top;\n",
       "    }\n",
       "\n",
       "    .dataframe thead th {\n",
       "        text-align: right;\n",
       "    }\n",
       "</style>\n",
       "<table border=\"1\" class=\"dataframe\">\n",
       "  <thead>\n",
       "    <tr style=\"text-align: right;\">\n",
       "      <th></th>\n",
       "      <th>Destination Port</th>\n",
       "      <th>Flow Duration</th>\n",
       "      <th>Total Fwd Packets</th>\n",
       "      <th>Total Backward Packets</th>\n",
       "      <th>Total Length of Fwd Packets</th>\n",
       "      <th>Total Length of Bwd Packets</th>\n",
       "      <th>Fwd Packet Length Max</th>\n",
       "      <th>Fwd Packet Length Min</th>\n",
       "      <th>Fwd Packet Length Mean</th>\n",
       "      <th>Fwd Packet Length Std</th>\n",
       "      <th>...</th>\n",
       "      <th>act_data_pkt_fwd</th>\n",
       "      <th>min_seg_size_forward</th>\n",
       "      <th>Active Mean</th>\n",
       "      <th>Active Std</th>\n",
       "      <th>Active Max</th>\n",
       "      <th>Active Min</th>\n",
       "      <th>Idle Mean</th>\n",
       "      <th>Idle Std</th>\n",
       "      <th>Idle Max</th>\n",
       "      <th>Idle Min</th>\n",
       "    </tr>\n",
       "  </thead>\n",
       "  <tbody>\n",
       "    <tr>\n",
       "      <th>count</th>\n",
       "      <td>436829.000000</td>\n",
       "      <td>4.368290e+05</td>\n",
       "      <td>436829.000000</td>\n",
       "      <td>436829.000000</td>\n",
       "      <td>436829.000000</td>\n",
       "      <td>436829.000000</td>\n",
       "      <td>436829.000000</td>\n",
       "      <td>436829.000000</td>\n",
       "      <td>436829.000000</td>\n",
       "      <td>436829.000000</td>\n",
       "      <td>...</td>\n",
       "      <td>436829.000000</td>\n",
       "      <td>436829.000000</td>\n",
       "      <td>436829.000000</td>\n",
       "      <td>436829.000000</td>\n",
       "      <td>436829.000000</td>\n",
       "      <td>436829.000000</td>\n",
       "      <td>436829.000000</td>\n",
       "      <td>436829.000000</td>\n",
       "      <td>436829.000000</td>\n",
       "      <td>436829.000000</td>\n",
       "    </tr>\n",
       "    <tr>\n",
       "      <th>mean</th>\n",
       "      <td>0.048726</td>\n",
       "      <td>5.696206e-02</td>\n",
       "      <td>0.015874</td>\n",
       "      <td>0.023876</td>\n",
       "      <td>0.008814</td>\n",
       "      <td>0.017548</td>\n",
       "      <td>0.077294</td>\n",
       "      <td>0.020820</td>\n",
       "      <td>0.054172</td>\n",
       "      <td>0.071048</td>\n",
       "      <td>...</td>\n",
       "      <td>0.018636</td>\n",
       "      <td>0.712515</td>\n",
       "      <td>0.011773</td>\n",
       "      <td>0.000004</td>\n",
       "      <td>0.011773</td>\n",
       "      <td>0.011772</td>\n",
       "      <td>0.029514</td>\n",
       "      <td>0.020427</td>\n",
       "      <td>0.037254</td>\n",
       "      <td>0.021774</td>\n",
       "    </tr>\n",
       "    <tr>\n",
       "      <th>std</th>\n",
       "      <td>0.139010</td>\n",
       "      <td>1.558565e-01</td>\n",
       "      <td>0.087120</td>\n",
       "      <td>0.083442</td>\n",
       "      <td>0.084829</td>\n",
       "      <td>0.063907</td>\n",
       "      <td>0.237774</td>\n",
       "      <td>0.039344</td>\n",
       "      <td>0.153388</td>\n",
       "      <td>0.225241</td>\n",
       "      <td>...</td>\n",
       "      <td>0.091734</td>\n",
       "      <td>0.182372</td>\n",
       "      <td>0.086864</td>\n",
       "      <td>0.001800</td>\n",
       "      <td>0.086866</td>\n",
       "      <td>0.086863</td>\n",
       "      <td>0.115330</td>\n",
       "      <td>0.122943</td>\n",
       "      <td>0.143324</td>\n",
       "      <td>0.101981</td>\n",
       "    </tr>\n",
       "    <tr>\n",
       "      <th>min</th>\n",
       "      <td>0.000000</td>\n",
       "      <td>0.000000e+00</td>\n",
       "      <td>0.000000</td>\n",
       "      <td>0.000000</td>\n",
       "      <td>0.000000</td>\n",
       "      <td>0.000000</td>\n",
       "      <td>0.000000</td>\n",
       "      <td>0.000000</td>\n",
       "      <td>0.000000</td>\n",
       "      <td>0.000000</td>\n",
       "      <td>...</td>\n",
       "      <td>0.000000</td>\n",
       "      <td>0.000000</td>\n",
       "      <td>0.000000</td>\n",
       "      <td>0.000000</td>\n",
       "      <td>0.000000</td>\n",
       "      <td>0.000000</td>\n",
       "      <td>0.000000</td>\n",
       "      <td>0.000000</td>\n",
       "      <td>0.000000</td>\n",
       "      <td>0.000000</td>\n",
       "    </tr>\n",
       "    <tr>\n",
       "      <th>25%</th>\n",
       "      <td>0.001223</td>\n",
       "      <td>4.423681e-07</td>\n",
       "      <td>0.000000</td>\n",
       "      <td>0.008772</td>\n",
       "      <td>0.000000</td>\n",
       "      <td>0.000000</td>\n",
       "      <td>0.000000</td>\n",
       "      <td>0.000000</td>\n",
       "      <td>0.000000</td>\n",
       "      <td>0.000000</td>\n",
       "      <td>...</td>\n",
       "      <td>0.000000</td>\n",
       "      <td>0.500000</td>\n",
       "      <td>0.000000</td>\n",
       "      <td>0.000000</td>\n",
       "      <td>0.000000</td>\n",
       "      <td>0.000000</td>\n",
       "      <td>0.000000</td>\n",
       "      <td>0.000000</td>\n",
       "      <td>0.000000</td>\n",
       "      <td>0.000000</td>\n",
       "    </tr>\n",
       "    <tr>\n",
       "      <th>50%</th>\n",
       "      <td>0.001223</td>\n",
       "      <td>4.932713e-03</td>\n",
       "      <td>0.009479</td>\n",
       "      <td>0.008772</td>\n",
       "      <td>0.000041</td>\n",
       "      <td>0.000033</td>\n",
       "      <td>0.003322</td>\n",
       "      <td>0.000000</td>\n",
       "      <td>0.008288</td>\n",
       "      <td>0.000000</td>\n",
       "      <td>...</td>\n",
       "      <td>0.000000</td>\n",
       "      <td>0.800000</td>\n",
       "      <td>0.000000</td>\n",
       "      <td>0.000000</td>\n",
       "      <td>0.000000</td>\n",
       "      <td>0.000000</td>\n",
       "      <td>0.000000</td>\n",
       "      <td>0.000000</td>\n",
       "      <td>0.000000</td>\n",
       "      <td>0.000000</td>\n",
       "    </tr>\n",
       "    <tr>\n",
       "      <th>75%</th>\n",
       "      <td>0.022940</td>\n",
       "      <td>4.471076e-02</td>\n",
       "      <td>0.009479</td>\n",
       "      <td>0.035088</td>\n",
       "      <td>0.000531</td>\n",
       "      <td>0.005890</td>\n",
       "      <td>0.033223</td>\n",
       "      <td>0.041667</td>\n",
       "      <td>0.029009</td>\n",
       "      <td>0.018794</td>\n",
       "      <td>...</td>\n",
       "      <td>0.019802</td>\n",
       "      <td>0.800000</td>\n",
       "      <td>0.000000</td>\n",
       "      <td>0.000000</td>\n",
       "      <td>0.000000</td>\n",
       "      <td>0.000000</td>\n",
       "      <td>0.000000</td>\n",
       "      <td>0.000000</td>\n",
       "      <td>0.000000</td>\n",
       "      <td>0.000000</td>\n",
       "    </tr>\n",
       "    <tr>\n",
       "      <th>max</th>\n",
       "      <td>1.000000</td>\n",
       "      <td>1.000000e+00</td>\n",
       "      <td>1.000000</td>\n",
       "      <td>1.000000</td>\n",
       "      <td>1.000000</td>\n",
       "      <td>1.000000</td>\n",
       "      <td>1.000000</td>\n",
       "      <td>1.000000</td>\n",
       "      <td>1.000000</td>\n",
       "      <td>1.000000</td>\n",
       "      <td>...</td>\n",
       "      <td>1.000000</td>\n",
       "      <td>1.000000</td>\n",
       "      <td>1.000000</td>\n",
       "      <td>1.000000</td>\n",
       "      <td>1.000000</td>\n",
       "      <td>1.000000</td>\n",
       "      <td>1.000000</td>\n",
       "      <td>1.000000</td>\n",
       "      <td>1.000000</td>\n",
       "      <td>1.000000</td>\n",
       "    </tr>\n",
       "  </tbody>\n",
       "</table>\n",
       "<p>8 rows × 78 columns</p>\n",
       "</div>"
      ],
      "text/plain": [
       "        Destination Port   Flow Duration   Total Fwd Packets  \\\n",
       "count      436829.000000    4.368290e+05       436829.000000   \n",
       "mean            0.048726    5.696206e-02            0.015874   \n",
       "std             0.139010    1.558565e-01            0.087120   \n",
       "min             0.000000    0.000000e+00            0.000000   \n",
       "25%             0.001223    4.423681e-07            0.000000   \n",
       "50%             0.001223    4.932713e-03            0.009479   \n",
       "75%             0.022940    4.471076e-02            0.009479   \n",
       "max             1.000000    1.000000e+00            1.000000   \n",
       "\n",
       "        Total Backward Packets  Total Length of Fwd Packets  \\\n",
       "count            436829.000000                436829.000000   \n",
       "mean                  0.023876                     0.008814   \n",
       "std                   0.083442                     0.084829   \n",
       "min                   0.000000                     0.000000   \n",
       "25%                   0.008772                     0.000000   \n",
       "50%                   0.008772                     0.000041   \n",
       "75%                   0.035088                     0.000531   \n",
       "max                   1.000000                     1.000000   \n",
       "\n",
       "        Total Length of Bwd Packets   Fwd Packet Length Max  \\\n",
       "count                 436829.000000           436829.000000   \n",
       "mean                       0.017548                0.077294   \n",
       "std                        0.063907                0.237774   \n",
       "min                        0.000000                0.000000   \n",
       "25%                        0.000000                0.000000   \n",
       "50%                        0.000033                0.003322   \n",
       "75%                        0.005890                0.033223   \n",
       "max                        1.000000                1.000000   \n",
       "\n",
       "        Fwd Packet Length Min   Fwd Packet Length Mean  \\\n",
       "count           436829.000000            436829.000000   \n",
       "mean                 0.020820                 0.054172   \n",
       "std                  0.039344                 0.153388   \n",
       "min                  0.000000                 0.000000   \n",
       "25%                  0.000000                 0.000000   \n",
       "50%                  0.000000                 0.008288   \n",
       "75%                  0.041667                 0.029009   \n",
       "max                  1.000000                 1.000000   \n",
       "\n",
       "        Fwd Packet Length Std  ...   act_data_pkt_fwd   min_seg_size_forward  \\\n",
       "count           436829.000000  ...      436829.000000          436829.000000   \n",
       "mean                 0.071048  ...           0.018636               0.712515   \n",
       "std                  0.225241  ...           0.091734               0.182372   \n",
       "min                  0.000000  ...           0.000000               0.000000   \n",
       "25%                  0.000000  ...           0.000000               0.500000   \n",
       "50%                  0.000000  ...           0.000000               0.800000   \n",
       "75%                  0.018794  ...           0.019802               0.800000   \n",
       "max                  1.000000  ...           1.000000               1.000000   \n",
       "\n",
       "         Active Mean     Active Std     Active Max     Active Min  \\\n",
       "count  436829.000000  436829.000000  436829.000000  436829.000000   \n",
       "mean        0.011773       0.000004       0.011773       0.011772   \n",
       "std         0.086864       0.001800       0.086866       0.086863   \n",
       "min         0.000000       0.000000       0.000000       0.000000   \n",
       "25%         0.000000       0.000000       0.000000       0.000000   \n",
       "50%         0.000000       0.000000       0.000000       0.000000   \n",
       "75%         0.000000       0.000000       0.000000       0.000000   \n",
       "max         1.000000       1.000000       1.000000       1.000000   \n",
       "\n",
       "           Idle Mean       Idle Std       Idle Max       Idle Min  \n",
       "count  436829.000000  436829.000000  436829.000000  436829.000000  \n",
       "mean        0.029514       0.020427       0.037254       0.021774  \n",
       "std         0.115330       0.122943       0.143324       0.101981  \n",
       "min         0.000000       0.000000       0.000000       0.000000  \n",
       "25%         0.000000       0.000000       0.000000       0.000000  \n",
       "50%         0.000000       0.000000       0.000000       0.000000  \n",
       "75%         0.000000       0.000000       0.000000       0.000000  \n",
       "max         1.000000       1.000000       1.000000       1.000000  \n",
       "\n",
       "[8 rows x 78 columns]"
      ]
     },
     "execution_count": 18,
     "metadata": {},
     "output_type": "execute_result"
    }
   ],
   "source": [
    "scaler = MinMaxScaler()\n",
    "X_resampled_scaled = scaler.fit_transform(X_resampled)\n",
    "\n",
    "X_resampled_scaled = pd.DataFrame(X_resampled_scaled, columns=X_resampled.columns)\n",
    "\n",
    "X_resampled_scaled.describe()"
   ]
  },
  {
   "cell_type": "code",
   "execution_count": 19,
   "metadata": {},
   "outputs": [
    {
     "name": "stdout",
     "output_type": "stream",
     "text": [
      "{np.int64(0): np.int64(128025), np.int64(1): np.int64(158804), np.int64(2): np.int64(150000)}\n"
     ]
    }
   ],
   "source": [
    "label_encoder = LabelEncoder()\n",
    "y_resampled_encoded = label_encoder.fit_transform(y_resampled)\n",
    "unique, counts = np.unique(y_resampled_encoded, return_counts=True)\n",
    "print(dict(zip(unique, counts)))"
   ]
  },
  {
   "cell_type": "code",
   "execution_count": 22,
   "metadata": {},
   "outputs": [
    {
     "name": "stdout",
     "output_type": "stream",
     "text": [
      "Epoch 1/50\n"
     ]
    },
    {
     "name": "stderr",
     "output_type": "stream",
     "text": [
      "c:\\Users\\Nico\\Desktop\\UPC\\PAE\\SentinelX\\.venv\\lib\\site-packages\\keras\\src\\layers\\core\\dense.py:87: UserWarning: Do not pass an `input_shape`/`input_dim` argument to a layer. When using Sequential models, prefer using an `Input(shape)` object as the first layer in the model instead.\n",
      "  super().__init__(activity_regularizer=activity_regularizer, **kwargs)\n"
     ]
    },
    {
     "name": "stdout",
     "output_type": "stream",
     "text": [
      "\u001b[1m8737/8737\u001b[0m \u001b[32m━━━━━━━━━━━━━━━━━━━━\u001b[0m\u001b[37m\u001b[0m \u001b[1m11s\u001b[0m 1ms/step - accuracy: 0.9927 - loss: 0.0377 - val_accuracy: 0.9998 - val_loss: 0.0012\n",
      "Epoch 2/50\n",
      "\u001b[1m8737/8737\u001b[0m \u001b[32m━━━━━━━━━━━━━━━━━━━━\u001b[0m\u001b[37m\u001b[0m \u001b[1m10s\u001b[0m 1ms/step - accuracy: 0.9997 - loss: 0.0018 - val_accuracy: 0.9998 - val_loss: 0.0010\n",
      "Epoch 3/50\n",
      "\u001b[1m8737/8737\u001b[0m \u001b[32m━━━━━━━━━━━━━━━━━━━━\u001b[0m\u001b[37m\u001b[0m \u001b[1m10s\u001b[0m 1ms/step - accuracy: 0.9997 - loss: 0.0018 - val_accuracy: 0.9998 - val_loss: 9.7111e-04\n",
      "Epoch 4/50\n",
      "\u001b[1m8737/8737\u001b[0m \u001b[32m━━━━━━━━━━━━━━━━━━━━\u001b[0m\u001b[37m\u001b[0m \u001b[1m10s\u001b[0m 1ms/step - accuracy: 0.9997 - loss: 0.0015 - val_accuracy: 0.9998 - val_loss: 8.4991e-04\n",
      "Epoch 5/50\n",
      "\u001b[1m8737/8737\u001b[0m \u001b[32m━━━━━━━━━━━━━━━━━━━━\u001b[0m\u001b[37m\u001b[0m \u001b[1m10s\u001b[0m 1ms/step - accuracy: 0.9997 - loss: 0.0016 - val_accuracy: 0.9998 - val_loss: 6.5772e-04\n",
      "Epoch 6/50\n",
      "\u001b[1m8737/8737\u001b[0m \u001b[32m━━━━━━━━━━━━━━━━━━━━\u001b[0m\u001b[37m\u001b[0m \u001b[1m10s\u001b[0m 1ms/step - accuracy: 0.9997 - loss: 0.0016 - val_accuracy: 0.9998 - val_loss: 8.9397e-04\n",
      "Epoch 7/50\n",
      "\u001b[1m8737/8737\u001b[0m \u001b[32m━━━━━━━━━━━━━━━━━━━━\u001b[0m\u001b[37m\u001b[0m \u001b[1m10s\u001b[0m 1ms/step - accuracy: 0.9998 - loss: 0.0013 - val_accuracy: 0.9999 - val_loss: 3.8243e-04\n",
      "Epoch 8/50\n",
      "\u001b[1m8737/8737\u001b[0m \u001b[32m━━━━━━━━━━━━━━━━━━━━\u001b[0m\u001b[37m\u001b[0m \u001b[1m10s\u001b[0m 1ms/step - accuracy: 0.9998 - loss: 0.0010 - val_accuracy: 0.9999 - val_loss: 7.6967e-04\n",
      "Epoch 9/50\n",
      "\u001b[1m8737/8737\u001b[0m \u001b[32m━━━━━━━━━━━━━━━━━━━━\u001b[0m\u001b[37m\u001b[0m \u001b[1m10s\u001b[0m 1ms/step - accuracy: 0.9998 - loss: 0.0018 - val_accuracy: 1.0000 - val_loss: 8.3467e-04\n",
      "Epoch 10/50\n",
      "\u001b[1m8737/8737\u001b[0m \u001b[32m━━━━━━━━━━━━━━━━━━━━\u001b[0m\u001b[37m\u001b[0m \u001b[1m10s\u001b[0m 1ms/step - accuracy: 0.9999 - loss: 0.0015 - val_accuracy: 0.9999 - val_loss: 4.9052e-04\n",
      "Epoch 11/50\n",
      "\u001b[1m8737/8737\u001b[0m \u001b[32m━━━━━━━━━━━━━━━━━━━━\u001b[0m\u001b[37m\u001b[0m \u001b[1m10s\u001b[0m 1ms/step - accuracy: 0.9998 - loss: 0.0014 - val_accuracy: 1.0000 - val_loss: 3.2493e-04\n",
      "Epoch 12/50\n",
      "\u001b[1m8737/8737\u001b[0m \u001b[32m━━━━━━━━━━━━━━━━━━━━\u001b[0m\u001b[37m\u001b[0m \u001b[1m10s\u001b[0m 1ms/step - accuracy: 0.9999 - loss: 0.0012 - val_accuracy: 1.0000 - val_loss: 2.7289e-04\n",
      "Epoch 13/50\n",
      "\u001b[1m8737/8737\u001b[0m \u001b[32m━━━━━━━━━━━━━━━━━━━━\u001b[0m\u001b[37m\u001b[0m \u001b[1m10s\u001b[0m 1ms/step - accuracy: 0.9999 - loss: 9.2492e-04 - val_accuracy: 1.0000 - val_loss: 2.3200e-04\n",
      "Epoch 14/50\n",
      "\u001b[1m8737/8737\u001b[0m \u001b[32m━━━━━━━━━━━━━━━━━━━━\u001b[0m\u001b[37m\u001b[0m \u001b[1m10s\u001b[0m 1ms/step - accuracy: 0.9999 - loss: 0.0014 - val_accuracy: 1.0000 - val_loss: 1.5063e-04\n",
      "Epoch 15/50\n",
      "\u001b[1m8737/8737\u001b[0m \u001b[32m━━━━━━━━━━━━━━━━━━━━\u001b[0m\u001b[37m\u001b[0m \u001b[1m10s\u001b[0m 1ms/step - accuracy: 0.9999 - loss: 6.0135e-04 - val_accuracy: 1.0000 - val_loss: 1.5738e-04\n",
      "Epoch 16/50\n",
      "\u001b[1m8737/8737\u001b[0m \u001b[32m━━━━━━━━━━━━━━━━━━━━\u001b[0m\u001b[37m\u001b[0m \u001b[1m10s\u001b[0m 1ms/step - accuracy: 0.9999 - loss: 0.0012 - val_accuracy: 1.0000 - val_loss: 1.4328e-04\n",
      "Epoch 17/50\n",
      "\u001b[1m8737/8737\u001b[0m \u001b[32m━━━━━━━━━━━━━━━━━━━━\u001b[0m\u001b[37m\u001b[0m \u001b[1m10s\u001b[0m 1ms/step - accuracy: 0.9999 - loss: 8.9645e-04 - val_accuracy: 1.0000 - val_loss: 1.7461e-04\n",
      "Epoch 18/50\n",
      "\u001b[1m8737/8737\u001b[0m \u001b[32m━━━━━━━━━━━━━━━━━━━━\u001b[0m\u001b[37m\u001b[0m \u001b[1m10s\u001b[0m 1ms/step - accuracy: 0.9999 - loss: 0.0012 - val_accuracy: 1.0000 - val_loss: 9.4940e-04\n",
      "Epoch 19/50\n",
      "\u001b[1m8737/8737\u001b[0m \u001b[32m━━━━━━━━━━━━━━━━━━━━\u001b[0m\u001b[37m\u001b[0m \u001b[1m10s\u001b[0m 1ms/step - accuracy: 0.9999 - loss: 8.9560e-04 - val_accuracy: 1.0000 - val_loss: 1.6793e-04\n",
      "Epoch 20/50\n",
      "\u001b[1m8737/8737\u001b[0m \u001b[32m━━━━━━━━━━━━━━━━━━━━\u001b[0m\u001b[37m\u001b[0m \u001b[1m10s\u001b[0m 1ms/step - accuracy: 0.9999 - loss: 7.9901e-04 - val_accuracy: 1.0000 - val_loss: 1.5288e-04\n",
      "Epoch 21/50\n",
      "\u001b[1m8737/8737\u001b[0m \u001b[32m━━━━━━━━━━━━━━━━━━━━\u001b[0m\u001b[37m\u001b[0m \u001b[1m10s\u001b[0m 1ms/step - accuracy: 0.9999 - loss: 8.1840e-04 - val_accuracy: 1.0000 - val_loss: 1.6088e-04\n",
      "Epoch 22/50\n",
      "\u001b[1m8737/8737\u001b[0m \u001b[32m━━━━━━━━━━━━━━━━━━━━\u001b[0m\u001b[37m\u001b[0m \u001b[1m10s\u001b[0m 1ms/step - accuracy: 0.9999 - loss: 6.1072e-04 - val_accuracy: 1.0000 - val_loss: 1.2786e-04\n",
      "Epoch 23/50\n",
      "\u001b[1m8737/8737\u001b[0m \u001b[32m━━━━━━━━━━━━━━━━━━━━\u001b[0m\u001b[37m\u001b[0m \u001b[1m10s\u001b[0m 1ms/step - accuracy: 0.9999 - loss: 7.1439e-04 - val_accuracy: 1.0000 - val_loss: 1.0809e-04\n",
      "Epoch 24/50\n",
      "\u001b[1m8737/8737\u001b[0m \u001b[32m━━━━━━━━━━━━━━━━━━━━\u001b[0m\u001b[37m\u001b[0m \u001b[1m10s\u001b[0m 1ms/step - accuracy: 0.9999 - loss: 0.0015 - val_accuracy: 1.0000 - val_loss: 1.2979e-04\n",
      "Epoch 25/50\n",
      "\u001b[1m8737/8737\u001b[0m \u001b[32m━━━━━━━━━━━━━━━━━━━━\u001b[0m\u001b[37m\u001b[0m \u001b[1m10s\u001b[0m 1ms/step - accuracy: 0.9999 - loss: 0.0011 - val_accuracy: 1.0000 - val_loss: 1.3837e-04\n",
      "Epoch 26/50\n",
      "\u001b[1m8737/8737\u001b[0m \u001b[32m━━━━━━━━━━━━━━━━━━━━\u001b[0m\u001b[37m\u001b[0m \u001b[1m10s\u001b[0m 1ms/step - accuracy: 0.9999 - loss: 0.0011 - val_accuracy: 1.0000 - val_loss: 9.8554e-05\n",
      "Epoch 27/50\n",
      "\u001b[1m8737/8737\u001b[0m \u001b[32m━━━━━━━━━━━━━━━━━━━━\u001b[0m\u001b[37m\u001b[0m \u001b[1m10s\u001b[0m 1ms/step - accuracy: 0.9999 - loss: 9.6146e-04 - val_accuracy: 1.0000 - val_loss: 1.9453e-04\n",
      "Epoch 28/50\n",
      "\u001b[1m8737/8737\u001b[0m \u001b[32m━━━━━━━━━━━━━━━━━━━━\u001b[0m\u001b[37m\u001b[0m \u001b[1m10s\u001b[0m 1ms/step - accuracy: 0.9999 - loss: 6.9036e-04 - val_accuracy: 1.0000 - val_loss: 1.8182e-04\n",
      "Epoch 29/50\n",
      "\u001b[1m8737/8737\u001b[0m \u001b[32m━━━━━━━━━━━━━━━━━━━━\u001b[0m\u001b[37m\u001b[0m \u001b[1m10s\u001b[0m 1ms/step - accuracy: 0.9999 - loss: 0.0011 - val_accuracy: 1.0000 - val_loss: 5.6243e-04\n",
      "Epoch 30/50\n",
      "\u001b[1m8737/8737\u001b[0m \u001b[32m━━━━━━━━━━━━━━━━━━━━\u001b[0m\u001b[37m\u001b[0m \u001b[1m10s\u001b[0m 1ms/step - accuracy: 0.9999 - loss: 0.0012 - val_accuracy: 1.0000 - val_loss: 9.2589e-04\n",
      "Epoch 31/50\n",
      "\u001b[1m8737/8737\u001b[0m \u001b[32m━━━━━━━━━━━━━━━━━━━━\u001b[0m\u001b[37m\u001b[0m \u001b[1m10s\u001b[0m 1ms/step - accuracy: 0.9999 - loss: 0.0035 - val_accuracy: 1.0000 - val_loss: 1.8922e-04\n",
      "Epoch 32/50\n",
      "\u001b[1m8737/8737\u001b[0m \u001b[32m━━━━━━━━━━━━━━━━━━━━\u001b[0m\u001b[37m\u001b[0m \u001b[1m10s\u001b[0m 1ms/step - accuracy: 0.9999 - loss: 0.0016 - val_accuracy: 1.0000 - val_loss: 1.5118e-04\n",
      "Epoch 33/50\n",
      "\u001b[1m8737/8737\u001b[0m \u001b[32m━━━━━━━━━━━━━━━━━━━━\u001b[0m\u001b[37m\u001b[0m \u001b[1m10s\u001b[0m 1ms/step - accuracy: 0.9999 - loss: 9.4541e-04 - val_accuracy: 1.0000 - val_loss: 1.5384e-04\n",
      "Epoch 34/50\n",
      "\u001b[1m8737/8737\u001b[0m \u001b[32m━━━━━━━━━━━━━━━━━━━━\u001b[0m\u001b[37m\u001b[0m \u001b[1m10s\u001b[0m 1ms/step - accuracy: 0.9999 - loss: 0.0013 - val_accuracy: 1.0000 - val_loss: 1.1807e-04\n",
      "Epoch 35/50\n",
      "\u001b[1m8737/8737\u001b[0m \u001b[32m━━━━━━━━━━━━━━━━━━━━\u001b[0m\u001b[37m\u001b[0m \u001b[1m10s\u001b[0m 1ms/step - accuracy: 0.9999 - loss: 7.6709e-04 - val_accuracy: 1.0000 - val_loss: 1.9323e-04\n",
      "Epoch 36/50\n",
      "\u001b[1m8737/8737\u001b[0m \u001b[32m━━━━━━━━━━━━━━━━━━━━\u001b[0m\u001b[37m\u001b[0m \u001b[1m10s\u001b[0m 1ms/step - accuracy: 0.9998 - loss: 0.0015 - val_accuracy: 1.0000 - val_loss: 1.1674e-04\n",
      "Epoch 37/50\n",
      "\u001b[1m8737/8737\u001b[0m \u001b[32m━━━━━━━━━━━━━━━━━━━━\u001b[0m\u001b[37m\u001b[0m \u001b[1m10s\u001b[0m 1ms/step - accuracy: 0.9999 - loss: 0.0012 - val_accuracy: 1.0000 - val_loss: 1.3275e-04\n",
      "Epoch 38/50\n",
      "\u001b[1m8737/8737\u001b[0m \u001b[32m━━━━━━━━━━━━━━━━━━━━\u001b[0m\u001b[37m\u001b[0m \u001b[1m10s\u001b[0m 1ms/step - accuracy: 0.9999 - loss: 0.0010 - val_accuracy: 1.0000 - val_loss: 1.7459e-04\n",
      "Epoch 39/50\n",
      "\u001b[1m8737/8737\u001b[0m \u001b[32m━━━━━━━━━━━━━━━━━━━━\u001b[0m\u001b[37m\u001b[0m \u001b[1m10s\u001b[0m 1ms/step - accuracy: 0.9999 - loss: 9.4540e-04 - val_accuracy: 1.0000 - val_loss: 1.1759e-04\n",
      "Epoch 40/50\n",
      "\u001b[1m8737/8737\u001b[0m \u001b[32m━━━━━━━━━━━━━━━━━━━━\u001b[0m\u001b[37m\u001b[0m \u001b[1m10s\u001b[0m 1ms/step - accuracy: 0.9999 - loss: 0.0016 - val_accuracy: 1.0000 - val_loss: 1.5681e-04\n",
      "Epoch 41/50\n",
      "\u001b[1m8737/8737\u001b[0m \u001b[32m━━━━━━━━━━━━━━━━━━━━\u001b[0m\u001b[37m\u001b[0m \u001b[1m10s\u001b[0m 1ms/step - accuracy: 0.9999 - loss: 0.0012 - val_accuracy: 1.0000 - val_loss: 1.2053e-04\n",
      "Epoch 42/50\n",
      "\u001b[1m8737/8737\u001b[0m \u001b[32m━━━━━━━━━━━━━━━━━━━━\u001b[0m\u001b[37m\u001b[0m \u001b[1m10s\u001b[0m 1ms/step - accuracy: 0.9999 - loss: 0.0010 - val_accuracy: 1.0000 - val_loss: 1.1884e-04\n",
      "Epoch 43/50\n",
      "\u001b[1m8737/8737\u001b[0m \u001b[32m━━━━━━━━━━━━━━━━━━━━\u001b[0m\u001b[37m\u001b[0m \u001b[1m10s\u001b[0m 1ms/step - accuracy: 0.9999 - loss: 6.7394e-04 - val_accuracy: 1.0000 - val_loss: 1.4766e-04\n",
      "Epoch 44/50\n",
      "\u001b[1m8737/8737\u001b[0m \u001b[32m━━━━━━━━━━━━━━━━━━━━\u001b[0m\u001b[37m\u001b[0m \u001b[1m10s\u001b[0m 1ms/step - accuracy: 1.0000 - loss: 9.1305e-04 - val_accuracy: 1.0000 - val_loss: 1.2908e-04\n",
      "Epoch 45/50\n",
      "\u001b[1m8737/8737\u001b[0m \u001b[32m━━━━━━━━━━━━━━━━━━━━\u001b[0m\u001b[37m\u001b[0m \u001b[1m10s\u001b[0m 1ms/step - accuracy: 0.9999 - loss: 0.0019 - val_accuracy: 1.0000 - val_loss: 1.1642e-04\n",
      "Epoch 46/50\n",
      "\u001b[1m8737/8737\u001b[0m \u001b[32m━━━━━━━━━━━━━━━━━━━━\u001b[0m\u001b[37m\u001b[0m \u001b[1m10s\u001b[0m 1ms/step - accuracy: 0.9999 - loss: 0.0014 - val_accuracy: 1.0000 - val_loss: 1.0539e-04\n",
      "Epoch 47/50\n",
      "\u001b[1m8737/8737\u001b[0m \u001b[32m━━━━━━━━━━━━━━━━━━━━\u001b[0m\u001b[37m\u001b[0m \u001b[1m10s\u001b[0m 1ms/step - accuracy: 0.9999 - loss: 0.0014 - val_accuracy: 1.0000 - val_loss: 1.0743e-04\n",
      "Epoch 48/50\n",
      "\u001b[1m8737/8737\u001b[0m \u001b[32m━━━━━━━━━━━━━━━━━━━━\u001b[0m\u001b[37m\u001b[0m \u001b[1m10s\u001b[0m 1ms/step - accuracy: 0.9999 - loss: 0.0012 - val_accuracy: 1.0000 - val_loss: 1.0101e-04\n",
      "Epoch 49/50\n",
      "\u001b[1m8737/8737\u001b[0m \u001b[32m━━━━━━━━━━━━━━━━━━━━\u001b[0m\u001b[37m\u001b[0m \u001b[1m10s\u001b[0m 1ms/step - accuracy: 0.9999 - loss: 8.7333e-04 - val_accuracy: 1.0000 - val_loss: 1.1319e-04\n",
      "Epoch 50/50\n",
      "\u001b[1m8737/8737\u001b[0m \u001b[32m━━━━━━━━━━━━━━━━━━━━\u001b[0m\u001b[37m\u001b[0m \u001b[1m10s\u001b[0m 1ms/step - accuracy: 0.9999 - loss: 7.9078e-04 - val_accuracy: 1.0000 - val_loss: 1.3154e-04\n",
      "\u001b[1m2731/2731\u001b[0m \u001b[32m━━━━━━━━━━━━━━━━━━━━\u001b[0m\u001b[37m\u001b[0m \u001b[1m2s\u001b[0m 742us/step - accuracy: 0.9999 - loss: 0.0031\n",
      "Test Accuracy: 1.00\n"
     ]
    }
   ],
   "source": [
    "X_train, X_test, y_train, y_test = train_test_split(X_resampled_scaled, y_resampled_encoded, test_size=0.2, random_state=42)\n",
    "\n",
    "\n",
    "model = Sequential([\n",
    "    Dense(128, activation='relu', input_dim=X_train.shape[1]),  # Primera capa oculta con 128 nodos\n",
    "    Dropout(0.3),  # Dropout para prevenir sobreajuste\n",
    "    Dense(64, activation='relu'),  # Segunda capa oculta con 64 nodos\n",
    "    Dropout(0.3),\n",
    "    Dense(3, activation='softmax')  # Capa de salida para clasificación multiclase (3 clases)\n",
    "])\n",
    "\n",
    "# 6. Compilar el modelo\n",
    "model.compile(optimizer=Adam(learning_rate=0.001),\n",
    "              loss='categorical_crossentropy',  # Para problemas multiclase\n",
    "              metrics=['accuracy'])\n",
    "\n",
    "y_train_one_hot = to_categorical(y_train, num_classes=3)\n",
    "y_test_one_hot = to_categorical(y_test, num_classes=3)\n",
    "\n",
    "# Entrenar el modelo\n",
    "history = model.fit(X_train, y_train_one_hot, epochs=50, batch_size=32, validation_split=0.2, verbose=1)\n",
    "\n",
    "# Evaluar el modelo\n",
    "test_loss, test_accuracy = model.evaluate(X_test, y_test_one_hot)\n",
    "print(f\"Test Accuracy: {test_accuracy:.2f}\")"
   ]
  },
  {
   "cell_type": "code",
   "execution_count": 24,
   "metadata": {},
   "outputs": [
    {
     "name": "stdout",
     "output_type": "stream",
     "text": [
      "\u001b[1m2731/2731\u001b[0m \u001b[32m━━━━━━━━━━━━━━━━━━━━\u001b[0m\u001b[37m\u001b[0m \u001b[1m2s\u001b[0m 810us/step\n"
     ]
    },
    {
     "data": {
      "image/png": "[encoded data removed]",
      "text/plain": [
       "<Figure size 640x480 with 2 Axes>"
      ]
     },
     "metadata": {},
     "output_type": "display_data"
    },
    {
     "name": "stdout",
     "output_type": "stream",
     "text": [
      "Accuracy: 1.00\n",
      "Precision: 1.00\n",
      "Recall: 1.00\n",
      "F1 Score: 1.00\n"
     ]
    }
   ],
   "source": [
    "\n",
    "# Predict the labels for the test set\n",
    "y_pred_nn = model.predict(X_test)\n",
    "y_pred_nn_classes = np.argmax(y_pred_nn, axis=1)\n",
    "\n",
    "# Compute the confusion matrix\n",
    "cm = confusion_matrix(y_test, y_pred_nn_classes)\n",
    "\n",
    "# Plot the confusion matrix\n",
    "disp = ConfusionMatrixDisplay(confusion_matrix=cm, display_labels=label_encoder.classes_)\n",
    "disp.plot(cmap=plt.cm.Blues)\n",
    "plt.title('Confusion Matrix')\n",
    "plt.show()\n",
    "\n",
    "# Calculate and print other performance metrics\n",
    "accuracy = accuracy_score(y_test, y_pred_nn_classes)\n",
    "precision = precision_score(y_test, y_pred_nn_classes, average='weighted')\n",
    "recall = recall_score(y_test, y_pred_nn_classes, average='weighted')\n",
    "f1 = f1_score(y_test, y_pred_nn_classes, average='weighted')\n",
    "\n",
    "print(f'Accuracy: {accuracy:.2f}')\n",
    "print(f'Precision: {precision:.2f}')\n",
    "print(f'Recall: {recall:.2f}')\n",
    "print(f'F1 Score: {f1:.2f}')"
   ]
  },
  {
   "cell_type": "markdown",
   "metadata": {},
   "source": [
    "Como podemos ver en todas las metricas, los resultados son excelentes en esta detección de ataques por lo que añadiremos en el nivel 2 de la jerarquia este modelo."
   ]
  }
 ],
 "metadata": {
  "kernelspec": {
   "display_name": ".venv",
   "language": "python",
   "name": "python3"
  },
  "language_info": {
   "codemirror_mode": {
    "name": "ipython",
    "version": 3
   },
   "file_extension": ".py",
   "mimetype": "text/x-python",
   "name": "python",
   "nbconvert_exporter": "python",
   "pygments_lexer": "ipython3",
   "version": "3.10.11"
  }
 },
 "nbformat": 4,
 "nbformat_minor": 2
}
